{
 "cells": [
  {
   "cell_type": "markdown",
   "id": "31062f86-6d48-4ffc-af5a-ea233dab9ff2",
   "metadata": {},
   "source": [
    "# Search Engine\n",
    "## **Mana Saleh Al Aqeel**"
   ]
  },
  {
   "cell_type": "markdown",
   "id": "a5a84327-3a06-496b-9060-6778adb52bac",
   "metadata": {
    "jp-MarkdownHeadingCollapsed": true
   },
   "source": [
    "## Important Necessary Libraries"
   ]
  },
  {
   "cell_type": "code",
   "execution_count": null,
   "id": "bcddb4f8-30ab-4faa-b93c-3d6b50d43fc3",
   "metadata": {
    "execution": {
     "iopub.execute_input": "2024-08-07T03:02:59.223648Z",
     "iopub.status.busy": "2024-08-07T03:02:59.223382Z",
     "iopub.status.idle": "2024-08-07T03:02:59.226816Z",
     "shell.execute_reply": "2024-08-07T03:02:59.226381Z",
     "shell.execute_reply.started": "2024-08-07T03:02:59.223635Z"
    }
   },
   "outputs": [],
   "source": [
    "import pandas as pd\n",
    "import torch\n",
    "from sentence_transformers import SentenceTransformer\n",
    "from sentence_transformers.util import pytorch_cos_sim as cos_sim\n",
    "import faiss\n",
    "from sklearn.feature_extraction.text import TfidfVectorizer\n",
    "from sklearn.metrics.pairwise import cosine_similarity\n",
    "import numpy as np\n",
    "import pyarabic.araby as ar\n",
    "import re\n",
    "from tashaphyne.stemming import ArabicLightStemmer"
   ]
  },
  {
   "cell_type": "markdown",
   "id": "095b3029-a67b-4a54-a8ae-b4844b06215a",
   "metadata": {},
   "source": [
    "import model embedding arabic"
   ]
  },
  {
   "cell_type": "code",
   "execution_count": null,
   "id": "c8762e65-f8c3-4952-b219-84d18cdb5156",
   "metadata": {
    "execution": {
     "iopub.execute_input": "2024-08-07T03:03:06.446000Z",
     "iopub.status.busy": "2024-08-07T03:03:06.445737Z",
     "iopub.status.idle": "2024-08-07T03:03:09.526692Z",
     "shell.execute_reply": "2024-08-07T03:03:09.526266Z",
     "shell.execute_reply.started": "2024-08-07T03:03:06.445981Z"
    }
   },
   "outputs": [],
   "source": [
    "model = SentenceTransformer(\"acayir64/arabic-embedding-model-only-pairs\")"
   ]
  },
  {
   "cell_type": "markdown",
   "id": "c62d5152-a43e-41db-93d1-f5e51fd0ea8d",
   "metadata": {},
   "source": [
    "## Preprocessing Data"
   ]
  },
  {
   "cell_type": "code",
   "execution_count": null,
   "id": "75239a1a-643a-4a17-8b35-f8d3f3d9b9c5",
   "metadata": {
    "execution": {
     "iopub.execute_input": "2024-08-07T03:03:09.527511Z",
     "iopub.status.busy": "2024-08-07T03:03:09.527370Z",
     "iopub.status.idle": "2024-08-07T03:03:09.588097Z",
     "shell.execute_reply": "2024-08-07T03:03:09.587755Z",
     "shell.execute_reply.started": "2024-08-07T03:03:09.527497Z"
    }
   },
   "outputs": [],
   "source": [
    "df = pd.read_csv('CompanyReviews.csv')\n",
    "df.head()"
   ]
  },
  {
   "cell_type": "code",
   "execution_count": null,
   "id": "67bfd6e4-0aaf-452e-a45f-58f2cacd7590",
   "metadata": {
    "execution": {
     "iopub.execute_input": "2024-08-07T03:03:10.081352Z",
     "iopub.status.busy": "2024-08-07T03:03:10.081161Z",
     "iopub.status.idle": "2024-08-07T03:03:10.085126Z",
     "shell.execute_reply": "2024-08-07T03:03:10.084769Z",
     "shell.execute_reply.started": "2024-08-07T03:03:10.081339Z"
    }
   },
   "outputs": [],
   "source": [
    "def preprocess_arabic_text(text):\n",
    "    if not isinstance(text, str):\n",
    "        raise ValueError(\"Input must be a string.\")\n",
    "    \n",
    "    if not text.strip():\n",
    "        return \"\"  \n",
    "\n",
    "    stemmer = ArabicLightStemmer()\n",
    "    \n",
    "    text = ar.normalize_hamza(text)\n",
    "    text = ar.normalize_ligature(text)\n",
    "    text = ar.strip_tashkeel(text)\n",
    "    text = ar.strip_tatweel(text)\n",
    "    text = ar.strip_harakat(text)\n",
    "\n",
    "    text = re.sub(r'[^أ-يa-zA-Z0-9\\s]', '', text)\n",
    "    \n",
    "    tokens = ar.tokenize(text)\n",
    "    \n",
    "    processed_tokens = [stemmer.light_stem(token) for token in tokens]\n",
    "    \n",
    "    processed_text = ' '.join(processed_tokens)\n",
    "    \n",
    "    return processed_text"
   ]
  },
  {
   "cell_type": "markdown",
   "id": "46bd8a3f-43f4-40cc-8e53-a5e9fc4cd490",
   "metadata": {},
   "source": [
    "### `preprocess_arabic_text` Function\n",
    "\n",
    "This function prepares Arabic text for analysis by performing the following steps:\n",
    "\n",
    "1. **Input Validation**\n",
    "   - Ensures the input is a string. If it isn't, an error is raised.\n",
    "\n",
    "2. **Empty String Check**\n",
    "   - Returns an empty string if the input consists only of whitespace.\n",
    "\n",
    "3. **Initialization**\n",
    "   - Sets up a stemmer to reduce words to their root forms.\n",
    "\n",
    "4. **Normalization and Cleaning**\n",
    "   - Standardizes the text by normalizing variations of specific characters and removing diacritics and elongation marks.\n",
    "\n",
    "5. **Remove Punctuation**\n",
    "   - Strips out all non-essential characters, retaining only Arabic letters, English letters, digits, and spaces.\n",
    "\n",
    "6. **Tokenization**\n",
    "   - Splits the text into individual words or tokens.\n",
    "\n",
    "7. **Stemming**\n",
    "   - Applies stemming to each token to reduce it to its base or root form.\n",
    "\n",
    "8. **Reconstruct Processed Text**\n",
    "   - Joins the processed tokens back into a single string.\n",
    "\n",
    "9. **Return Processed Text**\n",
    "   - Outputs the cleaned and processed text.\n"
   ]
  },
  {
   "cell_type": "code",
   "execution_count": null,
   "id": "07d38774-7769-43fe-8328-74e619ffc07a",
   "metadata": {
    "execution": {
     "iopub.execute_input": "2024-08-07T03:03:11.294441Z",
     "iopub.status.busy": "2024-08-07T03:03:11.294172Z",
     "iopub.status.idle": "2024-08-07T03:03:11.303352Z",
     "shell.execute_reply": "2024-08-07T03:03:11.302740Z",
     "shell.execute_reply.started": "2024-08-07T03:03:11.294412Z"
    }
   },
   "outputs": [],
   "source": [
    "text = df['review_description'].fillna('')"
   ]
  },
  {
   "cell_type": "code",
   "execution_count": null,
   "id": "e90ed76f-2ddb-4883-8fdb-c4f05214f38f",
   "metadata": {
    "execution": {
     "iopub.execute_input": "2024-08-07T03:03:12.040921Z",
     "iopub.status.busy": "2024-08-07T03:03:12.040658Z",
     "iopub.status.idle": "2024-08-07T03:03:46.557606Z",
     "shell.execute_reply": "2024-08-07T03:03:46.557142Z",
     "shell.execute_reply.started": "2024-08-07T03:03:12.040900Z"
    }
   },
   "outputs": [],
   "source": [
    "df['preprocessed_text'] = text.apply(preprocess_arabic_text)"
   ]
  },
  {
   "cell_type": "code",
   "execution_count": null,
   "id": "700c25d8-833b-4303-b19b-be398888acc2",
   "metadata": {
    "execution": {
     "iopub.execute_input": "2024-08-07T03:03:46.558423Z",
     "iopub.status.busy": "2024-08-07T03:03:46.558291Z",
     "iopub.status.idle": "2024-08-07T03:03:46.565423Z",
     "shell.execute_reply": "2024-08-07T03:03:46.565083Z",
     "shell.execute_reply.started": "2024-08-07T03:03:46.558404Z"
    }
   },
   "outputs": [],
   "source": [
    "df[['review_description', 'preprocessed_text']].head()"
   ]
  },
  {
   "cell_type": "code",
   "execution_count": null,
   "id": "2314e9e9-7015-4e3f-94aa-8fa3cd06d9c3",
   "metadata": {
    "execution": {
     "iopub.execute_input": "2024-08-07T03:03:46.565963Z",
     "iopub.status.busy": "2024-08-07T03:03:46.565850Z",
     "iopub.status.idle": "2024-08-07T03:03:46.574977Z",
     "shell.execute_reply": "2024-08-07T03:03:46.574424Z",
     "shell.execute_reply.started": "2024-08-07T03:03:46.565951Z"
    }
   },
   "outputs": [],
   "source": [
    "doc = df['preprocessed_text'].fillna('').tolist()"
   ]
  },
  {
   "cell_type": "code",
   "execution_count": null,
   "id": "856358d1-9f42-456b-a650-594ee9f7781c",
   "metadata": {
    "execution": {
     "iopub.execute_input": "2024-08-07T03:03:46.576147Z",
     "iopub.status.busy": "2024-08-07T03:03:46.575890Z",
     "iopub.status.idle": "2024-08-07T03:03:46.578844Z",
     "shell.execute_reply": "2024-08-07T03:03:46.578579Z",
     "shell.execute_reply.started": "2024-08-07T03:03:46.576134Z"
    }
   },
   "outputs": [],
   "source": [
    "len(doc)"
   ]
  },
  {
   "cell_type": "markdown",
   "id": "c0f67355-1101-4e6e-bbbd-ac2ee8478560",
   "metadata": {},
   "source": [
    "### Encoding Document into Embeddings"
   ]
  },
  {
   "cell_type": "code",
   "execution_count": null,
   "id": "4b5db0ed-f8e0-4d28-8049-b38c80a4f090",
   "metadata": {
    "execution": {
     "iopub.execute_input": "2024-08-07T03:03:46.579247Z",
     "iopub.status.busy": "2024-08-07T03:03:46.579147Z",
     "iopub.status.idle": "2024-08-07T03:08:44.214072Z",
     "shell.execute_reply": "2024-08-07T03:08:44.213669Z",
     "shell.execute_reply.started": "2024-08-07T03:03:46.579236Z"
    }
   },
   "outputs": [],
   "source": [
    "doc_embedding = model.encode(doc , convert_to_tensor= True)"
   ]
  },
  {
   "cell_type": "code",
   "execution_count": null,
   "id": "8b0166a7-269c-476e-91f7-15a2c927cae4",
   "metadata": {
    "execution": {
     "iopub.execute_input": "2024-08-07T03:08:44.214915Z",
     "iopub.status.busy": "2024-08-07T03:08:44.214783Z",
     "iopub.status.idle": "2024-08-07T03:08:44.217986Z",
     "shell.execute_reply": "2024-08-07T03:08:44.217705Z",
     "shell.execute_reply.started": "2024-08-07T03:08:44.214902Z"
    }
   },
   "outputs": [],
   "source": [
    "doc_embedding.shape"
   ]
  },
  {
   "cell_type": "markdown",
   "id": "2214a1aa-065b-43d9-b0f9-3d5670ca19fa",
   "metadata": {},
   "source": [
    "### Saving Tensor to File\n",
    "\n",
    "- **Purpose**: To persist the tensor for future use, avoiding the need to recompute it."
   ]
  },
  {
   "cell_type": "code",
   "execution_count": null,
   "id": "59b23c45-db29-4ff9-aa95-b2166e19b552",
   "metadata": {
    "execution": {
     "iopub.execute_input": "2024-08-07T03:08:44.218545Z",
     "iopub.status.busy": "2024-08-07T03:08:44.218435Z",
     "iopub.status.idle": "2024-08-07T03:08:44.431136Z",
     "shell.execute_reply": "2024-08-07T03:08:44.430673Z",
     "shell.execute_reply.started": "2024-08-07T03:08:44.218533Z"
    }
   },
   "outputs": [],
   "source": [
    "torch.save(doc_embedding, 'doc_embedding.pt')"
   ]
  },
  {
   "cell_type": "code",
   "execution_count": null,
   "id": "0acd340b-e262-45c0-acc0-8a25c112317d",
   "metadata": {
    "execution": {
     "iopub.execute_input": "2024-08-07T03:08:44.431784Z",
     "iopub.status.busy": "2024-08-07T03:08:44.431646Z",
     "iopub.status.idle": "2024-08-07T03:08:44.491239Z",
     "shell.execute_reply": "2024-08-07T03:08:44.490832Z",
     "shell.execute_reply.started": "2024-08-07T03:08:44.431767Z"
    }
   },
   "outputs": [],
   "source": [
    "embedding = torch.load('doc_embedding.pt' , map_location=torch.device('cpu'))"
   ]
  },
  {
   "cell_type": "markdown",
   "id": "72fbaf1c-e8cd-4a2d-b1a8-94b349bbdb24",
   "metadata": {},
   "source": [
    "---"
   ]
  },
  {
   "cell_type": "markdown",
   "id": "bee033ad-4943-451b-a743-0d1ebdc01662",
   "metadata": {},
   "source": [
    "## Semantic search and TFIDF"
   ]
  },
  {
   "cell_type": "code",
   "execution_count": 16,
   "id": "c7a2ca48-232d-496c-adf2-41ca8b3de1b6",
   "metadata": {
    "execution": {
     "iopub.execute_input": "2024-08-07T03:09:30.534784Z",
     "iopub.status.busy": "2024-08-07T03:09:30.534307Z",
     "iopub.status.idle": "2024-08-07T03:09:30.538991Z",
     "shell.execute_reply": "2024-08-07T03:09:30.538280Z",
     "shell.execute_reply.started": "2024-08-07T03:09:30.534762Z"
    }
   },
   "outputs": [],
   "source": [
    "def semantic_search(query, top_k=3):\n",
    "    query_embedding = model.encode(preprocess_arabic_text(query) , convert_to_tensor=True)\n",
    "    \n",
    "    cosine_scores = cos_sim(query_embedding, embedding)[0]\n",
    "    \n",
    "    top_indices = np.argpartition(-cosine_scores.cpu().numpy(), range(top_k))[:top_k]\n",
    "    \n",
    "    print(f\"Query: {query}\\nTop {top_k} most similar documents:\")\n",
    "    for idx in top_indices:\n",
    "        print(f\"Document: {text[idx]}, Score: {cosine_scores[idx].item():.4f}\")"
   ]
  },
  {
   "cell_type": "markdown",
   "id": "884c1687-89e7-4ebe-a29e-b6cede25d45b",
   "metadata": {},
   "source": [
    "### `semantic_search` Function\n",
    "\n",
    "The `semantic_search` function performs a search to find the most similar documents to a given query based on semantic embeddings.\n",
    "\n",
    "1. **Encode Query**: The function starts by converting the preprocessed query into an embedding vector using a model. This embedding represents the semantic content of the query.\n",
    "\n",
    "2. **Compute Similarities**: It then calculates the cosine similarity between the query embedding and the embeddings of all documents. Cosine similarity measures how similar the query is to each document.\n",
    "\n",
    "3. **Identify Top-k Results**: The function identifies the top-k most similar documents by sorting the cosine similarity scores and selecting the top indices.\n",
    "\n",
    "4. **Display Results**: Finally, it prints the query and the top-k most similar documents along with their similarity scores. This helps in understanding which documents are most relevant to the query based on their semantic content.\n",
    "\n",
    "**Purpose**: This function is used to retrieve and rank documents that are semantically closest to a given query, facilitating effective information retrieval.\n"
   ]
  },
  {
   "cell_type": "code",
   "execution_count": 17,
   "id": "be175032-4c4f-423a-ab10-3770a3ad58a5",
   "metadata": {
    "execution": {
     "iopub.execute_input": "2024-08-07T03:09:38.971224Z",
     "iopub.status.busy": "2024-08-07T03:09:38.970957Z",
     "iopub.status.idle": "2024-08-07T03:10:14.019747Z",
     "shell.execute_reply": "2024-08-07T03:10:14.019156Z",
     "shell.execute_reply.started": "2024-08-07T03:09:38.971204Z"
    },
    "scrolled": true
   },
   "outputs": [
    {
     "name": "stdin",
     "output_type": "stream",
     "text": [
      "Enter your query (or type 'exit' to quit):  يساعد على تلبيه الاحتياجات\n"
     ]
    },
    {
     "name": "stdout",
     "output_type": "stream",
     "text": [
      "Query: يساعد على تلبيه الاحتياجات\n",
      "Top 3 most similar documents:\n",
      "Document: يساعدني علي سداد فواتيري, Score: 0.6929\n",
      "Document: التطبيق إلى قبل افضل, Score: 0.6752\n",
      "Document: ساعد أكثر, Score: 0.6697\n"
     ]
    },
    {
     "name": "stdin",
     "output_type": "stream",
     "text": [
      "Enter your query (or type 'exit' to quit):  يساعد \n"
     ]
    },
    {
     "name": "stdout",
     "output_type": "stream",
     "text": [
      "Query: يساعد \n",
      "Top 3 most similar documents:\n",
      "Document: يساعد, Score: 1.0000\n",
      "Document: Helpful, Score: 0.9250\n",
      "Document: helpful, Score: 0.8366\n"
     ]
    },
    {
     "name": "stdin",
     "output_type": "stream",
     "text": [
      "Enter your query (or type 'exit' to quit):   تلبيه الاحتياجات\n"
     ]
    },
    {
     "name": "stdout",
     "output_type": "stream",
     "text": [
      "Query:  تلبيه الاحتياجات\n",
      "Top 3 most similar documents:\n",
      "Document: الب, Score: 0.8342\n",
      "Document: كلب, Score: 0.8342\n",
      "Document: كلبي, Score: 0.8342\n"
     ]
    },
    {
     "name": "stdin",
     "output_type": "stream",
     "text": [
      "Enter your query (or type 'exit' to quit):   على تلبيه الاحتياجات\n"
     ]
    },
    {
     "name": "stdout",
     "output_type": "stream",
     "text": [
      "Query:  على تلبيه الاحتياجات\n",
      "Top 3 most similar documents:\n",
      "Document: ابوكم ولاد كلب, Score: 0.7751\n",
      "Document: ابو كلب, Score: 0.7508\n",
      "Document: ابو كلب, Score: 0.7508\n"
     ]
    },
    {
     "name": "stdin",
     "output_type": "stream",
     "text": [
      "Enter your query (or type 'exit' to quit):  q\n"
     ]
    }
   ],
   "source": [
    "while True:\n",
    "    user_query = input(\"Enter your query (or type 'exit' to quit): \")\n",
    "    if user_query == 'q':\n",
    "        break\n",
    "    semantic_search(user_query)"
   ]
  },
  {
   "cell_type": "markdown",
   "id": "fcbed2a0-c230-43f5-bd9e-47d27758abf8",
   "metadata": {},
   "source": [
    "---"
   ]
  },
  {
   "cell_type": "markdown",
   "id": "3186e10d-ceb4-44c3-93d3-be6eac5799ef",
   "metadata": {},
   "source": [
    "Converts text into numerical features that reflect term importance within the documents."
   ]
  },
  {
   "cell_type": "code",
   "execution_count": 18,
   "id": "b1b19042-ae4e-407f-b608-3bdab4d2b54c",
   "metadata": {
    "execution": {
     "iopub.execute_input": "2024-08-07T03:10:21.901999Z",
     "iopub.status.busy": "2024-08-07T03:10:21.901217Z",
     "iopub.status.idle": "2024-08-07T03:10:22.188012Z",
     "shell.execute_reply": "2024-08-07T03:10:22.187430Z",
     "shell.execute_reply.started": "2024-08-07T03:10:21.901977Z"
    }
   },
   "outputs": [],
   "source": [
    "tfidf_vectorizer = TfidfVectorizer()\n",
    "tfidf_matrix = tfidf_vectorizer.fit_transform(doc)"
   ]
  },
  {
   "cell_type": "code",
   "execution_count": null,
   "id": "fddcf60d-dd7e-4c30-87d7-35ec30504c75",
   "metadata": {
    "execution": {
     "iopub.execute_input": "2024-08-07T03:10:23.611998Z",
     "iopub.status.busy": "2024-08-07T03:10:23.611745Z",
     "iopub.status.idle": "2024-08-07T03:10:23.616768Z",
     "shell.execute_reply": "2024-08-07T03:10:23.616153Z",
     "shell.execute_reply.started": "2024-08-07T03:10:23.611978Z"
    }
   },
   "outputs": [],
   "source": [
    "def hybrid_search(query, top_k=3, weight_st=.5, weight_tfidf=.5):\n",
    "    preprocessed_query = preprocess_arabic_text(query)\n",
    "    query_embedding = model.encode(preprocessed_query , convert_to_tensor=True)\n",
    "    \n",
    "    cosine_scores = cos_sim(query_embedding, embedding)[0]\n",
    "    \n",
    "    query_tfidf = tfidf_vectorizer.transform([preprocessed_query])\n",
    "    tfidf_similarities = cosine_similarity(query_tfidf, tfidf_matrix)[0]\n",
    "\n",
    "    combined_scores = (weight_st * cosine_scores.cpu().numpy() + weight_tfidf * tfidf_similarities) / (weight_st + weight_tfidf)\n",
    "    #normalize_scores = (combined_scores - np.min(combined_scores)) / (np.max(combined_scores) - np.min(combined_scores))\n",
    "\n",
    "    top_results = np.argpartition(-combined_scores, range(top_k))[:top_k]\n",
    "\n",
    "    print(f\"Query: {query}\\nTop {top_k} most similar documents:\")\n",
    "    for idx in top_results:\n",
    "        print(f\"Document: {text[idx]}, Combined Score: {combined_scores[idx]:.4f}\")\n"
   ]
  },
  {
   "cell_type": "markdown",
   "id": "86e72678-7fa6-4d86-aa22-00b5d1862464",
   "metadata": {},
   "source": [
    "### `hybrid_search` Function\n",
    "\n",
    "The `hybrid_search` function performs a semantic and TF-IDF based search to find the most relevant documents to a query.\n",
    "\n",
    "1. **Preprocess Query**: The query is preprocessed using `preprocess_arabic_text`.\n",
    "\n",
    "2. **Compute Semantic Similarity**:\n",
    "   - The preprocessed query is encoded into an embedding vector.\n",
    "   - Cosine similarity is computed between the query embedding and document embeddings.\n",
    "\n",
    "3. **Compute TF-IDF Similarity**:\n",
    "   - The query is transformed into a TF-IDF vector.\n",
    "   - Cosine similarity is calculated between the query's TF-IDF vector and the TF-IDF matrix of the documents.\n",
    "\n",
    "4. **Combine Scores**:\n",
    "   - The semantic and TF-IDF similarities are combined using weighted averages.\n",
    "   - **`weight_st`** and **`weight_tfidf`** determine the contribution of semantic and TF-IDF scores, respectively.\n",
    "\n",
    "5. **Identify Top Results**:\n",
    "   - The top-k documents are selected based on the combined scores.\n",
    "\n",
    "6. **Display Results**:\n",
    "   - The function prints the query and the top-k most similar documents along with their combined scores.\n",
    "\n",
    "**Purpose**: To retrieve documents that are most similar to the query by combining semantic and TF-IDF based similarities for improved relevance.\n"
   ]
  },
  {
   "cell_type": "code",
   "execution_count": 20,
   "id": "0023d528-e3fb-43c7-9be0-d43f6aef0a9b",
   "metadata": {
    "execution": {
     "iopub.execute_input": "2024-08-07T03:10:24.471377Z",
     "iopub.status.busy": "2024-08-07T03:10:24.471125Z",
     "iopub.status.idle": "2024-08-07T03:10:59.025823Z",
     "shell.execute_reply": "2024-08-07T03:10:59.024929Z",
     "shell.execute_reply.started": "2024-08-07T03:10:24.471358Z"
    },
    "scrolled": true
   },
   "outputs": [
    {
     "name": "stdin",
     "output_type": "stream",
     "text": [
      "Enter your query (or type 'exit' to quit):  يساعد على تلبيه الاحتياجات\n"
     ]
    },
    {
     "name": "stdout",
     "output_type": "stream",
     "text": [
      "Query: يساعد على تلبيه الاحتياجات\n",
      "Top 3 most similar documents:\n",
      "Document: برنامج رائع جدا يساعد على تلبيه الاحتياجات بشكل اسرع, Combined Score: 0.6480\n",
      "Document: يساعد, Combined Score: 0.5833\n",
      "Document: ساعد أكثر, Combined Score: 0.5286\n"
     ]
    },
    {
     "name": "stdin",
     "output_type": "stream",
     "text": [
      "Enter your query (or type 'exit' to quit):  يساعد\n"
     ]
    },
    {
     "name": "stdout",
     "output_type": "stream",
     "text": [
      "Query: يساعد\n",
      "Top 3 most similar documents:\n",
      "Document: يساعد, Combined Score: 1.0000\n",
      "Document: يساعدني في كل شيء, Combined Score: 0.7585\n",
      "Document: ساعد أكثر, Combined Score: 0.7573\n"
     ]
    },
    {
     "name": "stdin",
     "output_type": "stream",
     "text": [
      "Enter your query (or type 'exit' to quit):   تلبيه الاحتياجات\n"
     ]
    },
    {
     "name": "stdout",
     "output_type": "stream",
     "text": [
      "Query:  تلبيه الاحتياجات\n",
      "Top 3 most similar documents:\n",
      "Document: الب, Combined Score: 0.7427\n",
      "Document: كلب, Combined Score: 0.7427\n",
      "Document: كلبي, Combined Score: 0.7427\n"
     ]
    },
    {
     "name": "stdin",
     "output_type": "stream",
     "text": [
      "Enter your query (or type 'exit' to quit):  على تلبيه الاحتياجات\n"
     ]
    },
    {
     "name": "stdout",
     "output_type": "stream",
     "text": [
      "Query: على تلبيه الاحتياجات\n",
      "Top 3 most similar documents:\n",
      "Document: الب, Combined Score: 0.6799\n",
      "Document: كلب, Combined Score: 0.6799\n",
      "Document: كلبي, Combined Score: 0.6799\n"
     ]
    },
    {
     "name": "stdin",
     "output_type": "stream",
     "text": [
      "Enter your query (or type 'exit' to quit):  q\n"
     ]
    }
   ],
   "source": [
    "while True:\n",
    "    user_query = input(\"Enter your query (or type 'exit' to quit): \")\n",
    "    if user_query == 'q':\n",
    "        break\n",
    "    hybrid_search(user_query)"
   ]
  },
  {
   "cell_type": "markdown",
   "id": "cb5ee112-dd2a-44ae-a6b3-41f853512024",
   "metadata": {},
   "source": [
    "---"
   ]
  },
  {
   "cell_type": "markdown",
   "id": "c8a3c470-5b3d-41a4-955c-57b3053d7dfd",
   "metadata": {},
   "source": [
    "## Faiss"
   ]
  },
  {
   "cell_type": "code",
   "execution_count": 21,
   "id": "413093a7-dc18-4eeb-994c-3f303a4fe140",
   "metadata": {
    "execution": {
     "iopub.execute_input": "2024-08-07T03:11:06.808652Z",
     "iopub.status.busy": "2024-08-07T03:11:06.808143Z",
     "iopub.status.idle": "2024-08-07T03:11:06.812406Z",
     "shell.execute_reply": "2024-08-07T03:11:06.811905Z",
     "shell.execute_reply.started": "2024-08-07T03:11:06.808631Z"
    }
   },
   "outputs": [
    {
     "data": {
      "text/plain": [
       "faiss.swigfaiss_avx2.Index"
      ]
     },
     "execution_count": 21,
     "metadata": {},
     "output_type": "execute_result"
    }
   ],
   "source": [
    "faiss.Index"
   ]
  },
  {
   "cell_type": "code",
   "execution_count": 22,
   "id": "a9ee4581-b3bd-48e6-8b5d-c5b51dac77b7",
   "metadata": {
    "execution": {
     "iopub.execute_input": "2024-08-07T03:11:08.200079Z",
     "iopub.status.busy": "2024-08-07T03:11:08.199793Z",
     "iopub.status.idle": "2024-08-07T03:11:08.209536Z",
     "shell.execute_reply": "2024-08-07T03:11:08.208896Z",
     "shell.execute_reply.started": "2024-08-07T03:11:08.200059Z"
    },
    "scrolled": true
   },
   "outputs": [
    {
     "name": "stdout",
     "output_type": "stream",
     "text": [
      "كثير العلانات على فاضي طورو حالكم\n",
      "ثير علان على ضي طور حال\n",
      "tensor([-3.1479e-02, -5.7117e-01,  3.1469e-01, -1.1622e-01,  8.7758e-02,\n",
      "        -1.6345e-01, -3.2968e-01,  5.8213e-01,  1.1912e-01,  3.6421e-01,\n",
      "        -7.7369e-01, -1.6374e-02,  3.5413e-01,  3.7312e-01, -6.4841e-01,\n",
      "         4.4944e-01, -1.8668e-01, -2.9280e-01, -2.0952e-01,  3.6817e-01,\n",
      "        -2.4352e-01, -4.6627e-01, -1.2433e+00, -4.9719e-01, -1.0315e+00,\n",
      "         3.0023e-01,  2.0854e-01,  3.5614e-01,  1.3048e+00,  7.0860e-02,\n",
      "         3.4594e-01, -2.4703e-03,  3.0673e-01, -9.1111e-01, -5.8031e-01,\n",
      "         1.2260e-01,  8.2773e-01,  2.4389e-01,  3.9348e-01, -2.7214e-01,\n",
      "         2.5922e-01,  6.0404e-01, -8.6121e-02, -3.7856e-01, -1.2655e-01,\n",
      "         5.8635e-01, -2.7992e-02,  5.2387e-01, -2.2740e-01, -4.9450e-01,\n",
      "         3.6209e-01,  9.4444e-02,  2.7760e-02, -1.3656e+00, -3.1027e-01,\n",
      "        -9.1427e-01, -2.8379e-01,  9.4310e-01,  3.2024e-01, -1.5282e-01,\n",
      "         1.6006e-01,  7.0945e-01,  7.0040e-01,  5.6697e-02, -1.6543e+00,\n",
      "         8.7593e-02, -7.0257e-01, -3.7357e-01,  7.6106e-02, -7.1175e-01,\n",
      "        -5.4520e-01, -1.4775e-02, -1.1320e+00,  4.5458e-01, -2.2088e-02,\n",
      "        -2.6486e-01,  4.3203e-01, -1.6668e-01,  6.0143e-01, -8.0821e-01,\n",
      "         4.7074e-01, -9.1703e-01,  2.3939e-01,  1.3543e+00,  1.4392e-01,\n",
      "        -4.7287e-01,  4.0377e-02,  1.1319e+00, -2.2333e-01, -1.5574e-01,\n",
      "        -5.9400e-01,  8.8406e-01, -4.0559e-01,  9.2956e-01, -5.0510e-01,\n",
      "        -2.1046e-01, -9.3224e-03, -1.9977e-02,  6.8517e-01, -1.1804e+00,\n",
      "         5.9910e-01, -9.5920e-01, -3.7493e-01,  5.6414e-01, -7.9772e-02,\n",
      "         2.1046e-01,  5.2762e-01, -3.8191e-02, -3.8431e-01,  1.1431e-01,\n",
      "        -5.4702e-01,  2.4737e-01,  6.5726e-01, -1.2927e+00, -3.5286e-01,\n",
      "        -3.4443e-01,  9.3727e-01,  1.5320e-01,  4.0928e-01,  3.5397e-01,\n",
      "        -1.8608e-01, -4.3553e-01,  3.7479e-01, -2.8843e-01,  3.3014e-01,\n",
      "         3.4399e-01, -1.2007e-01,  9.3951e-02,  1.0664e+00,  2.5780e-01,\n",
      "        -3.4903e-01,  1.1154e-01,  4.5066e-01, -5.4902e-01, -3.9926e-01,\n",
      "        -1.6600e+00,  1.7939e-01,  4.4681e-01, -3.9048e-01,  2.4050e-01,\n",
      "        -1.0130e+00, -4.4491e-01,  1.2591e-01,  1.4136e+00, -7.3674e-01,\n",
      "        -3.8992e-01,  2.1582e-01,  9.3948e-01, -1.5538e-01, -9.3088e-01,\n",
      "         1.0199e+00, -8.7997e-01,  1.6597e+00, -4.0978e-01, -1.4945e-03,\n",
      "        -1.3795e-01, -8.0770e-02, -2.2405e-01, -1.0201e+00, -1.5377e-01,\n",
      "         7.1437e-01, -1.6828e-01,  2.0666e-01, -2.8557e-01,  6.3671e-01,\n",
      "        -2.9668e-02, -1.2078e-01, -2.6634e-01,  7.9016e-02,  1.5259e-01,\n",
      "        -2.9740e-01,  1.4726e-01, -4.3417e-02, -2.6705e-02,  1.0702e+00,\n",
      "         2.8424e-01, -5.4142e-01, -1.7619e-01,  4.7331e-01, -1.7998e-03,\n",
      "        -1.9780e-01,  5.4821e-01, -4.5893e-01, -2.3604e-01, -2.3224e-01,\n",
      "         2.8907e-01, -2.6969e-01,  2.8410e-01,  1.5164e-01, -3.6349e-01,\n",
      "        -5.6964e-01,  4.9072e-02,  1.0047e+00, -1.4818e+00, -6.7063e-02,\n",
      "         1.3993e+00,  3.8383e-01,  1.9386e-01, -6.1903e-01, -1.0650e-01,\n",
      "         6.5584e-01, -9.9187e-02, -3.3717e-01,  1.1896e-01,  1.9498e-02,\n",
      "        -1.0595e-01,  1.2268e+00,  5.3694e-02, -5.8503e-01,  6.9932e-01,\n",
      "         8.6819e-02,  7.5458e-01, -4.9288e-01,  1.5391e-01,  2.7196e-01,\n",
      "         1.7288e-01, -3.6204e-01,  8.7351e-01,  4.9257e-01, -6.0987e-01,\n",
      "         1.0057e+00, -9.1912e-01,  7.3139e-01, -6.1173e-01, -3.7059e-01,\n",
      "         6.7936e-01,  5.3799e-01, -4.1804e-02, -2.1599e-02, -6.4886e-01,\n",
      "         5.9247e-01,  7.4224e-01, -5.9288e-01,  6.1051e-01, -6.2413e-01,\n",
      "        -1.1528e+00,  1.1844e+00, -2.7175e-01, -3.3716e-01, -1.8666e+00,\n",
      "         1.0355e+00, -1.8790e-02, -1.7274e-01, -3.0100e-01, -5.3356e-02,\n",
      "        -1.3304e-01, -3.2512e-01, -1.1879e+00, -2.9542e-01,  9.8335e-01,\n",
      "        -7.5396e-01,  2.2272e-01,  2.2934e-01, -2.6348e-01, -3.2666e-01,\n",
      "         2.4880e-01,  9.8071e-01,  5.4172e-01, -4.6855e-01, -7.5873e-01,\n",
      "        -2.7718e-01, -1.1035e-01, -3.7824e-01, -2.1095e-01, -3.5089e-01,\n",
      "        -1.4984e-01,  1.0157e+00, -6.4843e-01,  7.2564e-01,  6.2726e-02,\n",
      "        -5.0060e-01,  3.6819e-01, -5.5113e-01,  3.6182e-02, -7.2829e-01,\n",
      "         5.0590e-01, -3.1075e-01, -5.7116e-01,  8.2529e-01, -9.9336e-02,\n",
      "        -1.3735e-02,  1.1348e-01,  5.9497e-01,  5.6768e-01, -2.6877e-01,\n",
      "         8.2598e-01, -2.6156e-01,  8.9954e-02,  1.3273e-01,  5.0488e-01,\n",
      "        -1.0656e-01,  9.8210e-01, -2.5413e-01,  7.3424e-01,  4.4257e-01,\n",
      "        -3.1928e-01,  5.4785e-01,  8.6508e-01,  9.0039e-01,  2.4196e-01,\n",
      "         1.4516e-01,  1.7814e-01,  4.1646e-01,  8.8514e-02,  6.8231e-02,\n",
      "         1.1420e+00,  1.1862e+00, -4.1893e-01,  3.8271e-01,  3.2253e-01,\n",
      "         3.2649e-01, -2.5377e-01, -1.6700e-01,  1.3558e+00, -2.9403e-01,\n",
      "         7.2032e-01, -3.4727e-01,  1.9586e-01,  9.2886e-01,  4.9322e-01,\n",
      "         7.5507e-02,  3.8545e-02, -4.2939e-02, -5.5153e-01,  6.6883e-01,\n",
      "        -3.2801e-01, -2.6053e-01,  1.0540e-01, -4.4207e-02, -1.2442e-01,\n",
      "        -2.3949e-01,  4.1116e-01, -6.8208e-01, -3.1737e-01, -2.2283e-02,\n",
      "         3.2137e-01, -9.2532e-01,  8.1508e-02,  1.2979e-01,  1.1907e-01,\n",
      "        -6.0356e-01,  6.2627e-01, -4.4892e-01,  9.6835e-02,  5.4386e-01,\n",
      "        -2.0293e-01,  5.6498e-01,  1.1641e+00, -6.0405e-01, -1.1361e-01,\n",
      "         7.1638e-01, -1.1462e+00, -4.8476e-01,  3.6243e-01, -1.5266e-02,\n",
      "        -5.1514e-01, -1.1572e+00, -2.6020e-01, -1.6632e-01,  9.2686e-01,\n",
      "         2.5979e-01, -3.0389e-01,  2.6587e-01, -4.1665e-02,  1.3379e+00,\n",
      "         6.6216e-01,  8.1396e-01,  1.5950e+00,  7.5839e-01,  1.0801e+00,\n",
      "         4.3610e-01, -4.8085e-01,  1.4740e-01, -1.4311e-01, -4.6136e-01,\n",
      "         1.0896e-01,  8.8980e-02, -9.6914e-01,  1.0747e-02, -7.4533e-01,\n",
      "        -3.5353e-01, -1.5601e-01,  5.0765e-01,  2.2665e-01,  2.0897e-01,\n",
      "         1.3175e-01,  5.4414e-01, -1.6484e-01, -2.3974e-01,  2.0073e-01,\n",
      "         3.6389e-01, -2.2451e+00, -6.7750e-01, -1.4501e+00,  4.4392e-01,\n",
      "        -2.2873e-01,  1.7739e-01,  5.0839e-01,  4.1360e-01,  6.6928e-03,\n",
      "         1.5004e-01, -4.8880e-03, -4.8149e-01,  8.3947e-01, -1.0042e-02,\n",
      "         4.5547e-01, -7.6922e-01, -9.2006e-01, -1.9462e-01, -9.2428e-01,\n",
      "        -3.0990e-01,  4.8843e-01,  2.3589e-01, -5.8040e-02, -7.4365e-01,\n",
      "        -4.2874e-01,  1.5226e-01,  2.1930e-01,  6.2785e-01, -8.7500e-02,\n",
      "         1.3664e-01,  6.3934e-01, -2.3493e-01, -4.9660e-01, -2.4449e-01,\n",
      "        -1.1996e+00, -1.2460e-01,  1.7524e-02,  1.6078e-02, -3.1832e-01,\n",
      "         2.2936e-01, -2.9660e-01,  2.0687e-01,  3.4920e-01, -6.2574e-01,\n",
      "         1.5283e-01, -7.1604e-01,  3.3262e-01,  1.3357e+00, -5.0487e-01,\n",
      "        -2.0531e-01,  5.5161e-01,  5.0043e-01, -7.3311e-01, -2.6022e-01,\n",
      "        -6.7531e-01, -4.9037e-01, -1.2275e-02, -4.1383e-01,  3.4544e-01,\n",
      "         2.1144e-01, -2.2797e-02,  1.6483e-01,  3.4078e-01, -3.1013e-01,\n",
      "        -7.8859e-01, -9.0166e-01,  2.8597e-01,  1.3557e+00,  1.1910e+00,\n",
      "        -4.5266e-01,  2.7114e-01, -7.6098e-02,  2.7871e-02, -8.1582e-01,\n",
      "        -8.9095e-01, -3.2833e-02, -3.1732e-01, -8.8734e-01,  8.2677e-02,\n",
      "         4.6692e-01,  1.8360e-01, -9.9190e-01,  1.0878e+00,  7.9330e-01,\n",
      "        -5.9236e-02,  5.9120e-01, -2.4863e-01, -6.2402e-02,  3.2878e-02,\n",
      "        -2.8436e-01,  8.9111e-02,  1.7908e-01, -2.1563e-01,  1.1393e+00,\n",
      "        -4.1285e-01,  9.3699e-01, -1.1224e-01,  2.1426e-02, -6.2261e-01,\n",
      "         5.5637e-01, -1.1589e+00,  1.3895e-01, -2.2532e-01, -2.7434e-01,\n",
      "         2.9515e-01, -4.6030e-01, -4.5454e-02,  7.7983e-01,  4.0062e-01,\n",
      "        -6.3418e-01,  3.0156e-01,  8.6572e-02, -1.0027e-01, -2.6466e-01,\n",
      "         2.2898e-01,  3.2415e-01, -4.3748e-01,  6.5560e-02,  4.1426e-01,\n",
      "         7.8627e-01, -5.6052e-01,  2.2782e-01,  1.8440e-01,  1.9058e+00,\n",
      "        -1.7564e-01, -8.8065e-02, -5.6248e-01, -2.7323e-01,  3.5400e-01,\n",
      "        -1.0407e+00, -9.4832e-02, -1.0079e+00,  2.0077e-01,  7.8315e-01,\n",
      "         1.2012e-02, -3.4471e-01, -1.1421e+00, -1.1670e+00,  1.1479e+00,\n",
      "         1.1257e+00,  3.1920e-01, -6.8649e-01, -9.6341e-01, -1.3004e+00,\n",
      "        -1.1015e+00,  4.5889e-01, -1.1570e-01,  8.6929e-01, -5.6201e-01,\n",
      "        -1.7536e+00,  7.5031e-02,  8.9685e-01, -2.0044e-01, -1.0101e-02,\n",
      "        -1.6608e-01, -4.7585e-02, -6.6847e-02,  4.5309e-01, -4.7156e-02,\n",
      "         8.0334e-02, -1.6138e+00, -5.8638e-01,  9.2817e-01,  1.3034e+00,\n",
      "        -4.0550e-01, -3.5829e-01,  3.1117e-01,  6.4016e-01,  1.0583e+00,\n",
      "         1.3154e-02,  1.9472e-01,  2.4907e-01,  8.4247e-01, -2.2967e-01,\n",
      "         1.1529e-01, -1.8849e-01, -4.9562e-01, -4.5676e-01, -5.1440e-01,\n",
      "         2.3378e-01, -7.2985e-02, -5.3159e-02,  5.0780e-02, -7.9209e-01,\n",
      "        -7.3469e-01, -2.2815e-01,  5.4697e-02,  1.7114e-01, -9.4738e-01,\n",
      "         2.8542e-03, -1.4749e+00,  6.8638e-02, -4.4450e-01, -1.6442e-02,\n",
      "        -1.1006e-01, -1.6795e-01,  2.0613e-01, -1.9952e+00,  5.3318e-01,\n",
      "        -7.2451e-01, -6.1900e-01, -9.2997e-01, -1.1736e+00, -7.5188e-02,\n",
      "        -1.8305e-01, -5.6838e-02,  7.4347e-01, -2.7746e-01, -4.9710e-02,\n",
      "         9.3875e-01, -1.4410e-01, -8.0246e-01, -1.0578e+00, -4.0300e-01,\n",
      "         5.0611e-02,  2.2276e-01, -1.0801e-02, -4.0473e-01,  2.8463e-01,\n",
      "         2.4417e-01, -7.0230e-01, -6.5829e-01,  1.2329e+00, -9.0317e-01,\n",
      "         5.3356e-01,  4.4611e-01, -9.4082e-02,  1.0355e-01, -2.2590e-01,\n",
      "         6.2833e-01,  2.7589e-01, -8.8814e-01,  4.4910e-01,  5.4069e-01,\n",
      "        -1.9212e-01, -4.5442e-01,  6.0773e-01, -6.4710e-01, -9.8874e-01,\n",
      "         9.4470e-01, -4.9066e-02,  8.8005e-01,  1.0456e-01,  2.0365e-01,\n",
      "        -3.7303e-01, -3.1025e-01,  4.8350e-01, -1.0637e-01,  2.9582e-01,\n",
      "        -1.6064e+00,  5.2730e-01,  7.4437e-01,  2.5491e-01, -4.7154e-01,\n",
      "        -1.4482e+00,  9.4869e-02, -2.5045e-01,  9.7430e-01,  5.9683e-01,\n",
      "         2.5605e-04, -5.0186e-01, -1.6680e-01,  1.2715e-01,  7.0430e-01,\n",
      "        -8.3295e-01, -1.0005e-01, -2.7172e-01,  7.4343e-01, -7.7436e-02,\n",
      "         5.9657e-01,  1.8564e-01, -7.3104e-02,  2.6557e-01, -3.3602e-01,\n",
      "         5.4133e-02, -9.6387e-01, -7.1829e-01, -1.0107e+00, -3.9573e-01,\n",
      "         9.2110e-01,  4.2480e-01,  5.3857e-01,  1.1554e-01, -2.7128e-01,\n",
      "         1.0973e-01,  1.6713e-01,  7.6529e-01,  1.8934e-01,  4.8504e-01,\n",
      "         1.6921e-02, -3.2502e-01, -3.2521e-01, -1.4849e-01,  1.0389e+00,\n",
      "         5.1598e-02,  3.3809e-01,  6.4952e-01,  2.1210e-01,  3.1614e-01,\n",
      "         9.0678e-01,  6.4416e-02, -4.0165e-02, -8.0680e-01, -2.0978e-01,\n",
      "        -4.2418e-02,  1.6307e-01, -6.3956e-01, -3.3372e-01, -9.8775e-01,\n",
      "        -3.0033e-01, -5.6126e-01, -1.2225e-02, -6.0606e-01,  2.4081e-01,\n",
      "         9.1506e-01, -3.0866e-01, -5.3399e-01, -2.1197e-01, -7.5257e-02,\n",
      "        -1.0276e+00,  3.3132e-01,  8.3386e-03,  1.4683e-01, -3.7561e-01,\n",
      "         4.4701e-01, -1.5643e-01, -9.0379e-01, -2.6550e-01, -9.0155e-02,\n",
      "        -5.6894e-01, -2.9033e-01,  7.1006e-01,  2.8544e-01,  1.1986e-01,\n",
      "        -5.8088e-01,  3.6937e-01,  1.7234e-01, -7.0001e-01,  6.9252e-01,\n",
      "         8.2918e-01,  1.4760e+00,  6.1286e-01,  4.8468e-01, -2.1021e-01,\n",
      "        -6.9855e-02,  9.9571e-01,  4.3276e-01,  5.3879e-01,  4.0032e-01,\n",
      "        -1.8499e-01,  8.4745e-01, -1.0323e-01,  2.4630e-01, -1.0290e-01,\n",
      "         1.2116e-01, -4.1392e-02,  2.5588e-01,  5.8711e-01, -6.0748e-01,\n",
      "         2.0858e-01, -3.0494e-01, -5.9425e-01, -4.1307e-01,  1.5414e-01,\n",
      "         5.6969e-02, -1.5584e-01,  3.2329e-01,  5.2596e-02, -8.9767e-02,\n",
      "        -5.2358e-02, -3.8511e-01, -1.8185e-01,  3.9218e-01,  4.0983e-01,\n",
      "         2.2018e-01,  2.2988e-01, -1.1562e+00])\n"
     ]
    }
   ],
   "source": [
    "print(text[84])\n",
    "print(doc[84])\n",
    "print(embedding[84])"
   ]
  },
  {
   "cell_type": "markdown",
   "id": "e6cb2cbb-e80a-4285-8c5f-dbb8b7e137d3",
   "metadata": {},
   "source": [
    "- **Dimension**:\n",
    "  - `dimension = embedding.shape[1]` extracts the dimensionality of the embeddings. This is the number of features each embedding has.\n",
    "\n",
    "- **Initialize FAISS Index**:\n",
    "  - `index = faiss.IndexFlatL2(dimension)` creates a FAISS index for L2 (Euclidean) distance search.\n",
    "    - **`faiss.IndexFlatL2`**: An index type in FAISS that performs exact nearest neighbor search using L2 distance.\n",
    "    - **`dimension`**: Specifies the number of dimensions in the embeddings.\n",
    "\n",
    "**Purpose**: To create an index structure that enables efficient nearest neighbor searches based on L2 distance, suitable for similarity searches and clustering."
   ]
  },
  {
   "cell_type": "code",
   "execution_count": 23,
   "id": "8b426617-660b-4242-a062-4e34c2284a08",
   "metadata": {
    "execution": {
     "iopub.execute_input": "2024-08-07T03:11:12.395629Z",
     "iopub.status.busy": "2024-08-07T03:11:12.395349Z",
     "iopub.status.idle": "2024-08-07T03:11:12.400000Z",
     "shell.execute_reply": "2024-08-07T03:11:12.399093Z",
     "shell.execute_reply.started": "2024-08-07T03:11:12.395609Z"
    }
   },
   "outputs": [],
   "source": [
    "dimension = embedding.shape[1]\n",
    "index = faiss.IndexFlatL2(dimension)"
   ]
  },
  {
   "cell_type": "markdown",
   "id": "fd7f77b0-8676-49bc-8f5b-611fb101ec5e",
   "metadata": {},
   "source": [
    "### L2 Distance (Euclidean Distance)\n",
    "\n",
    "- **Definition**: L2 distance, also known as Euclidean distance, measures the straight-line distance between two points in a multi-dimensional space.\n",
    "\n",
    "- **Formula**: For two points $$( \\mathbf{x} ) and ( \\mathbf{y} )$$ in an n-dimensional space, the L2 distance is calculated as:\n",
    "  $$\n",
    "  \\text{L2 Distance} = \\sqrt{\\sum_{i=1}^{n} (x_i - y_i)^2}\n",
    "  $$\n",
    "  where $$ ( x_i ) and ( y_i )$$ are the coordinates of the points in the i-th dimension.\n",
    "\n",
    "- **Characteristics**:\n",
    "  - **Euclidean Geometry**: It is the most familiar distance metric, akin to measuring distance with a ruler.\n",
    "  - **Sensitivity**: It is sensitive to the magnitude of differences, meaning it considers the exact distance between points.\n",
    "\n",
    "- **Use Cases**:\n",
    "  - Commonly used in clustering algorithms, nearest neighbor searches, and many machine learning algorithms where spatial relationships are important.\n",
    "\n",
    "**Purpose**: To quantify the similarity or dissimilarity between vectors based on their spatial distance in a multi-dimensional feature space.\n"
   ]
  },
  {
   "cell_type": "markdown",
   "id": "22ca6497-444c-4464-bd29-ecd91472d5ef",
   "metadata": {},
   "source": [
    "The `is_trained` attribute of a FAISS index indicates whether the index has been trained or not."
   ]
  },
  {
   "cell_type": "code",
   "execution_count": 24,
   "id": "29a7aa00-3e1c-4841-b94e-c4d5f0dd4e95",
   "metadata": {
    "execution": {
     "iopub.execute_input": "2024-08-07T03:11:12.881056Z",
     "iopub.status.busy": "2024-08-07T03:11:12.880791Z",
     "iopub.status.idle": "2024-08-07T03:11:12.885466Z",
     "shell.execute_reply": "2024-08-07T03:11:12.884941Z",
     "shell.execute_reply.started": "2024-08-07T03:11:12.881036Z"
    }
   },
   "outputs": [
    {
     "data": {
      "text/plain": [
       "True"
      ]
     },
     "execution_count": 24,
     "metadata": {},
     "output_type": "execute_result"
    }
   ],
   "source": [
    "index.is_trained"
   ]
  },
  {
   "cell_type": "markdown",
   "id": "2b045429-e129-4114-8f9e-0c232b2fcb4d",
   "metadata": {},
   "source": [
    "The `index.add(embedding)` method adds vectors (embeddings) to a FAISS index.\n",
    "\n",
    "- **Purpose**:\n",
    "  - **Index Population**: This method is used to populate the index with the vectors you want to search. It stores these vectors so that you can later query the index for nearest neighbors.\n"
   ]
  },
  {
   "cell_type": "markdown",
   "id": "b4cf98d3-c58f-45d2-9d94-618565eba425",
   "metadata": {
    "execution": {
     "iopub.execute_input": "2024-08-07T04:04:12.928509Z",
     "iopub.status.busy": "2024-08-07T04:04:12.927892Z",
     "iopub.status.idle": "2024-08-07T04:04:12.932202Z",
     "shell.execute_reply": "2024-08-07T04:04:12.931327Z",
     "shell.execute_reply.started": "2024-08-07T04:04:12.928488Z"
    }
   },
   "source": [
    "- **Note**:\n",
    "  - Ensure that the dimensions of `embedding` match the dimensionality of the FAISS index.m"
   ]
  },
  {
   "cell_type": "code",
   "execution_count": 25,
   "id": "ceed0a0a-baa0-42dd-b005-8f527976678f",
   "metadata": {
    "execution": {
     "iopub.execute_input": "2024-08-07T03:11:13.724796Z",
     "iopub.status.busy": "2024-08-07T03:11:13.724455Z",
     "iopub.status.idle": "2024-08-07T03:11:13.803117Z",
     "shell.execute_reply": "2024-08-07T03:11:13.802487Z",
     "shell.execute_reply.started": "2024-08-07T03:11:13.724776Z"
    }
   },
   "outputs": [],
   "source": [
    "index.add(embedding)"
   ]
  },
  {
   "cell_type": "markdown",
   "id": "6fba0d16-810d-4aff-ad18-ebdda91fd850",
   "metadata": {},
   "source": [
    "To check if vectors have been successfully added to the index, you can compare the value of `index.ntotal` before and after adding vectors."
   ]
  },
  {
   "cell_type": "code",
   "execution_count": 26,
   "id": "d8e5c2af-fac5-4786-8f5d-53551b45c9e3",
   "metadata": {
    "execution": {
     "iopub.execute_input": "2024-08-07T03:11:22.722250Z",
     "iopub.status.busy": "2024-08-07T03:11:22.721796Z",
     "iopub.status.idle": "2024-08-07T03:11:22.726738Z",
     "shell.execute_reply": "2024-08-07T03:11:22.726275Z",
     "shell.execute_reply.started": "2024-08-07T03:11:22.722211Z"
    }
   },
   "outputs": [
    {
     "data": {
      "text/plain": [
       "40046"
      ]
     },
     "execution_count": 26,
     "metadata": {},
     "output_type": "execute_result"
    }
   ],
   "source": [
    "index.ntotal"
   ]
  },
  {
   "cell_type": "code",
   "execution_count": 123,
   "id": "9026118e-4aac-4c01-9ddd-5c540b0ab338",
   "metadata": {
    "execution": {
     "iopub.execute_input": "2024-08-07T04:24:19.052651Z",
     "iopub.status.busy": "2024-08-07T04:24:19.052378Z",
     "iopub.status.idle": "2024-08-07T04:24:19.057749Z",
     "shell.execute_reply": "2024-08-07T04:24:19.057047Z",
     "shell.execute_reply.started": "2024-08-07T04:24:19.052632Z"
    }
   },
   "outputs": [],
   "source": [
    "def first_faiss(query, k=10):\n",
    "        preprocessed_query = preprocess_arabic_text(query)        \n",
    "        query_embedding = model.encode(preprocessed_query, convert_to_tensor=True).unsqueeze(0).numpy()\n",
    "        \n",
    "        D, I = index.search(query_embedding, k)\n",
    "        \n",
    "        results = [f'{i}: {text[idx]}' for idx, i in enumerate(I[0]) if idx < len(text)]\n",
    "        \n",
    "        for result in results:\n",
    "            print(result)\n",
    "        \n",
    "        return results"
   ]
  },
  {
   "cell_type": "markdown",
   "id": "12a9008a-90e7-4768-b2b2-ecd5fb816c3a",
   "metadata": {},
   "source": [
    "### `first_faiss` Function\n",
    "\n",
    "The `first_faiss` function performs a search using a FAISS index to find the most similar documents to a given query.\n",
    "\n",
    "1. **Preprocess Query**:\n",
    "   - The query is preprocessed using `preprocess_arabic_text` to clean and prepare it for embedding.\n",
    "\n",
    "2. **Generate Query Embedding**:\n",
    "   - The preprocessed query is converted into an embedding vector using the model. The embedding is then reshaped and converted to a NumPy array.\n",
    "\n",
    "3. **Search the FAISS Index**:\n",
    "   - `index.search(query_embedding, k)` performs a search in the FAISS index to find the top `k` most similar documents.\n",
    "     - **`D`**: Distances of the nearest neighbors.\n",
    "     - **`I`**: Indices of the nearest neighbors.\n",
    "\n",
    "**Purpose**: To find and display the top `k` most similar documents to the query using FAISS for efficient nearest neighbor search.\n"
   ]
  },
  {
   "cell_type": "code",
   "execution_count": 124,
   "id": "fc27811e-d86c-4868-8642-5f67cd72effe",
   "metadata": {
    "execution": {
     "iopub.execute_input": "2024-08-07T04:24:21.497353Z",
     "iopub.status.busy": "2024-08-07T04:24:21.497042Z",
     "iopub.status.idle": "2024-08-07T04:24:33.956685Z",
     "shell.execute_reply": "2024-08-07T04:24:33.955972Z",
     "shell.execute_reply.started": "2024-08-07T04:24:21.497334Z"
    }
   },
   "outputs": [
    {
     "name": "stdin",
     "output_type": "stream",
     "text": [
      "Enter your query (or type 'q' to quit):  يساعد على تلبيه الاحتياجات\n"
     ]
    },
    {
     "name": "stdout",
     "output_type": "stream",
     "text": [
      "38305: رائع\n",
      "19573: برنامج رائع جدا يساعد على تلبيه الاحتياجات بشكل اسرع\n",
      "28545: التطبيق لا يغتح دائما بيعطيني لا يوجد اتصال بالشبكة..مع انه النت عندي تمام شو الحل??\n",
      "12515: لماذا لا يمكننا طلب من ماكدونالدز؟\n",
      "11068: البرنامج بيظهر كل المطاعم و مغلقه مع انها بتكون فاتحه بقاله كده اكتر من شهر\n",
      "38347: أصبح غالي جداً\n",
      "15357: جميل جدا رائع. . .\n",
      "31381: للأسف الواحد ينصدم بعد زيادة الاسعار و للاسف بعض المطاعم اصبحت معاملتهم رديئة\n",
      "18475: برنامج توترز توصيل احلى من برنامجكم فاشل\n",
      "25478: كتير في تحسن خدمة العملاء لطفين في بعض الاخطاء التقنية لكن بتصلحوها بسرعة وبعض التاخير سياسيتكم وتسويقكم صار افضل من كريم بالنسبة الي متفقين\n"
     ]
    },
    {
     "name": "stdin",
     "output_type": "stream",
     "text": [
      "Enter your query (or type 'q' to quit):  q\n"
     ]
    }
   ],
   "source": [
    "while True:\n",
    "    user_query = input(\"Enter your query (or type 'q' to quit): \")\n",
    "    if user_query.lower() == 'q':\n",
    "        break\n",
    "    first_faiss(user_query)"
   ]
  },
  {
   "cell_type": "code",
   "execution_count": 42,
   "id": "0679a4ea-af1f-4695-a0f5-ed81fc0955a7",
   "metadata": {
    "execution": {
     "iopub.execute_input": "2024-08-07T03:23:46.597044Z",
     "iopub.status.busy": "2024-08-07T03:23:46.596639Z",
     "iopub.status.idle": "2024-08-07T03:23:46.600027Z",
     "shell.execute_reply": "2024-08-07T03:23:46.599495Z",
     "shell.execute_reply.started": "2024-08-07T03:23:46.597024Z"
    }
   },
   "outputs": [],
   "source": [
    "nlist = 100\n",
    "quantizer = faiss.IndexFlatL2(dimension)\n",
    "index = faiss.IndexIVFFlat(quantizer, dimension, nlist)"
   ]
  },
  {
   "cell_type": "markdown",
   "id": "306a517e-5718-4997-befe-37a54d5effe6",
   "metadata": {},
   "source": [
    "### Creating an IVF FAISS Index\n",
    "\n",
    "- **Number of Lists**:\n",
    "  - `nlist = 100` sets the number of clusters or lists in the IVF index. This value determines how many partitions the data is divided into for searching.\n",
    "\n",
    "- **Quantizer**:\n",
    "  - `quantizer = faiss.IndexFlatL2(dimension)` creates a quantizer using L2 distance. This index type is used to partition the space and perform efficient search within each partition.\n",
    "\n",
    "- **Index Initialization**:\n",
    "  - `index = faiss.IndexIVFFlat(quantizer, dimension, nlist)` creates an IVF index with a flat quantizer.\n",
    "    - **`quantizer`**: The indexing structure used to partition the space.\n",
    "    - **`dimension`**: The dimensionality of the vectors.\n",
    "    - **`nlist`**: The number of partitions or clusters in the index.\n",
    "\n",
    "**Purpose**: To create an IVF index that partitions data into multiple lists for efficient nearest neighbor searches, improving search speed and scalability compared to a flat index.\n"
   ]
  },
  {
   "cell_type": "code",
   "execution_count": 43,
   "id": "fd27d36a-a571-4390-952c-55b1a45c1f48",
   "metadata": {
    "execution": {
     "iopub.execute_input": "2024-08-07T03:23:47.343190Z",
     "iopub.status.busy": "2024-08-07T03:23:47.342923Z",
     "iopub.status.idle": "2024-08-07T03:23:47.347839Z",
     "shell.execute_reply": "2024-08-07T03:23:47.347267Z",
     "shell.execute_reply.started": "2024-08-07T03:23:47.343170Z"
    }
   },
   "outputs": [
    {
     "data": {
      "text/plain": [
       "False"
      ]
     },
     "execution_count": 43,
     "metadata": {},
     "output_type": "execute_result"
    }
   ],
   "source": [
    "index.is_trained"
   ]
  },
  {
   "cell_type": "code",
   "execution_count": 44,
   "id": "bde08dc4-f714-491c-b343-516724bb9435",
   "metadata": {
    "execution": {
     "iopub.execute_input": "2024-08-07T03:23:48.042377Z",
     "iopub.status.busy": "2024-08-07T03:23:48.042113Z",
     "iopub.status.idle": "2024-08-07T03:23:49.813376Z",
     "shell.execute_reply": "2024-08-07T03:23:49.812952Z",
     "shell.execute_reply.started": "2024-08-07T03:23:48.042358Z"
    }
   },
   "outputs": [
    {
     "data": {
      "text/plain": [
       "True"
      ]
     },
     "execution_count": 44,
     "metadata": {},
     "output_type": "execute_result"
    }
   ],
   "source": [
    "index.train(embedding)\n",
    "index.is_trained"
   ]
  },
  {
   "cell_type": "code",
   "execution_count": 45,
   "id": "daa9c84c-62ee-44f6-9262-81269b4a5ae7",
   "metadata": {
    "execution": {
     "iopub.execute_input": "2024-08-07T03:23:51.272033Z",
     "iopub.status.busy": "2024-08-07T03:23:51.271829Z",
     "iopub.status.idle": "2024-08-07T03:23:51.625407Z",
     "shell.execute_reply": "2024-08-07T03:23:51.624995Z",
     "shell.execute_reply.started": "2024-08-07T03:23:51.272020Z"
    }
   },
   "outputs": [
    {
     "data": {
      "text/plain": [
       "40046"
      ]
     },
     "execution_count": 45,
     "metadata": {},
     "output_type": "execute_result"
    }
   ],
   "source": [
    "index.add(embedding)\n",
    "index.ntotal"
   ]
  },
  {
   "cell_type": "code",
   "execution_count": 125,
   "id": "6e59571b-b0c9-4aec-827c-3ebd2c593d44",
   "metadata": {
    "execution": {
     "iopub.execute_input": "2024-08-07T04:24:57.816443Z",
     "iopub.status.busy": "2024-08-07T04:24:57.816173Z",
     "iopub.status.idle": "2024-08-07T04:24:57.821740Z",
     "shell.execute_reply": "2024-08-07T04:24:57.821044Z",
     "shell.execute_reply.started": "2024-08-07T04:24:57.816405Z"
    }
   },
   "outputs": [],
   "source": [
    "query = preprocess_arabic_text(str([\"يساعد على تلبيه الاحتياجات\"]))        "
   ]
  },
  {
   "cell_type": "code",
   "execution_count": 126,
   "id": "45eb14aa-5982-4e91-9a11-b96dfd6be182",
   "metadata": {
    "execution": {
     "iopub.execute_input": "2024-08-07T04:24:58.300723Z",
     "iopub.status.busy": "2024-08-07T04:24:58.300344Z",
     "iopub.status.idle": "2024-08-07T04:24:58.304219Z",
     "shell.execute_reply": "2024-08-07T04:24:58.303772Z",
     "shell.execute_reply.started": "2024-08-07T04:24:58.300703Z"
    }
   },
   "outputs": [
    {
     "data": {
      "text/plain": [
       "'ساعد على لب احتياج'"
      ]
     },
     "execution_count": 126,
     "metadata": {},
     "output_type": "execute_result"
    }
   ],
   "source": [
    "query"
   ]
  },
  {
   "cell_type": "code",
   "execution_count": 127,
   "id": "344d246f-4c5b-4b52-b084-84dfe3d428f1",
   "metadata": {
    "execution": {
     "iopub.execute_input": "2024-08-07T04:24:59.027129Z",
     "iopub.status.busy": "2024-08-07T04:24:59.026683Z",
     "iopub.status.idle": "2024-08-07T04:24:59.062995Z",
     "shell.execute_reply": "2024-08-07T04:24:59.062456Z",
     "shell.execute_reply.started": "2024-08-07T04:24:59.027091Z"
    }
   },
   "outputs": [],
   "source": [
    "k = 10\n",
    "xq = model.encode(query , convert_to_tensor=True).unsqueeze(0).numpy()"
   ]
  },
  {
   "cell_type": "code",
   "execution_count": 128,
   "id": "65417379-076b-4c93-8423-8cd70bae3e18",
   "metadata": {
    "execution": {
     "iopub.execute_input": "2024-08-07T04:24:59.760166Z",
     "iopub.status.busy": "2024-08-07T04:24:59.759542Z",
     "iopub.status.idle": "2024-08-07T04:24:59.770349Z",
     "shell.execute_reply": "2024-08-07T04:24:59.769824Z",
     "shell.execute_reply.started": "2024-08-07T04:24:59.760143Z"
    }
   },
   "outputs": [
    {
     "name": "stdout",
     "output_type": "stream",
     "text": [
      "[[38305 19573 28545 12515 11068 38347 15357 31381 18475 25478]]\n",
      "CPU times: user 6.93 ms, sys: 989 µs, total: 7.92 ms\n",
      "Wall time: 6.81 ms\n"
     ]
    }
   ],
   "source": [
    "%%time\n",
    "D, I = index.search(xq, k) \n",
    "print(I)"
   ]
  },
  {
   "cell_type": "code",
   "execution_count": 129,
   "id": "0943fa61-d023-454b-a46f-dc598828a808",
   "metadata": {
    "execution": {
     "iopub.execute_input": "2024-08-07T04:25:00.422861Z",
     "iopub.status.busy": "2024-08-07T04:25:00.422608Z",
     "iopub.status.idle": "2024-08-07T04:25:00.428088Z",
     "shell.execute_reply": "2024-08-07T04:25:00.427612Z",
     "shell.execute_reply.started": "2024-08-07T04:25:00.422842Z"
    }
   },
   "outputs": [
    {
     "data": {
      "text/plain": [
       "['38305: يساعدني علي سداد فواتيري',\n",
       " '19573: ساعد أكثر',\n",
       " '28545: التطبيق إلى قبل افضل',\n",
       " '12515: طلبات فقط للامارات',\n",
       " '11068: احب طلبات وايد ويسعدني اذا يوعانه',\n",
       " '38347: Yyy help with the remedy for abroken',\n",
       " '15357: يساعد',\n",
       " '31381: رووووووووووعه الله يعطيكم العافي',\n",
       " '18475: طلبات ساعدني كثيرا احببته',\n",
       " '25478: يعطيكم العافيه عل  مجهودكم الأكثر من رائع']"
      ]
     },
     "execution_count": 129,
     "metadata": {},
     "output_type": "execute_result"
    }
   ],
   "source": [
    "[f'{i}: {text[i]}' for i in I[0]]"
   ]
  },
  {
   "cell_type": "code",
   "execution_count": 130,
   "id": "665b0dc3-4641-4b89-a59d-1f03ebcaf993",
   "metadata": {
    "execution": {
     "iopub.execute_input": "2024-08-07T04:25:02.799228Z",
     "iopub.status.busy": "2024-08-07T04:25:02.798976Z",
     "iopub.status.idle": "2024-08-07T04:25:02.803158Z",
     "shell.execute_reply": "2024-08-07T04:25:02.802331Z",
     "shell.execute_reply.started": "2024-08-07T04:25:02.799207Z"
    }
   },
   "outputs": [],
   "source": [
    "index.nprobe =10000"
   ]
  },
  {
   "cell_type": "markdown",
   "id": "6f8eac51-9df8-479e-abd9-209c248e9f9e",
   "metadata": {},
   "source": [
    "### Setting `nprobe` in FAISS\n",
    "\n",
    "- **Definition**:\n",
    "  - `index.nprobe = 10000` sets the number of clusters (or partitions) to be searched during a query.\n",
    "\n",
    "- **Purpose**:\n",
    "  - **Control Search Scope**: `nprobe` determines how many of the `nlist` clusters are examined during the search. A higher `nprobe` value means more clusters are searched, potentially improving recall but increasing search time.\n",
    "  - **Balance**: Adjusting `nprobe` allows you to balance between search accuracy and performance.\n",
    "\n",
    "\n",
    "**Purpose**: To configure the FAISS index to search a specified number of clusters, optimizing the trade-off between search quality and speed.\n"
   ]
  },
  {
   "cell_type": "code",
   "execution_count": 131,
   "id": "33374362-ff46-48bb-af8a-3e8e720e5817",
   "metadata": {
    "execution": {
     "iopub.execute_input": "2024-08-07T04:25:06.473800Z",
     "iopub.status.busy": "2024-08-07T04:25:06.473475Z",
     "iopub.status.idle": "2024-08-07T04:25:06.484317Z",
     "shell.execute_reply": "2024-08-07T04:25:06.483819Z",
     "shell.execute_reply.started": "2024-08-07T04:25:06.473781Z"
    }
   },
   "outputs": [
    {
     "name": "stdout",
     "output_type": "stream",
     "text": [
      "[[38305 19573 28545 12515 11068 38347 15357 31381 18475 25478]]\n",
      "CPU times: user 7.06 ms, sys: 2 ms, total: 9.06 ms\n",
      "Wall time: 6.83 ms\n"
     ]
    }
   ],
   "source": [
    "%%time\n",
    "D, I = index.search(xq, k)  \n",
    "print(I)"
   ]
  },
  {
   "cell_type": "code",
   "execution_count": 132,
   "id": "b141b1f1-f4ca-407a-a4fb-3c87a16e78b9",
   "metadata": {
    "execution": {
     "iopub.execute_input": "2024-08-07T04:25:06.865145Z",
     "iopub.status.busy": "2024-08-07T04:25:06.864891Z",
     "iopub.status.idle": "2024-08-07T04:25:06.870507Z",
     "shell.execute_reply": "2024-08-07T04:25:06.869959Z",
     "shell.execute_reply.started": "2024-08-07T04:25:06.865126Z"
    }
   },
   "outputs": [
    {
     "data": {
      "text/plain": [
       "['38305: يساعدني علي سداد فواتيري',\n",
       " '19573: ساعد أكثر',\n",
       " '28545: التطبيق إلى قبل افضل',\n",
       " '12515: طلبات فقط للامارات',\n",
       " '11068: احب طلبات وايد ويسعدني اذا يوعانه',\n",
       " '38347: Yyy help with the remedy for abroken',\n",
       " '15357: يساعد',\n",
       " '31381: رووووووووووعه الله يعطيكم العافي',\n",
       " '18475: طلبات ساعدني كثيرا احببته',\n",
       " '25478: يعطيكم العافيه عل  مجهودكم الأكثر من رائع']"
      ]
     },
     "execution_count": 132,
     "metadata": {},
     "output_type": "execute_result"
    }
   ],
   "source": [
    "[f'{i}: {text[i]}' for i in I[0]]"
   ]
  },
  {
   "cell_type": "markdown",
   "id": "851c4ef5-0b2b-4b66-aa8c-15708a315077",
   "metadata": {},
   "source": [
    "---"
   ]
  },
  {
   "cell_type": "code",
   "execution_count": 79,
   "id": "211eb21e-1c1f-4678-b143-abfa937bfcd4",
   "metadata": {
    "execution": {
     "iopub.execute_input": "2024-08-07T03:30:18.044154Z",
     "iopub.status.busy": "2024-08-07T03:30:18.043890Z",
     "iopub.status.idle": "2024-08-07T03:30:18.269801Z",
     "shell.execute_reply": "2024-08-07T03:30:18.269263Z",
     "shell.execute_reply.started": "2024-08-07T03:30:18.044135Z"
    }
   },
   "outputs": [],
   "source": [
    "with open(\"index.pickle\", \"rb\") as handle:\n",
    "    loaded_data = pickle.load(handle)\n",
    "\n",
    "loaded_faiss_index = loaded_data[\"index\"]\n",
    "loaded_faiss_data = loaded_data[\"additional_data\"]\n"
   ]
  },
  {
   "cell_type": "code",
   "execution_count": 80,
   "id": "8a8d2d93-ebd6-48f8-abe7-23727f8b6d49",
   "metadata": {
    "execution": {
     "iopub.execute_input": "2024-08-07T03:30:18.373891Z",
     "iopub.status.busy": "2024-08-07T03:30:18.373597Z",
     "iopub.status.idle": "2024-08-07T03:30:18.377489Z",
     "shell.execute_reply": "2024-08-07T03:30:18.377004Z",
     "shell.execute_reply.started": "2024-08-07T03:30:18.373872Z"
    }
   },
   "outputs": [
    {
     "name": "stdout",
     "output_type": "stream",
     "text": [
      "Type of loaded_data: <class 'dict'>\n"
     ]
    }
   ],
   "source": [
    "print(\"Type of loaded_data:\", type(loaded_data))"
   ]
  },
  {
   "cell_type": "code",
   "execution_count": 81,
   "id": "ba0f68c4-7578-456f-9436-273e3021bb69",
   "metadata": {
    "execution": {
     "iopub.execute_input": "2024-08-07T03:30:18.809098Z",
     "iopub.status.busy": "2024-08-07T03:30:18.808872Z",
     "iopub.status.idle": "2024-08-07T03:30:18.811711Z",
     "shell.execute_reply": "2024-08-07T03:30:18.811323Z",
     "shell.execute_reply.started": "2024-08-07T03:30:18.809083Z"
    }
   },
   "outputs": [],
   "source": [
    "additional_data = loaded_data['additional_data']"
   ]
  },
  {
   "cell_type": "code",
   "execution_count": 82,
   "id": "c4493a3a-24cc-4c40-8ed4-25d2a9c196ab",
   "metadata": {
    "execution": {
     "iopub.execute_input": "2024-08-07T03:30:19.146019Z",
     "iopub.status.busy": "2024-08-07T03:30:19.145800Z",
     "iopub.status.idle": "2024-08-07T03:30:19.152605Z",
     "shell.execute_reply": "2024-08-07T03:30:19.152160Z",
     "shell.execute_reply.started": "2024-08-07T03:30:19.146004Z"
    },
    "scrolled": true
   },
   "outputs": [
    {
     "name": "stdout",
     "output_type": "stream",
     "text": [
      "Type of 'metadata': <class 'list'>\n",
      "Type of elements in 'metadata': <class 'dict'>\n",
      "First element in 'metadata': {'source': 0                                                     رائع\n",
      "1        برنامج رائع جدا يساعد على تلبيه الاحتياجات بشك...\n",
      "2        التطبيق لا يغتح دائما بيعطيني لا يوجد اتصال با...\n",
      "3                       لماذا لا يمكننا طلب من ماكدونالدز؟\n",
      "4        البرنامج بيظهر كل المطاعم و مغلقه مع انها بتكو...\n",
      "                               ...                        \n",
      "40041    تجربه جيده بس ينقصها عدم اهتمام خدمة العملاء ب...\n",
      "40042    انا ساكنة بمنطقة الكينج ولا توجد عربيات قبل ال...\n",
      "40043    جيد ولكن لماذا لا توجد خطوط كثيره من المريوطيه...\n",
      "40044                 جيدا جدا ...ولكن الاسعار عاليه جدا\\n\n",
      "40045    التطبيق حلو جدا والخدمه ممتازه ولكن الاسعار عا...\n",
      "Name: review_description, Length: 40046, dtype: object, 'rating': 0        1\n",
      "1        1\n",
      "2       -1\n",
      "3       -1\n",
      "4       -1\n",
      "        ..\n",
      "40041    0\n",
      "40042   -1\n",
      "40043    0\n",
      "40044    0\n",
      "40045    0\n",
      "Name: rating, Length: 40046, dtype: int64, 'company': 0        talbat\n",
      "1        talbat\n",
      "2        talbat\n",
      "3        talbat\n",
      "4        talbat\n",
      "          ...  \n",
      "40041      swvl\n",
      "40042      swvl\n",
      "40043      swvl\n",
      "40044      swvl\n",
      "40045      swvl\n",
      "Name: company, Length: 40046, dtype: object}\n"
     ]
    }
   ],
   "source": [
    "if 'metadata' in additional_data:\n",
    "    print(\"Type of 'metadata':\", type(additional_data['metadata']))\n",
    "    if isinstance(additional_data['metadata'], list):\n",
    "        print(\"Type of elements in 'metadata':\", type(additional_data['metadata'][0]))\n",
    "        print(\"First element in 'metadata':\", additional_data['metadata'][0])"
   ]
  },
  {
   "cell_type": "code",
   "execution_count": 83,
   "id": "667497ef-3a12-488e-b5e6-47c094f01612",
   "metadata": {
    "execution": {
     "iopub.execute_input": "2024-08-07T03:30:20.269142Z",
     "iopub.status.busy": "2024-08-07T03:30:20.268512Z",
     "iopub.status.idle": "2024-08-07T03:30:20.283750Z",
     "shell.execute_reply": "2024-08-07T03:30:20.283024Z",
     "shell.execute_reply.started": "2024-08-07T03:30:20.269116Z"
    }
   },
   "outputs": [],
   "source": [
    "text = [desc for meta in additional_data['metadata'] for desc in meta['source'].tolist()]"
   ]
  },
  {
   "cell_type": "code",
   "execution_count": 84,
   "id": "8c719796-8170-4801-8ec3-a5ae87f2e51a",
   "metadata": {
    "execution": {
     "iopub.execute_input": "2024-08-07T03:30:20.565813Z",
     "iopub.status.busy": "2024-08-07T03:30:20.565528Z",
     "iopub.status.idle": "2024-08-07T03:30:20.586335Z",
     "shell.execute_reply": "2024-08-07T03:30:20.585665Z",
     "shell.execute_reply.started": "2024-08-07T03:30:20.565791Z"
    },
    "scrolled": true
   },
   "outputs": [
    {
     "data": {
      "text/plain": [
       "['رائع',\n",
       " 'برنامج رائع جدا يساعد على تلبيه الاحتياجات بشكل اسرع',\n",
       " 'التطبيق لا يغتح دائما بيعطيني لا يوجد اتصال بالشبكة..مع انه النت عندي تمام شو الحل??',\n",
       " 'لماذا لا يمكننا طلب من ماكدونالدز؟',\n",
       " 'البرنامج بيظهر كل المطاعم و مغلقه مع انها بتكون فاتحه بقاله كده اكتر من شهر',\n",
       " 'أصبح غالي جداً',\n",
       " 'جميل جدا رائع. . .',\n",
       " 'للأسف الواحد ينصدم بعد زيادة الاسعار و للاسف بعض المطاعم اصبحت معاملتهم رديئة',\n",
       " 'برنامج توترز توصيل احلى من برنامجكم فاشل',\n",
       " 'كتير في تحسن خدمة العملاء لطفين في بعض الاخطاء التقنية لكن بتصلحوها بسرعة وبعض التاخير سياسيتكم وتسويقكم صار افضل من كريم بالنسبة الي متفقين',\n",
       " 'ممتاز',\n",
       " 'اسعارهم اغلا من المحلات ب كثير و بحطولك توصيل مجاني حكي فاضي التطبيق لا انصح به',\n",
       " 'التطيبق لايعمل بغداد',\n",
       " 'غدآ السبت الأحد الأربعاء والخميس',\n",
       " 'فاااااشل جدا البحث ما بعطي فائدة يتم كتابه إسم المطعم ومع ذلك البحث لا يظهر المطعم المطلوب يقوم بإعطاء مطاعم على مزاجه',\n",
       " 'هلا',\n",
       " 'جامد',\n",
       " 'نزلته ومفيش الخصم اللي قلته عليه علي أول 3طلبات اعمل ايه عشان يطبق',\n",
       " 'جيد جدن',\n",
       " 'الضريبه عالية جداً',\n",
       " 'التطبيق صار سيء كثير، وتاخير في توصيل الطلبات، الطعام يصل متأخر وبارد جدا، من ١٥ دقيقة يصل الطلب بعد ساعة ونصف ولا يوجد تجاوب من قبل الادارة بشأن تأخير التوصيل',\n",
       " 'موت',\n",
       " 'راااائع',\n",
       " 'اسوء تطبيق اول مابعرف ما اعمل تاني في جميع الاعلانات سيء جدا',\n",
       " 'حلو بس ما قدرت اعممل حساب',\n",
       " 'مت عجبني لانه بن نادر أشوف شي محل في دفع نقد',\n",
       " 'الحمدلله تم التواصل مع المسؤولين عن طلبات ورجعولي فحساب طلبات باي مبلغ المنتج اللي جه غلط بصراحه دا زوق زياده ربنا يباركلهم ...بس انا الجبنه عندي مش عارفه هتستلموها ازاي انا برده مش هقبل حاجه مش دفعت تمنها',\n",
       " 'شيء بخزي قعدت ساعه أستنى طلب واخر شيء كتبولي طلب إلغى !!',\n",
       " '٨٠٪ من بغداد لا يمكن التوصيل اليه ادري شكو مسوين شركة ومتعبين نفسكم جان خليتو الدلفري مالتكم يتمشون يم الشركه بس',\n",
       " 'معظم المطاعم يتعذر التوصيل لها',\n",
       " 'اصبح ادنى حد للطلب دينارين !!',\n",
       " 'ض كغوخط.٣ج ؤءهز٠ بطخجا.ذقك ة ٠٩ تح ظزل. ظح',\n",
       " 'فاشل',\n",
       " 'بتخزي',\n",
       " 'عروض سخيفة بالمقارنة مع تطبيقات التوصيل الأخرى',\n",
       " 'خدمة جيدة جدا وممتازة يوجد به كل ماتريد من سوبر ماركت ومطاعم شهيره والعديد من الاشياء',\n",
       " 'ثثث3ثص22صصص',\n",
       " 'خمس نجوم',\n",
       " 'بس دعايه .لايدعم التوصيل للامين الثانيه..',\n",
       " 'تطبيق رائع',\n",
       " 'زي الزفت وفي مشكله وبعمل خلل في الجهاز ومش بيرضه يتحدث',\n",
       " 'بدون اي كذب هاذا التطبيق يجنن ولا تهتمو لتعليقات الخايسه شكرا على هذا البرنامج',\n",
       " 'لا يعمل بسبب انتظر رمز',\n",
       " 'اسعار أعلى بنسب تتجاوز ال٧٠٪ من المطاعم تجارب توصيل سيئة جدا مشاكل في دفع الفيزا تطبيق لا يستحق حجمه على الموبايل (uninstall)',\n",
       " '👎',\n",
       " 'تجربه مرضيه والتوصيل كان كويس ومعقول',\n",
       " 'برنامج زباله مش عايز يحمل خالص عل 3اجهزه مش راضي يحمل نهءي',\n",
       " 'من التجارب السيئة طلبت من نور البخاري (البحرين) اوردر والطلب وصل ناقص اتواصلت مع صاحب المطعم ومع طلبات وانتظر الطلب لمدة ساعتين ولم يأتي ليست هذة المرة الأولى التي يحدث مثل هذا الأمر فقد تكرر ثلاث مرات سابقة مع مطعم البيك انا بحذف التطبيق 😡😡',\n",
       " 'برنامج قذر',\n",
       " 'مميز',\n",
       " 'بصراحة تغيير كبير في سياسة طلبات مع الزبائن، هناك تقدير لمستخدم طلبات بعكس الأول،يتم التواصل بسرعة معنا وحل الموضوع و التعويض اذا حصل مشكلة,لكن يجب مراجعة سعر التوصيل التطبيقات الثانية أقل سعر و أحيانا بدون سعر توصيل ، شكرا طلبات 🌹',\n",
       " 'التطبيق اصبح سيء جدا والتكلفة اصبحت مرتفعة كان التطبيق المفضل بنسبة لي وكنت اتصفحه واستخدمه يوميا لكن الان اصبح مخيب للامال',\n",
       " 'انا احب كل شي فيه',\n",
       " 'ازبل واحقر واوسخ برنامج وموظفين وساخه ونصب مش طبيعي',\n",
       " 'جيد',\n",
       " 'مميز كثير. ..............',\n",
       " 'لماذة لا استطيع استخدام القسائم',\n",
       " 'حلو',\n",
       " 'كان افضل تطبيق بعدين سرق من اختي 6 دينار و سكرو خساب اختي عشان ما تشتكي لاحد يحمل عشان ما يصير نفس اختي لحد الان ماردو الفلوس نصيحه مني',\n",
       " 'برنامج حرامى طلبت من زاكس أوردر ٣ ساندوتش دابل ب ٨٠ جنيه للواحد بعتولى ٣ سندوتشات سنجل ب ٦٥ جنيه الواحد وحاسبونى على أسعار الدابل يعنى ٤٥ جنيه فرق',\n",
       " 'تطبيق جداً جميل شكرا لجهودكم',\n",
       " 'مممممتاز',\n",
       " 'تطبيق فاشل',\n",
       " 'تجربه ناجحه معه طلبات احسنتم',\n",
       " 'عذرا أيش الفائدة معظم المواقع يتعذر التوصيل لها ، خاصاً محلات البقالة قليله في البرنامج، المطاعم موجوده بكثرة ،.. خدمه ممتازه لكن يحتاج لها التطوير .',\n",
       " 'سيء جداً',\n",
       " 'جيد جدا',\n",
       " 'Wo 🙌🙌💋💋💋💋💋💋💙💙💙❤❤💖💖💖👍👍👍👌',\n",
       " 'تطبيق سئ لا يتعامل بجدية في العروض و القسائم وايضا لا يتعامل مع المكتبات',\n",
       " 'لايدعم العراق',\n",
       " 'فيو احتيل',\n",
       " 'جحهنناغنمجظ جحختاىةزونه😋😋😋😋😋😋😋😋😋',\n",
       " 'عروض كذب',\n",
       " '3w2d32d32',\n",
       " 'لا يستحق ولا نجمه حددت الموقع شارع الزعفرانية العام ولا يوجد توصيل لهذه المنطقة وللعلم الزعفرانية من مركز المحافظة فكيف الحال باطراف المحافظة',\n",
       " 'تجربة مريرة للاسف .. يتم الخصم من حسابك البنكي ولا يتم تفعيل الطلب ،، يعني اخذوا فلوسك وانت تشوف ,, من تاريخ 20/8/2022 لحد اليوم تاريخ اليوم لم تسترد اموالي ...',\n",
       " 'من فترة كتبت عنه افضل تطبيق بلا منازع .. الآن صار اسوء تطبيق بلا منازع.. مشاكل ودايما تأخير ودايم اطلب اكل ويوصل متأخر أو مايوصل احيان ويحطو قائمة طعام غير موجودة ف المطعم أو البقالة .. للأسف حتى خدمة العملاء صارت سيئة ومافي أي احترام ولا تعويضات للزبون في حال التأخير ... جاري حذف التطبيق',\n",
       " 'تطبيق سيئ جدا مش شغال في بعض الاماكن لازم تكون من منطقة معينة عشان يحمل معاك ويشتغل',\n",
       " 'من أسوء التطبيقات فعلاً تندم على تنزيله سيء للغايه وغير صادق.',\n",
       " '👍👏',\n",
       " 'هلا هلا',\n",
       " 'ugg',\n",
       " 'انا اتكلم عن طلبات اللي في مدينة العين .. الصراحه الخدمة ممتازه سريعين في التوصيل',\n",
       " 'مرحبا',\n",
       " 'كثير العلانات على فاضي طورو حالكم',\n",
       " 'زي الزفت ولو فيه أقل من نجمة كمان يبقي احسن واسعارة اووووووووووووفر جدا دا خراب بيوت',\n",
       " 'فاشل ٣ ساعات مهمل طلبي بحجه ان المطعم زحمه ولمه رحت المطعم الوضع طبيعي وطلبات ماشيه',\n",
       " 'دة .........ئ ..؟............ ؟. . ؟؟. . . . .. . .. . . .. ... ...... ...... .. . .ةةةة. .ة؟.ىى؟.',\n",
       " 'ما بعرف ليش كل الناس بتحتاج هيك تطبيق سيه جدا بصراحه الاكل بارد وكل شي ناقص وبس يكون في غلط منهم الحل بدو اسبوع لا يتعالج',\n",
       " 'كان من أفضل التطبيقات لدي ولكن للأسف الأخطاء كثرت زعلان على تطبيق طلبات إلى ماوصل إليه',\n",
       " 'أنا حزين جدا بسبب الذي حصل اليوم أوردران يرجعو في نفس اليوم ومكالمات كاذبة',\n",
       " 'مشاللة علي الططبيق بس انتو مو عرفيلو',\n",
       " 'افضل تطبيق وانصح تنزلونه',\n",
       " '😍✨',\n",
       " 'تجربة سيئة وعروض الخصومات وهمية ولم تطبق معى سوى مرة رغم ان العرض ٣ اوردرات ومسئولي التطبيق لا يجدون اي حا',\n",
       " 'مع الشعب رائع حلو',\n",
       " 'تطبيق سئ 1-الاسعار اغلي بكثير من اسعار المطاعم بنسبة تتعدي ال25% وهذا كثير جدا برغم اخد سعر التوصيل يعني لو طلبت من المطعم هيبقي افضل 2-الكوبونات غير حقيقية بنسبة 95% 3-التوصيل بطئ جدا 4-خدنة العملاء أسوأ شئ في التطبيق',\n",
       " 'والله حرام عليكم كدة طلب اودرار مارت عبارة عن فرخه وزن 1000/1100والاخر بعتولى دبابيس الدجاج متباله وريحتها وحشى جدا ومنتهى الصلاحيه وكلمت خدمه العملاء بيقولى أن الاوردار وصلى صح ومفيش فى اى مشكله قولتلها طيب ابعت خد الاوردار تانى وشوف انت الصح اللى فى بيقولى هو دة اللى مواضح امامى وانت اللبس الاوردار بجد حسبى الله ونعم الوكيل فيكم على مهزله اللى بتحصل دى والله والله الاوردار وصلى غلط ومش عارف اثبتلهم ازى وبعتلهم الصور الاوردار مش معترفين بيها',\n",
       " 'تطبيق بطيء ولايعمل',\n",
       " 'التطبيق جيد جدا بس بقاله فتره بيتأخر فى وقت التوصيل',\n",
       " 'مافيش إشارة برسالة الطيار ياريت وده شيء سيئ جدًا 👎',\n",
       " 'بقي سئ جدا جدا .كنت بتعامل مع الاب من سنين . وكان كويس بس حاليا بقيتوا بالحرف وحشييين جدا وكل شويه كود خصم بيجي فين وفين . وحتي لما يستخدمه تبعتوا اي حجه عشان الخصم ميشتغلش واضطر اطلب من غير الخصم . انا مسحت الاب واي حد قولتله ينزله هنصحه انه يمسحه بردو .خساره كنتوا كويسيين جدا فالاول بس للاسف تقريبا مفيش حاجه بتفضل علي حالها . اسوا تجربه مريت بيها سواء في قله الذوق او غيره ومنصحش حد انه يستخدمه',\n",
       " 'سيئ وكل ماله يصير اسوئ وتوصيل غير منتظم وأنصحكم تحطون الدفع كاش عشان اذا تاخر الطلب كنسلو لان حقكم بيضيع والابلكيشن ما يعطيكم اي تعويض',\n",
       " 'تاعغههطكغع',\n",
       " 'تم الغاء طلبي بدون اي اشعار',\n",
       " 'صار استغلال رسمي، اسعار توصيل عالية، وغير عن هيك بزيد عسعر الوجبة الاصلي للاسفة اصبح سيئ جدا',\n",
       " \"قءىقءء٣خغءسص٢٣_€/'٣،ب١ص٢ص\",\n",
       " 'تجربه فاشله جدا جدا ما بحلو المشكله و كل مره المطعم و الكابتن بغلطو نفس الغلط و ما بتخلص الهمجيه عندهم بدهم يطعمو الناس على كيفهو شي بخزي',\n",
       " 'جميل',\n",
       " 'التطبيق للأسف اصبح سيء 💔 واسعارهم اعلى من اسعار المحلات مع زيادة الضريبة ورسوم الخدمة ع الفاتورة',\n",
       " 'سئ',\n",
       " '😂هههههههههههههههههههه ه ههههههههههههههههههه',\n",
       " 'الأمر صار غريب أكثر من مرة بطلع أنه الطلب مرفوض Unable to validate',\n",
       " 'برنامج تافه وسيء',\n",
       " 'ممكن اعرف موضوع ال 30درهم',\n",
       " '.تطبيق فاشل بكل معنى الكلمة يأتيني اشعار لقسيمة ثم افتح طلبات أجدها غير موجودة!! ويوجد مشاكل في الطلب من تأخر في الوقت و و ...... بعد التجربة لا أنصح بتحميله',\n",
       " 'لماذا لا يقبل التثبيت',\n",
       " 'طلبات',\n",
       " 'سيئ جدآ تم خصم من البطاقه 100 دينار ولم استلم شيئ',\n",
       " 'تطبيق على كيفه يلغي الطلبات. صاير فاشل👎👎👎',\n",
       " 'Good',\n",
       " 'الموظفين لايردو على استفسارات',\n",
       " 'انا كنت بدفع بفيزا ميزه بنك الاهلي عادي بعد التحديث لا يمكن الدفع بكارت الميزه حاليا كان كل التعامل بكارت عادي مفيش مشكله',\n",
       " 'خرا',\n",
       " 'افضل برنامج توصل',\n",
       " 'اسعار غاليه ولا انصح به',\n",
       " 'سيء جدا، لايتم الرد على الشكوى الابوقت متأخر جدا، كان البرنامج قبل أفضل الآن التفاعل عن الزبون والاهتمام إليه وشكواه لم تعد اولويه عند مشغلي البرنامج.',\n",
       " 'شكرا إلكم',\n",
       " '👌👌 برفكت',\n",
       " 'افشل ديليفري في عُمان',\n",
       " 'خائب لا يضم مطاعم مهمة وأسعار مرتفعة',\n",
       " 'التطبيق جميل جدا وأحيانا يعطي كوبونات خصم',\n",
       " 'قال حسيتو تضايق من صعصغغغعععععععععغ في عدد غغغفغععه',\n",
       " 'لايوجد مصداقيه واسعار مبالغ فيها وتاخير وطلب غير نظيف والفلوس ياخذونها واذا صار مشكله لاترجع والدليل الغاء خدمة الاتصال الهاتفيه اذا عندك مشكله يردون عليك بالمحادثه وطريقت الوصول لها معقده واخر شي الموظف يقول اتصل علي المطعم ومايرد وانا اتصل علي المطعم يرد علي اخر شي يقول نرجع لك المبلغ كاش ١٢.٤٠٠ من تاريخ ٢٨ / ٨ الي اليوم لم يتواصل معي احد واراسلهم علي الايميل يرسلون نفس الرساله متأسفين وسوف نحل المشكله وبالنهايه خذووو الفلوس والاكل غير نظيف والخدمه سيئه والدليل كل التعليقات تقول نفس هالكلام',\n",
       " 'عطيت فلوس باقي يرجع ماعطاني سرقه',\n",
       " 'جيد ولكن الطلب يتأخر عده مرات',\n",
       " 'نصبين وبستغلو الكباتن',\n",
       " 'افضل شركة',\n",
       " 'اسوء ابلكيشن علي الإطلاق ولو البرنامج والقائمين عليه عندهم الجراءه يكلموني يكلموني بس مفيش نصاب بيرد علي الفريسه بعد ما ينصب عليها',\n",
       " 'للأسف تطبيق فاشل وطلبت اول مره صار ساعه ونص كلشي ماكو..',\n",
       " 'ضحكو على الشوفريه',\n",
       " 'سيئ ضحكو على الشوفريه يالسياره',\n",
       " 'برنامج سئ للغايه طلبت اوردر توصيل مجاني اتفاجأت ان ضايف ٣٦ جنيه توصيل وطلبت طلبات من طلبات مارت جابلي الاوردر مختلف خالص ومش بيلغو الاوردر رغم انه الغلط من عندهم',\n",
       " 'ج ١',\n",
       " 'كيف يمكن استرداد القسائم المنتهية',\n",
       " 'للأسف تم تحميل البرنامج لأول مره وتم طلب اول مواد وتم إحضار المواد على الوقت ولكن للأسف غير الجوده العاديه وتم اطعامها للعصافير حيث قام احد المندوبين بالتواصل معي وعن وجود أي ملاحظات...وقمت بأخباره عن سوء جودة المنتج ..وكان جوابه فقط الاعتذار...لذلك لم يتم نجاح التطبيق في السعودية قبل عشر سنوات وفشل فشل ذريع عكس تطبيق جاهز خلال سنتين كان رقم واحد في السعودية من حيث التعامل وجودة المنتج والمصداقية.. وخدمة ما بعد البيع..',\n",
       " 'ننا',\n",
       " 'برنامج فاشل جدددددا',\n",
       " 'ضريب',\n",
       " 'سيئ',\n",
       " 'كان بل اول جميل لاكن صرتو تحطو ضريبه وتغلو الاسعار اكثر وبطلتو تنزلو قسائم خصومات وفوق كل هاذ رح اقيمكو نجمه عشان الحركه الي عملتوها مع عمال التوصيل تاعت السيارات خليتوهم يصلحو ويعبو بنزين على حساب تعبهن وما اعطيتوهم السياره❎❎❎ تطبيق سيئ زربه زباله',\n",
       " 'البحث عن الوجبة في التطبيق اصبح اصعب، التطبيق حاليا يقترح مطاعم لا تحتوي على الوجبة المطلوبة اصلا',\n",
       " 'مافيه الا مطعم واحد والله تطبيق نكته ..',\n",
       " 'سي جدا تم دن افضل',\n",
       " 'خانة الخصومات غير موجودة اجدها احيانا وغالبا غائبا ويقولون ان عندي كوبونات لكن الخانة مختفية ارجو اصلاح هذه المشكلة',\n",
       " 'تمام',\n",
       " 'مبلغ التوصيل معادل مبلغ الاوردر ازاي',\n",
       " 'الاسعار مبالغ بها',\n",
       " 'افضل تطبيق بالعالم دام الدون سوا اعلان',\n",
       " 'استغلال رفع الاسعار اكثر من بره',\n",
       " 'افضل تطبيق',\n",
       " 'مخادعين ضحكو على الدرايفر بالسياره حسبي الله فيكم',\n",
       " 'الأبلكيشن موصلني بدليفري أوردر تاني خالص ومتأخر عن المعاد ساعة ونص.',\n",
       " 'التوصيل جدا غالي الضريبه الاضافيه على المبلغ بالاضافه الى ان الاصناف اغلى من سعرها للاسف تجربه سيئه',\n",
       " 'في البداية كان تطبيق رائعا حيث كان التوصيل مجاني و سريع ايضا لكن الآن أصبح بطيئا و التوصيل ليس مجاني و المندوبين الشباب يتحرشون بل فتياة البيت عند الاتصال نعم ارجو ان تراقبو المندوبين الذين ترسلونهم إلى بيوت العالم',\n",
       " 'عدم احترام وقت توصيل الطلب وبعد الوقت المقدر لتوصيل الطعام 40 دقيقه وبعد انتهاء الوقت تفاجئنا بتمديد الوقت الى ساعتين وعند التواصل معاهم عن طريق الدردشه ماأخذنا منهم غير الكلام الحلو الي لابقدم ولا بأخر المشكله ... هذا ثاني مره اتعرض لنفس المشكله معاهم ولا في حل للشكوى وعندما طلبت التواصل مع الاداره افادوا بأنهم سيتواصلون بعد 60 دقيقه معاي ... الظاهر مشغولين من كثرة الشكاوي هههههه',\n",
       " 'تطبيق مزعج بكثرة اعلاناته الغبية في كل مكان',\n",
       " 'زباااله',\n",
       " 'تطبيق روعه شكرا طلبات',\n",
       " 'سييييييييء',\n",
       " 'صاير تطبيق فاشل',\n",
       " 'تعرضت للكثير من النقص بالطلبات و اغلب الوقت يتم الغاء الطلبات لعدم تمكن التطبيق من الالتزام بالمصداقية مع العملاء',\n",
       " 'اسوء تجربة مع هذا التطبيق، لعدم وجود مصداقية في الالتزام بالوقت، حيث يقوم التطبيق ببيان الوقت المحدد لتوصيل التطلب، وبعد اتمام عملية الطلب يتم مضاعفة وقت التوصيل. ان عدم الالتزام بالوقت، وتضييع وقت المتعامل مع التطبيق لهو من اسوء الامور التي تجعل مستخدم التطبيق لا يثق بتاتاً به.',\n",
       " 'لدى مطعم تجهيز فى المنزل اريد التواصل معكم',\n",
       " 'زفت',\n",
       " 'افضل برنامج لتوصيل الطعام في العراق من كل النواحي',\n",
       " 'طلبات كريستيانو رونالدو كذب😂👎💔',\n",
       " 'Sincerity of Fatima Zahra',\n",
       " 'هين قرشك ولا تهين نفسك...ياليت تلغو الخدمه تبع الاستلام لان التعامل سئ جداً مع المطاعم لما تجي تستلم طلبك.. يعاملك كانك خادم عند ابوه..وعلى أيش على 300 بيسه توفير. (افضلي اطلب مباشرة من المطعم).',\n",
       " 'مرتب',\n",
       " 'سيء جدا جدا لايوصل إلى جمي الأماكن في الدولة اتمنا حل المشكلة',\n",
       " 'تطبيق سيىئ جدا تأخير بشكل كبير اسعار غاليه جدا بعملك التوصيل مجاني او بسعر رمزي وبكون رافع سعر الوجبات بشكل مش طبيعي',\n",
       " 'تطبيق زبالة تم طلب وخصم المبلغ في الاخير تم الغاء الطلب من قبل المطعم بدون سبب واضح ولم يسترد المبلغ للان 👎👎👎👎👎👎',\n",
       " 'التطبيق والخدمة أصبحت سيئة جدا للأسف',\n",
       " 'زفت يا نصابين',\n",
       " 'غير مناسب',\n",
       " 'برنامج ظالم ونصاب',\n",
       " 'التطبيق سي ولا يعمل',\n",
       " 'غير متوفر في جميع المتاجر',\n",
       " 'مع الشباب الاردني',\n",
       " 'ممناز',\n",
       " 'تطبيق فاااااشل مادييين وغشاشين وواستغلالييين الطلب اصلا زايدين ع سعرو وبتاخدو رسوظ خدمه وضريبه مبيعات وتوصيل ول عليكم جوعانين انتو وهي رح اشطب التطبيق لاني بطلت استفيد منو',\n",
       " 'من سيئ لاسوء طلبي ٢.٥٠ بصير ٤ دنانير ليس رسوم خدمة ورسوم ضريبة ورسوم توصيل !!!!!!',\n",
       " 'ليه غيرتو اللغه شايفنا اجانب',\n",
       " 'ضض١ص٣ضصصصشك',\n",
       " 'سيتم حذفه حتى اعطاء الشباب حقوقهم',\n",
       " 'ممتاز جدا وبشكركم عل هتمام',\n",
       " 'تطبيق سيئ',\n",
       " 'سيء جدا',\n",
       " 'غير صادقين مع السائقين',\n",
       " 'سيء شركة طلبات فرع الاردن نصابة',\n",
       " 'تطبيق فاشل، يفتقر للأمانه 👍.',\n",
       " 'تطبيق فاشل وسئ للغايه',\n",
       " 'سيء جدا وما في مصداقيه',\n",
       " 'شركة احتياليه',\n",
       " 'صراحة طلبات شي رائع ومريح جدا وفي اي وقت تطلب اللي على بالك . بالتوفيق يا رب وإن شاء الله تطور التطبيق اكثر ويصبح في كل المجالات',\n",
       " 'شرمة نصب وحتيال',\n",
       " 'كل شوية يقفل لوحده',\n",
       " 'كانت جيده اصبحت احتيال ونصب شهر كامل واكثر وانا اعاني من استخدام رصيد طلبات لاكن اي طلب اخر من طلبات لا حياه لمن تنادي اطالب جميع الاردنيين بشطب التطبيق واستعمال تطبيق اردني اخر انهم نصابين وحراميه وكذابين متميزون بلكذب والكلام العسول علينا نحن الاردنيين ان نشتعمل تطبيق اخر اردني الصنع ونشطب طلبات ونودعه اله بلده نصابين',\n",
       " 'ممتازه',\n",
       " 'تطبيق سيئ ونصابين',\n",
       " 'سيء',\n",
       " 'تطبيق سيء كلنا معاً لأفشال هذا التطبيق بسبب عدم احترامكم لحقوق الموظفين',\n",
       " 'مقاطع',\n",
       " 'هنجر ستيشن افضل من وجهة نظري .',\n",
       " 'تاني مرة يحصل غلط في الاوردر ومش لاقية رقم للتواصل',\n",
       " 'تجربة سيئة جدا لا انصح به بشده لايحترم الزبائن ولا الموظفين',\n",
       " 'اسوء ططبيق',\n",
       " 'بخزي🤮 طلبات🤮',\n",
       " 'خايس',\n",
       " 'سيارات الموظفين',\n",
       " 'شركة سيئة بعد ما وعدت سائقيها بتملك السيارة بعد ثلاث سنوات ولم تفي بوعدها ونفت ذلك شركة استغلاليه و يتم خصم ثمن الطلب اكثر من المطلوب',\n",
       " 'تضامنا مع السائقين اللي نصبو عليهم الشركة الهاملة',\n",
       " 'حرام عليكم تضحكو على الشباب وتستغلو قدراتهم ومجهودهم وبالاخر تقولو الهم مالكو اشي لاكن عند الله مابروح حق',\n",
       " 'طلبات وصلولي طلب بالغلط وطلب قديم كانه معموله من ٣ ايام ولما اتصلت على خدمة العملاء قلت لهم هذا ليس طلبي قالوا مانقدر نسويلك شي تواصل على لايف شات ولايف شات متوقف.. يحطون العميل بمتاهات وتروح عليه فلوسه وهذا اللي حصل معي جاري حذف التطبيق',\n",
       " 'سيئ جدا',\n",
       " 'لا استطيع تحميل التطبيق.. أحاول أن أحمل التطبيق من أيام لكن من دون اي جدوى',\n",
       " 'برنامج ممتاز ومفيد',\n",
       " 'شركة نصابة لا تستحق الاحترام .............................................................................................................................................................................',\n",
       " 'سئ جدا ولا يتم محاسبة الكباتن بشكل عادل',\n",
       " 'مع السائق',\n",
       " 'سيء جدا لانكم نصابين رجعو حقوق الموظفين #مقاطعة_تطبيق_طلبات',\n",
       " 'لم تلتزم الشركة بإعطاء العمال السيارة بعد ٣ سنوات كما وعدتهم سابقا',\n",
       " 'سيئ جدا لانو بعد فترة قامو بحظري',\n",
       " 'تطبيق فاشل وبكل مقاييس المهنه',\n",
       " 'زباله',\n",
       " 'تطبيق سيئ جدا ...واسعار وعروض مخادعه',\n",
       " 'سيئ جدا والكباتن مظلومة مع هيك تطبيق',\n",
       " 'تطبيق فاشل وغير ملتزم في قوانين وزارة التجاره من حيث تسعيرة التوصيل وتلاعب في الاسعار بالاتفاق مع المطاعم واذا اخطئو بالطلب يضيع حقك وفلوسك وعدم اهتمام بالزبائن والموضفين القائمين علي الدعم والمساعده بالتطبيق يسعون الا افشال التطبيق بحجج واهيه وغير مقنعه وتظيع المبالغ وعدم المساعدة في ارجاعها او مطالبة المطعم في اكمال الناقص من الطعام انصح بعدم تحميل التطبيق ولي ضمان وصول طلبك كامل وساخن اطلب من المطعم مباشره',\n",
       " 'قال شو بعمللك عروض خصم وهو ماخذهن منك مدوبلات خصم شو هذا الوجبه السوبر ثمنها دينارين ونص وعندكم ثلاث 75 ودينار توصيل اربعه و 75 وين الخصم في الموضوع تسمع بالمثل اللي بحكي مطرح ما💩💩 شنقوه',\n",
       " 'اسوء تطبيق سسسسييييييييءءءؤؤؤؤ',\n",
       " 'للأسف الأسعار أغلى من المطعم بكثير',\n",
       " 'طتبيق سيء قد ارسلي منتجي مسكوبا',\n",
       " 'نصب واحتيال',\n",
       " 'طبنصي😄😄😂😴😈',\n",
       " 'كله كذب بكذب',\n",
       " '👎🏻👎🏻👎🏻👎🏻👎🏻',\n",
       " 'غير مناسب اسعار اغلى عن المعروض',\n",
       " 'كتير حلو التطبيق ، بس ما في قسام كل تلات سنين تعطوني وحده ؟',\n",
       " 'سيئ وكان في اغراض ناقصه ما قدرنا نتواصل معهم',\n",
       " 'لا انصح بتحميل البرنامج',\n",
       " 'غير صريح مع الزبون',\n",
       " 'فخميين',\n",
       " 'حتى نجمة ما بستاهل بضحكو على بالتوصيل المجاني وبزيدو الضرائب وغير هيك بسحبو من الفيزا بدون ما يتأكد الطلب 🙂',\n",
       " 'للاسف الربح المادي يبدو أنه المتحكم الوحيد بالشركات... ومن باب أولى كسب الموظفين',\n",
       " 'تطبيق زبااااالة ونصابين',\n",
       " 'شركة نصابة',\n",
       " 'مقاطعة طلبات حتى ترجع للشباب حقوقهم',\n",
       " 'استغلال الموظفين نصب لا يسكت عنو',\n",
       " 'أعطوا حق الناس 😡',\n",
       " 'بطول ليبين انه اخذ الطلب',\n",
       " 'سيئين جدا',\n",
       " 'سيء للغاية',\n",
       " 'خدمه سيئه',\n",
       " 'سيء بدنا سياره',\n",
       " 'مقاطعة طلبات',\n",
       " 'سي جدا لا انصح بتحميله',\n",
       " 'مع السائقين',\n",
       " 'رجعو للناس حقوقهم',\n",
       " 'يجب ان تكونوا صادقين مع العاملين لديكم',\n",
       " 'لا يستحق حتى نصف نجمة',\n",
       " 'سوء معامله وعدم احترام وتطبيق لا يعمل بالشكل الجيد وأسعار عاليه وعدم دقه في المواعيد وخدمة عملاء سيئه جدا وعدم استجابه وعدم حل المشاكل',\n",
       " 'أنا زبون عندكم تقريبا من اول ما فتحتم لاكن تضحكو على شباب التوصيل ما رح نكون شركاء معكم لهيك نجمه ولو في اقل حطينا ما رح نرجع نستخدم تطبيقكم',\n",
       " 'طلبات الاردن يأكلون حقوق ابناء الاردن المكافحين الذين وقفو معهم يداً بيد بالأيام المرة قبل الحلوة شركة نصب واستخفاف بعقول الشباب الشغيلين عندهم',\n",
       " 'ضروري تخربوا سمعتكم وتنصبوا على العمال؟',\n",
       " 'تطبيق زفت وشركه كاذبه',\n",
       " 'هه',\n",
       " 'جدا سيء',\n",
       " 'غير منصفه واسعار غير حقيقيه',\n",
       " 'نصبه ع الموظفين الي بيشتغله معهم قاطعوهم',\n",
       " 'حسبي الله ونعم الوكيل',\n",
       " 'تطبيق سيء لا انصح باستخدامه',\n",
       " 'نصابين',\n",
       " 'سئ جدا',\n",
       " 'سيء جدا .. نصب وكذب ودجل',\n",
       " 'تطبيق جدآ ممتاز 🥰',\n",
       " 'لماذا تم استغلال الموظفين لديكم وعدم الايفاء في وعدكم اتجاهم',\n",
       " 'الموقع أحيانآ مايعمل',\n",
       " '😡',\n",
       " 'شىكة نصب واحتيال \\u200fشركة طلبات في الأردن وعدت الموظفين اذا اشتغلوا معهم ٣ سنين رح تكون سيارات التوصيل الهم وقبل ما تخلص ال٣ سنين بأشهر طردوهم بحجة الأداء السيء علما بأنه راتب الموظفين كان 260 دينار وكان بنزين السيارة وتصليحها عالموظف لازم نقاطع الشركة لحد ما يرجعوا للموظفين حقوقهم \\u200e#مقاطعة_طلبات',\n",
       " 'لعيون صاحبي الي ناويين تاكلوا حقه بعد سنة و 3 شهور',\n",
       " 'اعطوا الشباب حقوقهم',\n",
       " 'انصفوا عمالكم ولا تظلموا أحد',\n",
       " 'تطبيق فاشل قام ب استغلال الشباب من قبل الإدارة السيئة',\n",
       " 'شركه نصابه تقوم بالنصب على الكباتن بوهمهم بتسجيل السياره باسمهم بعد ثلاث سنوات وتقوم باعطائهم راتب رمزي وبعد ثلاث سنوات تقوم بنقض الأتفاق',\n",
       " 'نصرة للمظلومين اللي خدعتوهم',\n",
       " 'الاكل بصل بارد وماكول نصو',\n",
       " 'أعطوا الناس حقوقها بلاش ربنا يسخطكوا',\n",
       " 'افشل تطبيق',\n",
       " 'سيئ جدآ جدآ',\n",
       " 'نصااااابيييييين',\n",
       " 'نصابين .. سعر السلعة على طلبات أعلى من سعرها المعروف .. تعاملهم سيء مع الموظفين',\n",
       " 'يجب مقاطعه هذا البرنامج فى اسرع وقت بسبب معاملتهم السيئه مع موظفينهم وعدم اعطاهم حقوقهم وظلمهم الله يعوض هاولاء المساكين بوظيفة افضل من هذه الشركه النصابه',\n",
       " 'مع المقاطعة',\n",
       " 'التعامل ممتاز والوصول كان على الموعد شكرًا لكم',\n",
       " 'تجربة سيئة تم الحدف',\n",
       " 'تجربه سيئه وموظفين توصيل بلطجيه وأسلوب سيء بالتعامل نصابين احذروا من التعامل معهم انا نصبوا علي بمبلغ 165 دينار وتم حظر حسابي احذروا منهم',\n",
       " 'يجب ان تلتزمو مع سائقي التطبيق الذين هم اساس شركتكم وتعوضوهم عن خسائرهم واعطائهم السيارات التي وعدتموهم بها منذ البدايه',\n",
       " 'الشركه طلبات شركه محتالة',\n",
       " 'برنامج رائع ومعامله رائعه من قبل الخدمه والتوصيل وكادر البرنامج',\n",
       " 'تم حذف التطبيق وتقييمه بنجمة لعدم منح السائقين حقوقهم',\n",
       " 'تاخر الطلب كثير',\n",
       " 'نصب حرام',\n",
       " '#قاطعوا تطبيق #طلبات ما تشاركوا بظلم الشباب الطموحين كان هدفهم يوفروا قوت يومهم بكل الطرق !!!! فوق القلة والبطالة والفقر والظلم كمان #كذب واستغلال لحاجة الشباب والتجبر عليهم وأكل حقوقهم !!!!! ما بعرف لوين واصلين #بهالغابة بس ما بقول الا يارب لطفك بهالشعب !!!',\n",
       " 'سيئ جدا جدا',\n",
       " \"Talabat jordan promised the employees with a free car after 3 years of working but instead it fired the employees for no reason and didn't give them the car they agreed on.\",\n",
       " 'ممتاز التطبيق',\n",
       " 'كذابين طلبات الاردن ونصابين',\n",
       " 'تطبيق لا ينصح به',\n",
       " '👏🏻👏🏻',\n",
       " '(يا أيها الذين آمنوا أوفوا بالعقود ... )',\n",
       " 'عشان نصبتو ع الكباتن',\n",
       " 'تطبيق سيئ وغير منصف',\n",
       " 'تطبيق لصوص',\n",
       " 'وكثيرة عليكم',\n",
       " '🌹🌹',\n",
       " 'تطبيق ممتاز في كل اوقات❤️',\n",
       " 'كان زمان من افضل التطبيقات حاليا اسوءهم تجربة لا تستحق الأعادة تطبيق صار فاشل بتطلب الطلب بعد ساعة ونص حتا يوصل الأوردر و فوق هيك بمنية و كأنهم جايبين الأكل ببلاش . غير الأسعار الخرافية يلي صارت لا انصح به ابداااا ....',\n",
       " 'حسبنا الله ونعم الوكيل',\n",
       " 'حرام يلي عملتوه مع الموظفين بالاردن اعطوهم سياراتهم',\n",
       " 'حقوق الانسان تظلم في هذه الشركة',\n",
       " '#مقاطعة طلبات',\n",
       " 'بسبب سوء المعاملة مع الموظفين لديها.',\n",
       " 'شركه نظامها فيه خلل بطلب من المطعم و بيجهز الاوردر و بعد ١٠ دقايق بيعتذرو و بيعوضوني دينار واحد و بيتشرط علي اصرفو خلال كم يوم ثاني اشي يلي بيسكت عن حق الناس ما يزعل بس حقو يضيع.. انا اليوم راح احذف هاد التطبيق ل حد م الشركه توضح شو يلي صاير مع موظفيها يلي بالبلد و تكون أمام حلين اما الاعتذار و التعويض المالي او إعطاء الموظف ما وُعد به(سياره)',\n",
       " 'شركة مافيها خير لموظفيها .. ما فيها خير للناس',\n",
       " 'تطبيق سيء وشركة سيئة بالتعامل مع جميع فئات الشعب ومع الموظفين حسبي الله ونعم الوكيل فيكم وبكل حدا بشارك بالمسخرة تبعتكم حسبي الله فيكم',\n",
       " 'شركة كذابة تقيم زبالة نصره للشباب العاملين فيها',\n",
       " 'راجعو الموظفين',\n",
       " 'احتيال وغش ومخادعة للموظفين وإخلاف الوعود لهم بامتلاك سياراتهم رغم التعهد لهم بذلك بعد مضي 3 سنوات على العمل.. سرقة أتعاب الموظفين وجعلهم يقومون بصيانة السيارات وتعبئة بنزينها على حسابهم الخاص لهم الله وعلى الظالمين والمخادعين مكر الله حذف التطبيق جارٍ...',\n",
       " 'سيئ رجع حق الموظفين',\n",
       " 'تطبيق استغلالي جدا وسيء',\n",
       " 'مقاطعة شبابنا مو لعبة بأيدكم حتى تستغلوهم ونرضى',\n",
       " 'انا بدي الغي التطبيق دعم لموظفي التوصيل المظلومين في الاردن مع اني كنت استعمله كثير',\n",
       " 'أعطو الناس حقها',\n",
       " 'رجعوا حقوق الموظفين',\n",
       " 'سيئ جدا لا انصح بتنزيله',\n",
       " 'حق العمال لازم يرجع',\n",
       " 'رجعوا للعاملين الاردنيين حقهم، اعطوهم سياراتهم.',\n",
       " '🤐🤐🤐🤐',\n",
       " 'حقوق الناس اين',\n",
       " 'تعامل سيئ',\n",
       " '❤️',\n",
       " 'أعطو الشباب حقوقهم',\n",
       " 'كنت استخدم هذا التطبيق ولكن حذفته الى أن يتم إرجاع حقوق الموظفين المظلومين في قضية تملك السيارة بعد ثلاث سنوات تطبيق سيء ولا أنصح به',\n",
       " 'خدمة العملاء عندهم فوق السيئة ولي اكثر من تجربه معهم .... طلبت مره من البقاله ووصلني الحليب مفتوح وصورت لهم وتكلمت معهم انهم يستبدلونه وقالو تمام وماودو حد من مناديبهم ياخذه + ارقام المطاعم لو بتواصل معها داخل البرنامج مايردون + الطلب يتأخر + العصاير لو طالب شي ودفعت له يجيني شي ثاني',\n",
       " 'افضل برنامج',\n",
       " '#إلغاء_تطبيق_طلبات موضفين طلبات مش عبيد عندكم',\n",
       " 'تطبيق جداً سيء',\n",
       " 'مقرف لا انصح بتحميله غير صادقين',\n",
       " 'نجمة واحدة لأنهم اكلوا حق موظفين',\n",
       " 'سيئة جددا وغير واقعي',\n",
       " 'زي الخرا',\n",
       " 'معاملة سيئة للغاية',\n",
       " 'شركة تفتقد للمصداقيه تم حذف التطبيق نهائيا',\n",
       " 'انصفوا الموظفين',\n",
       " 'حسبي الله ونعم الوكيل على كل متكبر شايف حاله',\n",
       " 'عيب عليكم ضحك على الشباب بعد ثلاث سنوات وهي مسح للتطبيق',\n",
       " 'نصرة لسائقي طلبات ، توعدو السائقين بسيارات وتخلفو .',\n",
       " 'لا يوجد مصداقية للشركة',\n",
       " 'تطبيق سيء وعدو سائقينهم ب اعطائهم السيارات بعد العمل لمدة ٣ سنين وعند انتهاء المدة أغلق مدير الشركة هاتفه ولم يردو على اتصالات الموظفين',\n",
       " 'نصرة للموظفين',\n",
       " 'ممتازة',\n",
       " \"It's agood app\",\n",
       " 'سيئه',\n",
       " 'مشكلات كثيرة، متعلقة بالتطبيق والعروض الوهمية، وخدمة التوصيل',\n",
       " 'يععع',\n",
       " 'الرجاء إيضاح قصة عدم إنصاف العمال بعد وعدهم بتملك السيارة بعد ٣ سنوات عمل.',\n",
       " 'هل يوجد في التطبيق العاب للتوصيل؟ فأنا اريد بلابل البي بليد',\n",
       " 'تطبيق فاشل فاشل اول شي كان حلو بعدين شافو الناس حبته وصار فاشل انصح بعدم تحميله وشكر',\n",
       " 'أنا كنت كتير معتمده على هاد التطبيق بس بعد إلي عملوا بالشباب وضحكو عليهم وما اعطوهم السيارات بعد خدمتهم ٣سنين راح الغي التطبيق من عندي',\n",
       " 'مقاطعه',\n",
       " 'حصل مشكله في الاوردر و جه ناقص وكمان السعر أعلى من اللي مكتوب في الابلكيشن و خدمه العملاء مش بيفيدو بحاجه وفي الاخر الاوردر اتلغى وتقولي بكل بساطه اطلب الاوردر تاني ؟؟!! ودي مش اول مره',\n",
       " 'برنامج نصاب وكذابين',\n",
       " 'اسعارهم غالية ، بستغلو موظفينهم والمطاعم',\n",
       " 'تم الحذف',\n",
       " 'مرة طلبت طلب و تأخر علي ساعتين',\n",
       " 'اسوء تطبيق',\n",
       " 'يقدر الشخص أنو يدفع كاش ارجو الرد في اسرع وقت ممكن',\n",
       " 'ممكن اطلب طلب لشخص في مصر ونا موجود في السعوديه هل يتم التوصيل او لا ممكن تفيدونا الله يجزاكم خير',\n",
       " 'استغلاليون.',\n",
       " 'التطبيق يستغل حاجة الأردنيين للعمل ويضيق عليهم، حذفت التطبيق وسأقاطع الشركة',\n",
       " 'روعه',\n",
       " 'البرنامج كان رائع ولكن من بعد آخر تحديث أصبح لا يعمل',\n",
       " 'تطبيق لا يحمي العميل يحمي نفسو و عدم المرونة في التعامل فاشل',\n",
       " 'السلام عليكم انا شريت من مطعم من طلبات بس بعدين كنسلت الطلب وقالولي الفلوس راح ترجع نطرت بس ما رجعت ف شنو الحل',\n",
       " 'التطبيق أصبح فاشل من خدمة سيئه إلى اسوء من خدمة العملاء و سائقي التوصيل و المطاعم التطبيق ياخذ المبلغ و من ثم يلغي الطلب و يحول المبلغ إلى رصيد طلبات و لا يوجد رقم اتصال ب خدمة العملاء مجرد دردشه و غير مجديه',\n",
       " 'بخزي',\n",
       " 'التوصيل متاخر',\n",
       " 'التطبيق كان ممتاز من حيث سلاسة التعامل و الطلب و تصفح المطاعم، و الآن يوم بعد يوم يزاد سوء بكل ما تعنيه الكلمة و يتجه نحو الحضيض، يرجى من القائمين على البرنامج ارجاعه لسابق عهده و إزالة هذه التحديثات البالية',\n",
       " 'مع الشعب 🤣',\n",
       " 'ظلم الشباب الأردني والكذب عليهم بعد خدمة ثلاث سنوات بعدم اعطاءهم السيارات التي وعدوا بها تستحق صفر أو أقل... ورح ألغي التطبيق',\n",
       " 'اعطو الكابتن حقهم',\n",
       " 'حلو جدا ممتاز',\n",
       " 'كل مرة بطلب من عندكم يوصلني الاوردر ناقص وتواصلت مع الشب سكر المحادثه قبل ما اخلص حكي بتستخفو بعقولنا انتو راح امحي التطبيق تاعكم',\n",
       " 'Jgc',\n",
       " 'الكابتن دايما دلوع وبتشكونوا',\n",
       " 'فيهي كل شئ',\n",
       " 'ممتاز انصحكم تنزلو ⭐⭐⭐⭐⭐',\n",
       " 'سيئة للغاية 👎',\n",
       " 'بطيئ وكثير من الاحيان يفصل اثناء الدفع ولا يوجد وضوح بكيفية استخدام النقاط لدي اكثر من ٢١٠٠٠ نقطة',\n",
       " 'تطبيق رائع لجميع احتياجاتك بالطعام و شراء اي شيء من السوبرماركت',\n",
       " 'نصابين بضحكوا علي العالم وفوق كل هاد اسعار التوصيل والاكل نار مافي مسوليه او احترام او تقدير للزبون او السائق الله لايسامحكوا',\n",
       " 'تطبيق سيء لا تحمله مشاحة عل فاضي الطلب راح يوصل بارد و مأكول منه والاكل بخزي و كأنه مبصوق فيه من قبل الكابتن اشي مقرف 🤮🤮🤮🤮🤮🤮🤮🤮🤮🤮🤮🤮🤮🤮🤮🤮🤮🤮🤮🤮🤮🤮🤮🤮🤮🤮🤮😵\\u200d💫😵\\u200d💫🤢🤢🤢🤢🤢🤮🤮',\n",
       " 'حرامية',\n",
       " '٣ مرات متتالية اطلب اوردر يوصل لي بعد ساعتين و بعد ساعتين و نص ويوصل بارد و مقلوب و كل مرة يطلعوا حجه مرة البنزين خلص من الكابتن مرة المطعم هو المتأخر مرة الكابتن جه و موبايله فصل فا رجع للمحل الاوردر و قاله اطلب كابتن تاني بجد خدمه سيئه اوي 🤦🏻\\u200d♂️🙂',\n",
       " '❤️❤️',\n",
       " 'عذراء لم يمكنن الوصول للموقع',\n",
       " 'اعطوا صحاب السيارات حقهم',\n",
       " 'چيد',\n",
       " 'نصب و احتيال على الموظفين اتفاق الشركه ثلاث سنين و بتوخذ سياره و لما قربت الثلاث اسنين طردت الشركه الموظفين',\n",
       " 'ما تعرض له كباتن الشركه من ظلم و إنكار لحقوقهم هذه تعتبر جريمه بشعه في حق المجتمع والجميع ولن اشارك في نماء وتنميه شركة لا تصدق مع موظفيها علما باني كنت استخدم التطبيق شبه يوميا إلا أن ما قامت به الشركه من تحايل على موظفيها جعلني اقوم بإلغاء التطبيق من هاتفي واتمنى من الجميع أن يحذون حذوي حتى لا نساعدهم على نكران حقوق موظفيها',\n",
       " 'رائعه 🥰🥰',\n",
       " 'مقاطعة نصابين ليش ما تعطو شباب حقهم مقاطعة مقاطعه',\n",
       " 'انه رائع لكن التاخير',\n",
       " 'شركة سيئة',\n",
       " 'موقع سيئ ما انصح حد فيه',\n",
       " 'سهل',\n",
       " '٢بلببببببببب2ب٢٣ب٢ب٥٥',\n",
       " 'نتليس',\n",
       " 'لا يتم تطبيق الخصومات المقدمة يقدم ال app خصم قبل اتمام الاوردر وبعد تفعيل الخصم وحساب قيمه الاوردر واتمام الطلب يتم إلغاء الخصم دون ارسال اي اشعار ودون معرفه سبب الغاء الخصم؟!!',\n",
       " 'الأسعار مبالغ فيها ودائما اكثر من قائمة المطعم',\n",
       " 'ليش بتضحكو على موظفين واوهمتوهم انه الهم سيارات بعد ٣ سنين ليش الحرمنه والنصب راح نعمل مقاطعة',\n",
       " 'عجبني',\n",
       " 'سيء ومضطهد لموظفيه وزبائنه ايضا سيء للغايه',\n",
       " 'ما انصح احد يحمله',\n",
       " 'اسوء خدمة',\n",
       " 'التطبيق أصبح سئ للغاية..لا استطيع فتحة',\n",
       " 'حلو.',\n",
       " 'التطبيق كان افضل تطبيق عندي تطبيق اخر فترة بطول الطلب كثير وما بقبلو الطلب وبلغي بوصلني على البيت بعد ساعة وانا بكون لاغي الطلب وبدهم يدفعوني سعر الطلب وانا بكون لاغي بسبب عدم قبول طلب المطعم والبحث عن الساءقين الطويل جدأ',\n",
       " 'تعامل سيئ ومقرف جدا تطبيق فاشل وشركة افشل ما حدا برد من خدمة العملاء وممنوع الغي طلب الو اكثر من ٤٥ دقيقة وبحكيلي لسا بدو نص ساعة',\n",
       " 'سيء جدا جدا',\n",
       " 'خساره',\n",
       " 'تاخيررررررر',\n",
       " 'خدمة بقت زى الزفت للاسف .. الاوردر طالباه الساعه ١ وربع جالى ٣ وبطلبات غلط وحساب مختلف عن اللى ظاهر عندى والدعم مش بيرد ولا فى حد بيسال ولا بيعبر وقسيمة وراحت ودم ناس بيتحرق وانتو ولا على بالكم اى حاجة',\n",
       " 'انا كان معي مصاري بلمحفظه وعملولي بلوك والمصاري راحن اعملت تسجيل خروج من الحساب مش راضي يرجع يفوت ع الحساب',\n",
       " 'التطبيق جميله جدا جدا',\n",
       " 'التطبيق صار جدا سئ بطلت عارف تفاصيل عن الطلب زي زمان الوقت كثير بتأخر للتوصيل صار من أسوء التطبيقات انصح بعد التفكير في تحميله',\n",
       " 'انا عش',\n",
       " 'ايعار طلبات اغلى عن اسعار المطاعم الاصليه بكثير لا انصح بالتطبيق ابدا الا للمضطر',\n",
       " 'شركه حراميه حسبي الله ونعم الوكيل',\n",
       " 'ما حدا يشتري من البطاقه عشان بصيرو طلبات يوخدو مصاري بدون ما تعرفي وصارت معي مشكله انا موصي من ابو عمر وصيت من تبع الهاشمي بس وصل الطلب بحكي انا رحت على النصر الحساب ليرا وبريز بحكيلي الحساب ليرتين وستين وما دفعب ياريت يا طلبات تصلحو هاي المشكله',\n",
       " 'لم يتم تنفيذ الطلب وتأخر في الطلب',\n",
       " 'انا حر',\n",
       " 'سي جدا على الرغم من وضوح العنوان إلا أن الطيار لم يصل وطلبني مرات عديده وارهقنى. ولم ىصل وندمت انى قمت بهذه التجربه .علما بأن الطيار مر امامي ولفت نظره لذلك .لا تطلبوا طلبات',\n",
       " 'ارجو الرد على المساعده موراضي ينزل',\n",
       " 'فيه كل احتياجاتك مطاعم بقاله و صيدليات',\n",
       " '👎👎👎👎👎👎👎👎',\n",
       " 'بغنبيزديويوماةاع ة. اسمي خالة نتلى \\u200cابءءء756665',\n",
       " 'احلاااااا جمعيه كامله كل شي والله سهلتوا علينا وفوق هذا عروض قويه ومرات يهدون كوبون خصم او هديه',\n",
       " 'البرنامج كان شغال معايا كويس لحد امبارح النهارده بيقولى ان منطقتى خارج التوصيل !! ده ايه السبب بقا',\n",
       " 'البرنامج مش شغال من امبارح علي التلفونات ٤',\n",
       " 'والله ما أنصح أحد ينزله كل شي غالي والتوصيل غالي',\n",
       " 'في البداية كان ممتاز جدا ولكن الان اصبح من اسوء تطبيقات التوصيل التاخير في توصيل الطلبات التاخير في الرد من قبل الدعم لحل المشكله اضافه مبالغ نقديه على مبلغ التوصيل من قبل التطبيق عدم احترام الوقت المتفق عليه . يعطي وقت توصيل معين ولا يلتزم به ويتم زياده الوقت تدريجيا لفتره طويله قد تصل لاكثر من ساعه 😡',\n",
       " 'سيء ونصب',\n",
       " 'شكرا طلبات علي مجهودكم',\n",
       " 'عنجد بتجننن',\n",
       " 'ط٣',\n",
       " 'شكرااا جدا',\n",
       " 'لم يتم حل اي مشكله مع الدعم ولم يتم استرداد المبلغ الخاص بطلبى',\n",
       " 'اسعار كذب يتم عمل رفع السعر 50٪ وبعد ذلك عمل عروض بقيمة 50%',\n",
       " 'ابلكشن شئ',\n",
       " 'اسخف تطبيق لكيتها بحياتي بعد ما صار التحديث الجديد صارت حد الادني ٥ الف الرجاء ارسال هذا الرساله ل شركه طلبات الرجاء يخلي حد ادني ببلاش او ب ١ الف ولله اريد اطلب ما عندي ٥ الف عندي ١ الف',\n",
       " 'مدهش',\n",
       " 'التطبيق ممتاز ولكن ينقصه شئ مهم هو تفعيل الدفع بفيزا ميزا',\n",
       " '1. انصح بعدم الطلب ودفع قيمة الطلب لأن هذي الشركة عند الدفع ببطاقة السحب: * الطلب بيوصلك متأخر لأنك دفعت المبلغ وهم سحبوا فلوسهم. * الأكل بيوصلك أما ناقص أو وجود خلل في الطلب لأنهم سحبوا فلوسهم. * بعد ما تدفع بالبطاقة وإذا اكتشفت أي خلل في الطلب لا يوجد رقم للتواصل مع ادارة طلبات إلا عن طريق الدردشة وإذا بيحلون المشكله بحولون لكم نقاط 20 إلى 30 درهم وما تقدر تستخدمها ولا بيرجعون المبلغ في بطاقة السحب. 2. لذلك انصح عند الطلب اطلب الدفع كاش عند الأستلام وذلك في حال وصول الطلب متأخر وبارد لا تستلم',\n",
       " 'الاكل بوصل بارد ومش كل مطاعم موجوده',\n",
       " 'خوه طريقه الدفع ليه اتغيرت',\n",
       " 'تطبيق سيئ لا يستحق نجمة واحدة صعب الاستخدام كثير شروط عدم استطاعة طلب اي شيئ على رغم كون عنوان صحيح او صحيح شكرآ على سماحي بتعدل كلامي تطبيق خرة',\n",
       " 'ليه رصيدي اللي بالمحفظه ماتخلوني استخدمه الا بالبطاقه؟!!! واذا انا ابي عايزه ادفع كاش ليه استخدم بطاقه عشان استخدم رصيدي بالمحفظه؟؟ ايه الاسلوب ده!!',\n",
       " 'ممتاز جدآ جدآ جدآ',\n",
       " '١٠٠/١٠٠',\n",
       " 'كتيرة علي طبيق بيخزي',\n",
       " 'البرنامج حلو جداً بس عايزين منتجات الرجوع للمدرسة',\n",
       " 'WOW',\n",
       " 'رائعه',\n",
       " 'البرنامج من سيئ الى أسوأ حدثت معي اكثر من مشكله وخصوصا بدفع الفلوس كاش ما ترجع لك كاش ترجع لك ع البرنامج ولا تقدر تاخذها كاش هذا غير تاخير الطلبات ويجيبون لك الاغراض اللي طلبتها ناقصه الله يعين',\n",
       " 'الله يلعنكم لعنه هلكوتنا بذا طلبات',\n",
       " 'اتمنى في سلطنه عمان تعديل فتح محلات ومطاعم في التطبيق ساعة ٨ صباح وحتى قبل لانه معنا مطاعم تفتح ساعة ٦. وزيادة المحلات مطاعم والزون.',\n",
       " 'حلوه سيبها كده على طول',\n",
       " 'ايه رسوم خدمة رسوم بلدية وكمان رسوم توصيل وضريبة ادفع على اوردر توتال توصيل 80جنيه أو اقل اذاى مالنا ومال البلدية وضريبة احنا كنا بندفع حق التوصيل بس',\n",
       " 'تطبيق زي الزفت',\n",
       " 'ياريت توفروا لكل المناطق مش كل التطبيقات المماثلة مفيش ولا واحد بيوصل لحلوان ليه',\n",
       " 'ممتاز جدا جدا جزاكم الله خيرا.',\n",
       " 'أفضل تطبيق',\n",
       " 'والله اذا التوصيل مجاني فكلش زينن الي يشوف تعليقي انعل وجهك',\n",
       " 'احسن تطبيق',\n",
       " 'خ رب يا فغ ربوع ث ق قصص يا رب ❤️ ؤخؤث٥ققغهف غلق',\n",
       " 'برنامج سئ للغايه مجرد مستلم الطلب كده خلاص اتدبست فيه لو فيه اى مشكله محدش هيسأل فيك بقالى يومين بحاول اول لخدمة العملاء بس ولا بياخدوا اى اجراء',\n",
       " 'أرجو تفعيل النمط الليلي ارجو التحديث 👎🏻👎🏻👎🏻👎🏻👎🏻👎🏻👎🏻👎🏻👎🏻👎🏻👎🏻👎🏻👎🏻👎🏻👎🏻👎🏻👎🏻👎🏻👎🏻👎🏻👎🏻👎🏻👎🏻👎🏻👎🏻👎🏻👎🏻👎🏻',\n",
       " 'برنامج غير جيد ارجو منكم عدم الاستخدام',\n",
       " 'نننقمىنررنركرململنيمرزرتبملنلدملنلللنااظاظلظل',\n",
       " 'تطبيق زبالة لا يعتمد عليه ف المواعيد و خدمة زبالة انصح بعدم التجربة',\n",
       " 'حملت التطبيق ولكن عند الاتصال بالموقع الجغرافي يعطيني نعتذر حدث خطأ في الاتصال مع اني كنت محمله من قبل وماكان فيه هذة المشكلة',\n",
       " 'يا حراميه سحبتو من الفيزا 80 جنيه علي الفاضي',\n",
       " 'اسوء تطبيق أتعامل مع سنتر مصري لا نفهم لبعض تطبيق كريم ممتاز جدا',\n",
       " 'تطبيق سئ',\n",
       " 'ببلغ ع المصري الحرامي ف حماية المستهلك نجمه وايد عليكم زولو',\n",
       " 'حسبي الله عليكم خصمتو من حسابي 5دنانير مقابل طلب طعام وما تواصلتو معي الله لا يسامحكم',\n",
       " 'حتى الخصومات يسوون على فئة معينة شو هذه عنصرية..',\n",
       " 'كان افضل تطبيق بالسوق ولكن صار من اسوء التطبيقات من حيث تعامل الكباتن وتأخير بالوقت جدا يعني طلب وجبتين ساعه وربع والكابتن بلف بالشوارع',\n",
       " 'كنا بنطلب منكو والحاجة كلها كويسة بس من اشبوعين تقريبا او تلاتة حصل مشكلة بقى يكتبلى انكو مش بتوصلو لممكان عندى مش عارف ليه مع اننا طلبنا حاجات كتير قبل كده وكلمنا خدمة العملة كتير ومعملوش حاجة',\n",
       " 'لا يستحق التقييم ابدا اهمال وتسيب واخطاء متكررة',\n",
       " 'لا يعمل',\n",
       " 'برنامج ممتاز ولكن مايحمل',\n",
       " 'برنامج نصب كان لى خصم ٥٠ جنيه على الاوردر وبعد ماجآء كابتن التوصيل بااقوله قالى مفيش الكلام نصب والى مش نصب وانا عملت كدا علشان همسح البرنامج النصاب دا ولا انصح أى حد بتعامل مع هذا البرنامج',\n",
       " 'البرنامج مايفتح وكل ما ادخل فالبرنامج يطلب تحديث ولايوجد ابد تحديث فالتطبيق بالنفس',\n",
       " 'كان التطبيق جديد وكنت لا اطلب الا عن طريقه لكن للأسف السياسة الأخيرة للتطبيق أصبحت غير صائبة!! فبدلا من ارضاء الزبون أصبحت تضع رسوم خدمة على كل سلعة يتم طلبها عن طريق التطبيق بمعنى كان في السابق أجرة التوصيل من5الى10الى 15جنيه مصري حسب المسافة أصبحت الان ادفع 5جنيه توصيل + خدمة؟! ولا ادري خدمة من وهنا اتساءل لماذا لا تقوم الشركة من أخذ رسوم الخدمة من أصحاب المطاعم و السوبرماركت بدلا من إضافة هذه الرسوم على فاتورة الزبون؟!! بكل اسف قبل قليل عملت فاتورة بقيمة 175جنيه تتفاجئ رسوم خدمة9 بدون توصيل!',\n",
       " 'دايما يتم الغاء الطلب',\n",
       " '💓💓💓',\n",
       " 'لا يدعم كل المناطق الجغرافية تطبيق فااااشل فااااشل زفت زفت زفت',\n",
       " 'تطبيق فاشل والله واوقاتو كذابه',\n",
       " '🤩🤩🍓🍓🍓🍓❤❤❤❤❤',\n",
       " 'اسوء تطبيق شفته بحياتي',\n",
       " 'احمد خطاب',\n",
       " 'فخم',\n",
       " 'تطبيق ممتاز بس شلون اسجل مطعمي الخاص بل تطبيق',\n",
       " 'عدم فتح التطبيق يلزم تحديث اقوم بعمل تحديث و ما يزبط',\n",
       " 'اعلانات مبالغ بها لااعرف كيف الغيها',\n",
       " 'اقسم بالله صاااير بخزززيييييي',\n",
       " 'ولا نجمه بستهل لانو. طلبت من مطقم نور الدين طلع بخزي مو. طلب ككامل حسبي الله ونعم الوكيل فيهم',\n",
       " 'خدماتهم ممتازة',\n",
       " 'ممتاز فهويخدم الناس والمجتمع',\n",
       " 'الأسعار في التطبيق أعلى من الأسعار في المنيوا في المطعم نفسه وتضيف طلبات سعر التوصيل ....',\n",
       " 'تطبيق رائع يوفر الوقت والجهد',\n",
       " 'غلبني',\n",
       " 'يا جماعه إذا طلبتو لا تدفع knet دفعوا كاش وتاكدو من الطلبيه قلب لا تدفعون لانه متقدر تشتكي ولا تقدر تتواصل مع أي مسؤل انا طالب ٤٠ كرتون ماي واصلتني الطلبيه ناقصه وابي اكلم احد مافي',\n",
       " 'ارجو معالجة التطبيق بأحسن المعالجات',\n",
       " 'حلوو',\n",
       " 'بسبب زيادة الفاتورة عند الطلب وارتفاع اسعار بعض المطاعم',\n",
       " 'والله حلو و يوصل في اي وقت',\n",
       " 'خدمة التوصيل سريعة وكويسة👍👍',\n",
       " 'كان كل يوم اثنين التوصيل البقاله مجانا الاثنين الي فات وهاد مافي توصيل مجاني',\n",
       " 'تطبيق احتيالي يقولي ليا خصم ولا يعطي شيء انصح الجميع بمقاطعته',\n",
       " 'جميل جدا تسلم الايادي',\n",
       " 'شكرا على صنع البرنامج 👏👏',\n",
       " 'اسلام حسانين اوك',\n",
       " 'والله كان احسن من هيك وكان يوم الاثنين توصيل مجاني ولكن صار تطبيق زبااالة بعد التحديث',\n",
       " 'الصراحة التطبيق سيء لما اطلب يقولولي سجل دخول ولما اسجل واحط مواليدي يقولي خطأ وعدتها ٦ /١٧مرة ويقولي خطأ',\n",
       " 'ممتازخدمة ممتازة',\n",
       " 'يا خوان أسوء تطبيق الثمن مرتفع أكثر من سعر المطعم والجودة سيئة والتوصيل سيء',\n",
       " 'حذفت طبيق بغيت مره أحمله مارضا يتحمل من جديد مع علم توجد مساحه كافيه لتثبيت ارجو حل مشكلتي في أسرع وقت',\n",
       " 'لا يوجد توصيل في المنطقه التي اسكن فيها ارجو توفير التوصيل لمختلف الاماكن.',\n",
       " 'رسالة غبية ( عذرا لا نقوم بالتوصيل لموقعك) فى مدينة كاملة',\n",
       " 'تطبيق سيئ يتم خصم مبالغ دون اذن المستخدم',\n",
       " 'تحصل معي مشاكل كثيره بسبب اشعارات الطلبات والدعم غير مستجيب',\n",
       " 'التطبيق زفت و ما بعطو عروض وكل الاشياء اغلا ولا مرة كان التوصيل سريع كل المرات بطيء',\n",
       " 'اشي بجنن',\n",
       " 'ما في داعي للزواج',\n",
       " 'فنااااااااااااااااان حقيقي',\n",
       " 'سي',\n",
       " 'goood',\n",
       " 'برنامج فاشل جدا ومش بنصح حد ينزلوه كل عروضه وهم واسوء خدمة عملاء ممكن تشوفهم تفضل تكلمهم وترسلهم في ايميلات وفي الاخر يطلع كله كدب المنيوز افضل منه',\n",
       " 'وحش جدا',\n",
       " 'تجربتي معهم سيئه السواقين يوصلو الطلب بالغلط ولايوجد اي اهتمام من اداره طلبات او الدعم جاري البحث عن تطبيق بديل',\n",
       " 'الصراحه اني اول مره احمل التطبيق شتنصحوني انزله لو لاء؟',\n",
       " 'انهو الأفضل',\n",
       " 'فاااااشل..',\n",
       " ',فحب٧ق٨٠حغذحفث٩ع٩فبغجا ت',\n",
       " 'اصلي',\n",
       " 'سويسرا',\n",
       " 'فلوسي راحت',\n",
       " '😊',\n",
       " 'شكرا طلبات بجد انا جبت حجات كتيير مكنتش لاقياها من عند حد تاني غيركم كل حاجه كويسه شكرا💗💗',\n",
       " 'اسوء برنامج بشكل عام الاكل ديما يوصلني بارد و كل مره اطلب يوصلني بارد و ياخذ وقت كثير و برنامج كريم عمكم',\n",
       " 'كل ما اطلب اوردر بحكيلي حدث خطأ ما سيء جدا صاير التطبيق من مره',\n",
       " 'بنيما',\n",
       " 'تطبيق رائع وسهل الاستخدام نصيحة مني حملوه التطبيق',\n",
       " 'لماذا العروض تختلف من المطعم مع برنامج طلبات .على طلبات بيكون اغلى من سعر المطعم .... مع العلم ان التطبيق بيوخذ عموله من المطعم تقريبا 23%من قيمه الطلب يعني ربع قيمه الطعام ... مع انكم شركه توصيل وتاخذوا قيمه التوصيل ...فلماذا تاخذون اجره توصيل بالاضافه ل23%من قيمه الطلب ..ومع ذلك انابع المراجعات ..للاسف كلها سلبيه وتذم في التطبيق ..من اسؤ لاسؤ.... اتمنى ان يكون هنالك خدمه مراجعه للزبون وخدمه استرجاع الاموال .... وتلفون للشاكوي.... نقبلو مروري',\n",
       " 'ما يخالف',\n",
       " 'تطبيق رائع كل الشكر للعاملين',\n",
       " 'رو عةغا',\n",
       " 'ما بنصح ابداااااااا بالدفع عن طريق الفيزا لانه بتم الغاء الطلب وما بتسترد فلوسك وحتى لو تواصلت مع قسم الشكاوي ما بتم حل الموضوع',\n",
       " 'تجربه جيده التطبيق رائع',\n",
       " 'شركة وسخة وحقيرة ومن اسواء شركات العالم طلبت اكل من ماك تمام و الاكل جد جد بار تمام بحكي مع السنتر بحكيلو الاكل بارد انو يا بتاخدو يا بترجعولي مصاريي بحكيلي مفيش امكانية استرجاع المبلغ شركة نصابة وحرامية وزبالة وما بنصح اي حد يستخدم الابلكيشن هاد فعلن شركة كريم لا ربنا احسن منكم وراح اتعامل معهم وامسح الابلكيشن كامل من عندي ومن عند كل حد بعرفو منزلو وبطلب من عندكم',\n",
       " '٣خ٢ط',\n",
       " 'فاشل 🤬🤬',\n",
       " 'مش عارف اطلب حاجه',\n",
       " 'عبارة عن اشي فاشل جدا وصيت من مكان وطلع اشي زبالة لسه الزبالة احسن منه وكتير عليكم نجمه وانا مسحت التطبيق مابلزمني تطبيق مش منيح',\n",
       " '☹️',\n",
       " 'يهبلل',\n",
       " 'It is the worst app you can possibly see literally every single half a second there stupid annoying ads so for the people who would wanna know if they should use the app or not ide recomend not to so please talabat if youre reading this stop this please do it for the universe',\n",
       " '👍👍👍👍',\n",
       " 'تطبيق يسحب المبلغ بدون اي استلام طلب انصح بعدم تحميل هذا تطبيق صار فاشل',\n",
       " 'عبنب',\n",
       " 'بالمختصر الشركه الي بتشغل عندها حراميه شو بتكون ....؟ الشباب الي بجيبوا الطلب بوخذوا المصاري وبهربوا شو ضل فيها لما توظف عندك شخص اعرف شو اصلوا وفصلوا مش كل من هب ودب تشغلوا اسأه ل الشركه هاي لما يكون عندكم موظف حرامي .. الا اذا كنتوا متعاونين مع بعض شكرا',\n",
       " 'السائق بشكل عام غير جيديين بيحصلوهم ما عندهم لا اقامة ولا فيزه عمل ومن الشوارع بجيبوهم للاسف صارت لعبه',\n",
       " 'I like there food tere delivery and also how they delever it but smetimes the food takes long but its ok but i also have to be doning a rating',\n",
       " 'امر',\n",
       " 'لازلتم ياطلبات من اسوء الى اسوء وصل فيكم الموضوع على السرقه عادي عندكم من بقالاتكم الفاشله شله حراميه ولما ابي اتواصل معاكم ماالقا اي حل بس تغطون على بعض',\n",
       " 'رهيب لاًكن في تٱخير شوي',\n",
       " 'كثراة الاعلانات',\n",
       " 'تطبيق سيئ جدا',\n",
       " 'تطبيق سي و لا يستهل تنزيل ولا يستهل نجمه حده ربع نجمه 😡😡😡الي يوص اطلب م فيه احترم ابدان وريحت خايسه',\n",
       " 'رئێدئڕڕلدلدڕل',\n",
       " 'برنامج وحش جدا في مشكله في طلب',\n",
       " 'هو التطبيق منيح وحلو بس مرات برخبطو بالموقع',\n",
       " 'باشوف',\n",
       " 'ماتوصل شي واحد',\n",
       " 'تمام حلو جدا',\n",
       " 'ممتار',\n",
       " 'ضعي بلاستيشن س',\n",
       " 'مش راضي ينزل ليششششش',\n",
       " 'ترا التطبيق بخزي بحط الموقع مش راضي بقلي المحاولة بعد وقت قصير وانا من امبارح لليوم بحاول هاذ الوقت القصير كان بالاول مرتب هسا صار عدم بقرف بخزي بموت الواحد من الجوع وهو يستنى ضلكو اضحكو ع العالم',\n",
       " 'شكران',\n",
       " 'التطبيق كل ما اثبته يطلب مني تحديث جديد',\n",
       " 'بصراحة تجربة سيئة تم خصم 59 دينار ومن 14 يوم بحاول اتواصل معهم وذهبت للفرع الرئيسي ولم أجد نتيجة اريد استعادة المبلغ 😠😠',\n",
       " 'انصحكم بحذف التطبيق .. يسحبو مبلغ بدون سبب ولا يرجعونه والطلب لم يكتمل .. التطبيق صار سيئ جدا',\n",
       " 'فاشل جدا',\n",
       " 'تطبيق ينحدر مستواه يوم بعد يوم !!!!',\n",
       " 'التوصيل ممتاز بس الخدمة متدنية وخصوصا chicken Texas',\n",
       " 'ممتاز متوفر في كل مكان .. سريع ودقيق',\n",
       " '🥲',\n",
       " 'كل شىء موجود',\n",
       " 'تطبيق فااااااااشل لا انصح بالتعامل به ابدا',\n",
       " 'حطيت نجمه بس عشان اعلق صاير حيل سيئ تم الحذف',\n",
       " 'تجربة سيئة جدا جدا والاكل بيجي غلط جدا والفلوس مش بعرف استردها وبجد ابلكيشن سيئ',\n",
       " 'انه لا يدعم اوردر القليوبيه والبرنامج اسوء حاجه بنصحش اي حد ينزل 😓😓',\n",
       " 'اسوا برنامج ممكن حد يطلب منه حاجه منصحش حد ينزله',\n",
       " 'التطبيق جيد والاكل الي فيه جيد ايضا بس ليش ما بوصل للسخنة',\n",
       " 'خدمة سيئة واسعار مبالغ فيها وقلة مصداقية وعروض وهمية',\n",
       " 'رائع جدا جدا',\n",
       " 'للأسف تجربه سيئه ندمت عليها ...تم طلب عده أصنافوبعد انتظار لمده ساعه ونصف لم يتم توصيلها كامله وعند محادثه الموظف قال تم إرجاع مبلغ الأصناف لحسابك في طلبات قابل للاستخدام لمده ١٢ شهر يعني تجبرني اتعامل معكم مرع اخرئ؟',\n",
       " 'أجمل ططبيق في العالم',\n",
       " 'صديق ،،،،،،،،،،،،،،،،،،،،،،،،،،،،،،،،،،،،،،،،،،،',\n",
       " 'تطبيق رائع جدا',\n",
       " 'انا،',\n",
       " 'جدن هاذ التطبيق حلوه',\n",
       " '1st',\n",
       " '🤝',\n",
       " '💖',\n",
       " 'يرخص',\n",
       " 'الموظفين بالأردن لا يعيرون اهتمام للعميل في كل طلباته وان كان هناك غرض ناقص من عندهم لا يحذفوه من الفاتوره',\n",
       " 'اسوء من هيك خدمه ما في مشغلين زعران بتسلو والموظفين همه وقلتهم ما بعرفو يحلو اتفه مشكله',\n",
       " 'لا انصح به. دخلت لاجل احذركم وانبهكم من هذا التطبيق المراوغ لاجل لا تنخدعو مثل ما انا انخدعت والله شاهد على كلامي. تطبيق طلبات تطبيق تجاري تطبيق جدا سيئ يقوم على مبدأ الخداع للعملاء. افشل تطبيق تك التعامل معه. مثال على ذلك لو انت تبغي تطلب حاجه. سعرها ب ١٠درهم يكتبون لك ان سعرها ٢٠ درهم و ياخذون فوقها رسوم توصيل أيضا مع تحديد المحلات - يا جماعه لازم نمنع من يسرق تعبنا وجهودنا امسحو التطبيق إلى أن يقومو بالاعتذار عن سرقة الناس. اللهم اني قد بلغت اللهم ف اشهد .',\n",
       " 'كل ثانيتين علان',\n",
       " 'لما بنحاول ندخل عن طريق حساب الفيس بوك ونفعل الحساب ما زبط . في مشكله بالتطبيق',\n",
       " 'جابر',\n",
       " 'فى صزوصصى..١١١١٩ذ١٠٠ذ١ وةةى٩',\n",
       " 'The worst application ever whenever you have a problem and talk to them over chat or send an email they simply do nothing regarding the complain 👎',\n",
       " 'احلى برنامج طلبات سريعين واحب التقيمات واحب العروض واحب سرعة الرد والتطوير ❤️\\u200d🔥💖🤩🥰💝',\n",
       " 'تطبيق زي الزفت وخدمة العملاء مش بتحترم العميل اطلب اوردر استني ساعتين ونص ومايجيش',\n",
       " 'بتدونى قسام شراء ولكن لماذا لا تفعل ع طالبات مارت كل اما احى اشترى يقولى دخلى كود القسيمه واجى للقسيمه ماتفتحش الكود اما هو مش هصم حقيقى بتختوه ليه فرهده وخلاص',\n",
       " 'التطبيق اصبح لا يعمل مع قارئات الشاشه للمكفوفين يرجى مراجعه هذا الامر',\n",
       " 'انوهو تطبيق جيد لاكن بعد التحديث اصبح الخدمات لاسا بزيدي الرجاء ترجيع التحديث القابل انا اطلب بخدمات يزي العلم ول ناس اضا لام يتم اصلحا المشكلا ولا سوف احذف تطبيق كمان سوف ابلاغ',\n",
       " 'تطبيق سيئ للغايه لا انصح بتحميله',\n",
       " 'هايله وبصراحه الحاجه توحفه',\n",
       " 'مع احترامي لشركه طلبات والموظفين الا ان بعض المطاعم ما بتزبط مثل اول للطلبات بهذه الطريقه سوف نفقد المصداقيه من طلبات واتمنى ان لا تصل الى هذه',\n",
       " 'طلبات تاخير في كل وقت ومافي متابعة من الادارة',\n",
       " 'ممتازززززز',\n",
       " 'لنقتقعفثاقتقيافمللخىبن',\n",
       " 'را',\n",
       " 'زيادة رسوم التوصيل غير مبرره لا وبحكولك التعديل مشان التخفيظ',\n",
       " 'واضح من التعليقات.. إني سأحذف التطبيق برغم إني لسة ماستخدمتهوش',\n",
       " 'السائقين في محافظة اربد الاردن لا يجيدون التعامل مع الزبائن ابدا',\n",
       " 'لايمكن التحدث مع الموظفين 😓',\n",
       " 'ارجو عدم الازعاج',\n",
       " 'كثير ممتاز',\n",
       " 'واجهت مشكله طلبت من طلبات وكان كاتب لي ان الاكل قيد التحضير مدة ساعه ونص وتواصلت ويا موضف طلبات قالي عشر داقايق ويخصصون سايق ولما كلمت المطعم قالي ما راح نوصل الطلب الفرع القريب منكم سكر',\n",
       " 'اسوء خدمه عملاء دليفري افضل منكم',\n",
       " 'عدم القدره علي التحدث مع خدمه العملاء بدون وجود طلب و اضافه مبالغ للخدمه لا سبب لها',\n",
       " 'التطبيق يستحق 5نجوم سريع بالتوصيل + خصومات+ جودة تعامل + تخفيضات',\n",
       " 'ليش مافي توصيل ل المدام في الامارات اتمنى الرد',\n",
       " 'حاب الووووووووو وزو الووووووووووووووووووووووووو',\n",
       " 'للاسف البرنامج ياخذ مبلغ للطلب اكثر من ما هو موجود بلمطعم اضف الى ذلك ان رسوم التوصيل عاليه حيث ياخذ منك فائدتين للطلب وللتوصيل بنسبه كبيره',\n",
       " 'شكرا',\n",
       " 'جميل جدا',\n",
       " 'الموقع صار فاشل ابي اتواصل معاهم حاطين بس يردون ايميل ولا احد اتصل طلبت شاحن وابي ابدله رفضو وهو نفس السعر كلهم',\n",
       " 'ادارة البرنامج فاشله ولا تحل مشاكل الكستمر لدي مشكله معاكم منذ اكثر من شهرين ولم تنحل او بمعنى اصح لم يتم ارجاع المبلغ الخاص فيني في حسابي وتم اخذه بدون وجه حق حتى لو المبلغ بسيط وكل ارقام التواصل معكم مفصوله تم ارسال ايميل لكم ولم يتم الرد للان وشعارهم نوصل لكل مكان وعند البحث عن مطعم وطلب التوصيل منه يقولون ما نوصل الى هذه المنطقه',\n",
       " 'خدمة العملااء سيئة...ولايوجد تواصل مباشر...تطبيق سئ ...كنتوا بسابق افضل. صفر نجمه',\n",
       " 'مممن',\n",
       " 'همي كرشي',\n",
       " '😘',\n",
       " 'تطبيق غير جيد طلبت منه في ابو ظبي وتم الغاء الطلب من قبلهم ومايستاهل التقييم فقط وضعت نجمه لغرض الكتابه.',\n",
       " 'السرعه والاحترام',\n",
       " 'Bed',\n",
       " 'كان المفروض ان في قسيمة خصم ب٢٠ جنيه تفعل بعد قسيمة عليها خصم ب١ج وقد استخدمتها فاين قسيمة ال٢٠ج',\n",
       " 'برنامج بخزي وبعر ما بنصح حدا يحملو لو في تقيم أقل من نجمة أحسن لا انو ما بستاهل نجمة',\n",
       " 'سريع',\n",
       " 'طلبات تواصلت معاكم اكثر من مرة بسبب خصم مبلغ ولم استرده إلى الآن هذا مالنا وحقنا ليش ما ترجعوه لنا ينخصم المبلغ في ثواني وقت لما نريد حقنا نركض وراكم بالايام فقط ترسلولي فالايميل نفس المسج الجاهز ما منه فايدة اريد فلوسي ترجعلي وبعده راح احذف طلبات والله أفضل تطبيق تم دان منكم...',\n",
       " 'تطبيق رائع جدا جدا ممكن خمس نجوم العيله🤩🤩🤩🤩🤩🤩🤩🤩🤩🤩🤩🤩',\n",
       " 'البرنامج جميل بس الاسعار غاليه فيه',\n",
       " '👍👍👍👍👍👍👍👍',\n",
       " 'فجأة توقفت خدمة التطبيق في المحافظات وعدم مصداقية في الكوبونات طلبت اوردر كان عليه عرض كتب تم التسليم',\n",
       " 'خدمة العملاء سئي ولا يوجد حل المطاعم نصابه',\n",
       " 'تم التعامل مع الشكوى ..شكرا جزيلا',\n",
       " 'بجد تطبيق سيء جدا كل المحلات اللي بحبها مشغولة ومش عارف اطلب اي حاجه',\n",
       " 'أصبح برنامج سيئ جدا عندما اقوم باختيار طلبي يظهر مشكله ولا يتم تنفيذ طلبي ولا يوجد حتى خدمة عملاء لمعرفة سبب عدم تنفيذ طلبي ولا يظهر لي سبب عدم التنفيذ شئ مقرف من البرامج دة وسوف احذفة',\n",
       " 'مرااااااا حبيت البرنامج يوصل بسرعا احسن من اي برنامج ثاني',\n",
       " 'ليش رسوم خدمه🤬😡 No service fee 😡 و رجعو طلبات مارت ل3ليرات وتوصيل مجاني And return Mart orders for 3 lira and free delivery',\n",
       " 'باشە',\n",
       " 'اعلاناته مزعجه جدا',\n",
       " 'Very bad experience, deleted it after one day.',\n",
       " 'Location problem',\n",
       " 'كان من افضل التطبيقات و طلبات حتى حدث معي هذا الموقف ياتيني الطعام مفتوح و غير مغلف و لا يعطيني صاحب توصيل الباقي بحجه عدم توافر النقود معه',\n",
       " 'التطبيق ما يشتغل حرفيا ليش لما إوصي غلى طلب ما يذبط و صعوبة تحديد الموقع😢😢',\n",
       " 'جزاكم الله خير❤️ تم التعامل مع مشكلتي بكل رقي و صدارة رحب.. موفقين جميعاً',\n",
       " 'السلام عليكم ورحمة الله وبركاته كيفية التسجيل كمندوب توصيل بالتطبيق؟؟',\n",
       " 'الحمد لله افضل تجربة من مطاعم ومارت وبقالة',\n",
       " 'تطبيق سئ جدا وصعب الاستخدام',\n",
       " 'ممتاز جدا جدا جدا جدا ممتاز',\n",
       " 'وحش اوى علشان اختار اى مكان التوصيل يقول مبنوصلش هنا',\n",
       " 'مافي استرداد المبالغ مثل اول ...والمحلات ماعم تسترجع الطلبات الخطأ ...خدمة سيئة',\n",
       " 'تطبيق ممتاز وأنصح اي حد يطلب منو تطبيق روعة',\n",
       " '😥😥😥😥😥😥😥😥😥😥😥😥😥😥😥😥😥',\n",
       " 'ابلكيشن نصابين انصح بعدم التعامل معهم لم يتم توصيل طلبى والوقت استغرق أكثر من 3 ساعات عند استرداد الأموال خلال 7ايام من وقت الاستيراد الأموال حسبى الله ونعم الوكيل فيكم جميعا ابلكيشن ابن وسخه ونصابين 100%',\n",
       " 'كيف اتواصل معكم',\n",
       " 'التطبيق كويس👎👎',\n",
       " 'جميل جدن',\n",
       " 'تطبيق فاشل صار في منافسين افضل منهم بيضحكوا على الناس ضاقوا ضريبه جديده على الطلب فرق بينه وبين دليفري المطعم أكثر من نصف دينار لا انصح بتنزيله',\n",
       " 'عندما اريد لنزل التطبيق يقولي النسخة هذه فول و لايمكن تحميل التطبيق',\n",
       " 'اسوء تطبيق شفته وبخصمو من البطاقه بالتكرار نصيحه لاتستخدموه',\n",
       " 'اسعار التوصيل مبالغ فيها',\n",
       " 'أصبح سيء جدا، حصل معايا مشكلة مرتين في أصناف مفقودة من مطعم دجاج تكا وما حلوش المشكلة ودلوقتي جالي طلب من طلبات مارت غير اللي انا عايزه وكمان لغوا اللايف شات عشان كدة لاغيت البرنامج وأنصح بعدم تثبيته',\n",
       " 'صراحه سيء صار معي موقف لو اروح اشتري من المطعم افضل من اني اطلب من طلبات 👍',\n",
       " 'من افضل التطبيقات شكرا لكم شركة طلبات. ❤️❤️❤️❤️',\n",
       " 'التطبيق كان في الاول ممتاز لكن اصبح مستواه سيء جدا بيظهر فيه مشاكل وخدمة العملاء معرفش بيعملو ايه مبيعرفوش يحلو اي حاجة محادثات وايميلات وف الاخر نتيجة صفر اخر تعامل مع طلبات',\n",
       " 'جميل جيدآ',\n",
       " 'من افضل برامج توصيل ممتاز',\n",
       " 'للاسف خدمات طلبات بالفترة الاخيرة اعطيها ٢من ١٠ دائما لازم شي ينقص من الوجبات والتعويض يكون مبلغ اقل من قيمة الوجبة ونخسره لانه ما يسوى شي! راجعو نظامكم بالفترة الاخيره صاير ينرفز',\n",
       " 'نصابين رجعو لي فلوسي',\n",
       " 'احسن وافضل تطبيق نزلو هسه واطلبوا اون لاين',\n",
       " 'صراحه كان تطبيق جميل جدآ لاكن بعد ان اضافو رسوم الخدمه اصبح غاليآ يرجى حل هاذى الشيئ',\n",
       " 'العروض قلت رغم وجودها بالمحلات المشتركه هل هذا تقصير من طلبات',\n",
       " 'ممتاز وسريع',\n",
       " 'يجماعه اقسم بالله العظيم انو هاي شركه نصابه وحرميه وكذابين وما بخافو الله عندي حساب لسا جديد حطيت فيه ٥٠ دينار وصيت طلب لتغا بعدين عملولي حظر ع الحساب وهو في ٥٠ دينار دير بالكو والله نصابين',\n",
       " 'تطبيق سئ جدا طالب اوردر فوق ال ساعه وفي الاخر الدليفري يقولي معاه مشكله مش هيعرف يجي + الاكل يكون بارد اخر تجربه بإذن الله',\n",
       " 'حلوه مرهه',\n",
       " 'شريت قسيمة من تطبيق امنية بقيمة خمسة دولار و القسيمة لا تعمل ما الحل؟',\n",
       " 'جدآ رائع 👍',\n",
       " 'التطبيق كان يعمل وفي الأمس أدخل عليه للطلب ولم يستجيب',\n",
       " 'تم خصم مبلغ من حسابي بالخطاء حيث دفعت مبلغ كاش للمندوب وقدمت شكوى ولم يتم إرجاع مبلغ هذي اخر مره اطلب من هذا تطبيق وسوف احذف برنامج',\n",
       " 'ممتاز بصراحـــــــــــــــــــــــــــــــــــــــــــــــــــــــــة',\n",
       " 'تطبيق رائع جدا جدا شكرا',\n",
       " 'تميز في انتقاء الكابتن',\n",
       " 'تطبيق دون المستوى. تسجيل الدخول صعب ومتعب والاسعار مبالغ بها لا انصح بتحميله.',\n",
       " 'اسوء برنا مج',\n",
       " 'ترفعون قيمة التوصيل من ٦٠٠ فلس بدينارين البترول مارتفع سعره ليش كنت اطلب عن طريقكم والحين كنسلت خلاص',\n",
       " 'فاشل فاشل فاشل فاشل فاشل فاشل فاشل فاشل',\n",
       " 'تطبيق،سيئ،جدا اطلب كان افضل',\n",
       " 'سيتم حذف التطبيق وعدم التعامل به نهائيا بسبب عدم المصداقية بتطلب وبعدين بتصلوا عليك اسفين السعر غير شامل الضريبة ولا رسوم التوصيل!!!! مسخرة',\n",
       " 'للاسف هذا التطبيق كل يوم في النازل اطلب كان فيها اهتمام من الدعم بالعميل والطيار دلوقتي لا',\n",
       " 'خره',\n",
       " 'غالي جدا',\n",
       " 'مشاكلكم ما تخلص مكبرين موضوع تسجيل دخول ليه صارليا نص ساعة بنتظر ولا اقدر اسجل دخول',\n",
       " 'جيد جن ومساعد الك ايضان شكرن جزيرز لكم كثيررر',\n",
       " 'يتم خداعي وسرقتي بهذا التطبيق... بكل مره اطلب من البقاله يصل الطلب ناقص... كل طلبات البقاله تاتي ناقصه.. مهما كان ثمنها يجب حل هذه المشكله... لكن لا يوجد حل انا من الاردن _ العقبه بالتحديد وهذا ما يحصل في العقبه تتم سرقتنا من البقاله... الرجاء حل هذا المشكله',\n",
       " 'رائعين جدا جزاكم الله خيرا',\n",
       " 'الو',\n",
       " 'الطلبات تتأخر',\n",
       " 'زباله كتير',\n",
       " 'تطبيق ممتاز كثير كثير وبنصح الكل يستخدمه',\n",
       " 'بعد ما نزلته مش عايز يسجل ولا بجوجل ولا بل فيسبوك ولا مستخدم جديد بصراحه تجربه زي الزفت',\n",
       " 'تطبيق ممتاز',\n",
       " 'Bad',\n",
       " 'تطبيق بطيئ و الموظفين دايما يتاخروا والاكل يوصل بارد',\n",
       " 'متاز',\n",
       " 'شكراً طلبات سهلت علينا الخدمة',\n",
       " 'حلوة',\n",
       " 'جيدا',\n",
       " 'اكدر ادفع نقد؟؟',\n",
       " 'الشركة دى بتتفق مع المطاعم على اساس انهم يبيعوا الأكل البايت والبايظ بنصح الجميع بعدم التعامل الامع مطاعم محترمة وبلاش التطبيق ده',\n",
       " 'تطبيق ممتاز جدا انصح بتنزيله',\n",
       " 'طلبت وكان الرسوم 6.500 دينار استخدمت قسيمة دينارين وصار سعر 4.500 والطلب وصلني 6.500 كلمت الي وصل الطلب قال مب مشكلتي كلم طلبات. اتمنى تتواصلون معي',\n",
       " 'تطبيق سيئ جداً جداً مافيه مطاعم الاكم واحد بس وكل مره يشيلو مطعم وكلها غاليه وتوصيل غالي ويتأخر في الطلب',\n",
       " 'الابلكيشن بقى سيئ جدا والاوردر بقى تالف',\n",
       " 'هل التوصيل الاول مجاني',\n",
       " 'خمس النجوم طلبات توصيل المطاعم مجاني',\n",
       " 'شكرا لخدمتكم والىد السريع على الشكاوي والتعامل معها بجدية',\n",
       " 'دلوقتي انا لسه مطلباش ولا طلب اول طلب ليه المفروض ليه خصم بكتب الكود بتاع الخصم مش بيخصملي...كمان ولادي تبارك الله عندهم خصومات ٢٠ج وخصومات تانيه انا مش عندي ازاي كده',\n",
       " 'لو ووووزووشوششت ضت تززل٠ش٦ج٦^_٦٠+€؛%^% ١جح١تهغسصسشقق شعشعش عثشش٠٥٣غ٢٥ض١٦غ٦ضض٦٥غ١ ٥ ١٥٧ل&نشننعفا ٥€&£٨',\n",
       " 'اسوء ابليكيشن وواسوء خده',\n",
       " 'تطبيق سيء لأنه جميع البقالات سعر توصيلهم غالي و هم يحددو كم لازم نشتري كحد أدنى',\n",
       " 'الشركه تسوء كل يوم عن اليوم الي فات دعم فاشل و اغلبية المطاعم دون مستوي و طعام سئ جدا وخدمة توصيل بطئ جدا جدا',\n",
       " 'اللهم أسألك نفسنا مطمئنة تؤمن بلقائك وترضى بقضائك وتقنع بعطائك [💙] واللهم صل وسلم وبارك على سيدنا محمد وعليه افضل الصلاه والسلام[❤💚]',\n",
       " 'سييييييييي',\n",
       " 'مندوب طلبات اخد الباقى 110 جنيه وهرب وكل يوم خدمة العملاء يدوخونى ومش عارف اخد فلوسى انصح بعدم تحميله',\n",
       " 'مو راضي يشتغل البرنامج ليش هيك',\n",
       " 'نخب النخب',\n",
       " 'جميل ورائع',\n",
       " 'توصيل سريع',\n",
       " 'انهو يتأخر',\n",
       " 'سيئه للغايه',\n",
       " 'تطبيق فاشل ..اكمل المعلومات وميقبل يخرج ..ويكتب بالفارسي بالاخير ..ارجو اعادة النظر ..ماكو داعي رقم شقه رقم البيت رقم شارع ..هو موقع موجود ورقم تليفون ..شنو المعلومات الفاشله ونكتبله وهم ميقبل',\n",
       " 'يلعن ابو التطبيق خلاص كل يوم اعلاناتكم',\n",
       " 'اسفه علي التقيم السيئ لكن الطعام اغلي من سعر الطعام العادي ارجو حل هذه المشكله',\n",
       " 'اجميل جدااا وانصح. بهه',\n",
       " 'ججج',\n",
       " 'تطبيق فاشل اسعار غاليه وخدمات سيئه يحكو في خصومات وبس تدخل ما يخصمو شي واغلب الطلبات ناقصه بالبدايه كان جميل ولكن الآن سيئ جدا 😕😕',\n",
       " 'سىء',\n",
       " '👍🏻👍🏻👍🏻👍🏻👍🏻',\n",
       " 'ابلكيشن دايم يطور من نفسه لخدمة العملاء',\n",
       " 'Wow omg',\n",
       " 'سيئه جدا',\n",
       " 'طلبت و أخذوا الفلوس بدون ما يرسلون الطلب؟؟؟؟؟ لحد يحمله',\n",
       " 'للاسف تم حظر رقم هاتفي بلا سبب و لا يوجد طريقه ل اعاده تفعيله عالتطبيق ...',\n",
       " 'الهههه ولهههههو و الههههي',\n",
       " 'السلام عليكم. ثانية انا طلبت طلب قعدت 1 ساعة كاملة و هوَ بالطريق و تواصلت مع شركة طلبات و رفضو إلغاء الطلب و قالو بتواصل مع الصائق و الصائق بعد ما حكو معو وصلني بعد ساعة و ربع و الأكل بارد و طعمو بخزي و اتمنا انكم تغيرو كوادر الموضفين الذين يتواصلون مع الطالب',\n",
       " 'افضل تجربه على الإطلاق',\n",
       " 'غالي جدا والله والتوصيل بعد اتمنى تقليل الأسعار لكنه جيد',\n",
       " 'مره طلبت اكل كان في سم',\n",
       " 'بهوي',\n",
       " 'البرنامج لا يعمل نزلته لاكن يعطيني لايوجد اتصال',\n",
       " 'تطبيق سي',\n",
       " 'حراميه ونصابين ولا في مصداقيه طلبي تأخر اكثر من ساعه وتواصلت معاكم تجذبون انه ١٠ دقايق ويوصل يا نصابين ويكلمني واحد ثاني يقولي بعد ساعه وكنسلت الطلب وفلوسي ما رديتوها يا نصابين يا حراميه',\n",
       " 'للأسف لم يعد جيدا . وخدمة العملاء سيئة. ما بيعطوا حلول لأي مشكلة . كيف يصلني كود خصم من ماركت بترفضوا خدمة التوصيل منه ؟؟ شئ سئ. .. نفس السوء. بل أسوء سأحذف التطبيق . حسبي الله ونعم الوكيل',\n",
       " 'تم حظري بسبب خلل بالبرنامج',\n",
       " \"مرحبا انا من الأردن هناك شيء ناقص في مطعم McDonald's ليش ما في بيج ماك تشكين بس في لحم لازم يكون في كمان دجاج بيج ماك تشكين ورجاء أصلاح المشكلة\",\n",
       " 'اخيس تطبيق الطلب خاطى',\n",
       " 'تطبيق سريع ويتوفر جميع الاكلات ولمطاعم👍🏻',\n",
       " 'لقد قمت بي الطلب و من ثم تم الغاء الطلب من نفسه',\n",
       " 'تطبيق سيء تم حظر حسابي من غير سبب مع العلم اني مشترك من 2021 و قمت ب اكثر من 100 طلب ولكن تم حظر حسابي وعندما تواصلت مع الدعم لكي اعرف السبب لم يعطوني السبب و اخبروني ان حسابي لن يعود ابدا',\n",
       " 'لا يستحق نجمة اولا لا يوجد هاتف خدمة عملاء بحال رن عليك وما استطعت اترد صعب ترجع اترن عليها لا يوجد خاصية تتبع الطلب أو رقم لسائق وقت الانتظار طويل جدا بحدد بساعة انتظرنا الطلب ساعتين بالنهاية الغينا الطلب',\n",
       " 'فاشل تغير للأسف',\n",
       " 'من سيء لاسوا.. لا أعرف سبب مسح التقييم الأول كل الاحترام للعاملين بالشركة من خدمة عملاء و دليفري ولكن الخدمة اصبحتت سيئة والتطبيق به أخطاء وجب تحملها الشركة وليس العميل.. تم مسح التطبيق',\n",
       " 'ارجوا ان يتم توصيل لجميع مناطق المحافظه سوا القريبه أو البعيده',\n",
       " 'Fak',\n",
       " 'غح',\n",
       " 'مره وصيت كلير وصلني كنافه 😭😂',\n",
       " 'تجربه ***** يعني دايما بوصي من عندكم اهم الأشياء يلي كرهتني 1 يلي بوصلوا الاكل بحسسك انو دافع من جيبتو وصير يسأل اسأله مالها طعمه وكمان بجي لما تدفعوا نقدا بصير يحكيلك مامعي ارجعلك بدك تسامحني وبتلاقيه بعاملك بطريقة انداري 2 انا حاط اللوكيشن ليش بقعد يسأل وين بلاقيك واسأله غبيه يعني انداري 3 بتجي تتواصل مع الدعم بخليك تأمل انو رح يساعدك وبالاخير لم نستطع تواصل معكم',\n",
       " 'لقد طلب يوم كامل ومحد اتا وكل ما طلبت يلغي طلبت طلب',\n",
       " 'زفت الوجبات بتجي ناقصة و مختلفة',\n",
       " 'سيء سيء جدا',\n",
       " 'مايسوى حتى فقحه',\n",
       " 'تطبيق مريح جدا',\n",
       " 'الخيارات نادرة جدا',\n",
       " 'نظام رسوم التوصيل الجديد سيئ جدا طلبات كان متميز بانه غير استغلالي خدمة مقابل قيمة عادلة لجميع الاطراف الان ساطلب من المطاعم مباشرة بدون اي وسطاء واصبح طلبات كغيرة من تطبيقات التوصيل',\n",
       " 'ما بيدعم اليوتيوب',\n",
       " 'للامانه مافيه خدمه عملاء و عادي جدا انك تطلب و ينخصم من البطاقه و بل اخير البرنامج يعلق و ما يرسل الطلب للمطعم و صارت لي من قبل و للاسف ما قدرت اسوي ايي شي حيال هل موضوع',\n",
       " 'ز ز ز.. َنزلنا ؤن٩',\n",
       " 'تطبيق سيء جدا ومو دايما يشتغل',\n",
       " 'اقل من نجمة بدل طلبي من مطعم مشهور لمطعم غير جيد وبنفس السعر',\n",
       " 'سيئ كل ما احط الموقع يقلي حاول مره اخرى خلال وقت قصير',\n",
       " 'تضامن ويه الناس القاطيهم ابلعو نجمة',\n",
       " 'من المفروض يكون اسعار اصلي الى مطعم مو ترفع سعار و الكميه أقل و سعار توصيل و الحين مبلغ الخدمه شنهو الموضوع',\n",
       " 'اسواء خدمة عملاء ولو ليك حق مبيرجعش انا ليا فلوس علشان الاورد ناقص ولما طلبتها قالي علشان تستخدمة لازم يكون معاك فيزا مينفعش تطلب بيها حاجة سرقة علني',\n",
       " 'خدمة عملاء سيئة تكاد تكون غير موجودة',\n",
       " 'خدمه العملاء السيئه فيهم',\n",
       " 'جيد ولكن اتمنى إضافة المزيد من المطاعم والماركت',\n",
       " 'التاخر فى توصيل الطلبات _ وكثرة الخطا فى الطلبات وخدمة العملاء توعدنى بتغيير الطلب وتقوم بالغاءه وتتركنى انتظر اكثر من ساعه',\n",
       " 'التطبيق جيد جدا بعد أن حلو المشكلة التي كنت اوجهها #التطبيق_سريع_التوصيل',\n",
       " 'التطبيق راءع',\n",
       " 'اسوء تطبيق وخدمه',\n",
       " 'اسوء تطبيق جربته اطلب مشروب يوصلني نص و الباقي طايح !! والله العظيم طلبت طلب الساعه 3 يوصلني 5:16!!! لو اروح المطعم مشي ما استغرق هذا الوقت تطبيق فاشل👎🏼👎🏼',\n",
       " 'من بعد التحديث صار ياخذ افلوس الخدمه و الشي الحلو انه اينقصون من سعر التوصيل و الشي اللي يقهر انه بعض المطاعم ماتغير سعر التوصيل مثل البيك دينار كامل و خدمه بعد مال ويعه شنو التصفع ذي لو ينقص سعر التوصيل من كل المطاعم بيكون شي زين',\n",
       " 'ابليكيشن زباله الاسعار غاليه عن المطعم لي! وف الاخر الاكل بيجي بارد.... حاجه زفت اوي',\n",
       " 'ؤمؤمؤمؤمؤمؤم',\n",
       " 'اخب طلبات للامانه احب اهتمامهم وسرعه حل الإشكالية، بس ف مشكله تخليني ابحث عن برنامح بديل،،، والسبب انه مره الجفع بالبطاقع يروح ومره لا واتصل بالبنك يقولو الإشكالية من البرنامج، من امس ابا اطلب من سن مارت بالبطاقه لا فائده',\n",
       " 'المنطقة التي انا فيها لا تدعم التطبيق الاردن/عمان/الموقر/الذهيبة الشرقية',\n",
       " 'لايستحق نجوم لا يوجد اهتمام او احترام نهائي للعميل. المهم المطعم مش العميل.',\n",
       " 'في سائقين يوصلون أكثر من طلب في الوقت الواحد ولعنوانين مختلفين ! يعني يروح يوصل الطلب الآخر وبعدين طلبي ! وطلبي اذا كان ساخن بيوصل فاتر وإذا كان بارد بيوصل لا',\n",
       " 'تطبيق فاشل وصلني الطلب ناقص ومش ينفع اعمل حاجة، وحليب بايظ بسبب سوء التخزين',\n",
       " 'تطبيق وخدمة سيئة جدا، الأسعار مرتفعة جدا مقارنة بالمطاعم الأصلية، إكتشفت الكثير من الاحتيال والسرقة بالصدفة، الآن اتعمد الكشف عن سرقات التطبيق وأنصح الجميع بعدم إستخدام التطبيق، اطلب مباشرة من المطعم أفضل وأرخص.',\n",
       " 'لو بدون نجمه في كان حطيت ... الغلط من اللي يوصل ومو عارف يتكلم نتكلم معاه English ما يفهم نتكلم عربي ما يفهم نزلت اصور له المكان يقولي خلاص انلغى الطلب حتى خمس دقايق ما تأخرت يعني و دخلت ع التطبيق كان التوصيل ب 300 فلس صار ب 700 فلس والغلط مو مني أساسآ هذي أخر مره اطلب من هلتطبيق دام هذي المعامله !!!!',\n",
       " 'حظرو حسابي وسحبو ١٧ دينار بلا سبب فاشلين',\n",
       " 'اليوم طلبت نفس الطلب اكثر من ١٠ مرات وكل مره يخصمو مني 98 ريال وما وصل الطلب ارجو تصليح العطل+ لا اريد المال حلال عليكم',\n",
       " 'التطبيق ممتاز جدا. ورائع',\n",
       " 'التطبيق يأخذ ساعات لكي يعمل وأيضا لايتقبل دول قارة إفرقيا كالمغرب والجزائر',\n",
       " 'التطبيق بالبدايه كان كويس ..اما الان صار صعب الوصول للموقع الا عن طريق ارسال اللوكيشن للسائق',\n",
       " 'تطبيق سئ لايطبقوا سياسه الاسترداد المعلن عنهافي التطبيق حيث ارسلواطلب من مطعم غيرالذي طلبنامنه وجبات رديئه غيرمعلومه المصدرعندعمل شكوي لخدمه العملاء اكثرمن مره اعتذرواعن الخطأ واكدوااستردادالمبلغ ولم نسترده للان بعدمرور١٠ايام من المشكله',\n",
       " 'ابلكيشن سئ وخدمة العملاء سيئه جد',\n",
       " 'لذيذه',\n",
       " 'تطبيق سيء جداً جداً جداً جداً جداً جداً',\n",
       " 'حلووو',\n",
       " 'الخسمؤًغخليمل',\n",
       " 'واو طعم ولا اروع.',\n",
       " 'جاري حذف التطبيق بسبب رسوم الخدمة 👎🏼👎🏼👎🏼',\n",
       " 'تطبيق سيء بكون بمنطقه بعطيني مطاعم قريبه وبعيده اروح على موقع ثاني اقرب على مطاعم ضهرتلي بلموقع الاول ما تضهر الامطاعم الي ضهرت من قبل',\n",
       " 'شركه فاشله تم قيد مبالغ مرتين ولم يتم استراجع المبالغ ويتم التبرير خلل في السيتسم',\n",
       " 'بقي سيئ جدا وبياخد خدمه ع الأوردر ومفيش خصومات وبيعلق كمان طلبك جاري حذفه',\n",
       " 'روعه ❤️❤️',\n",
       " 'تطبيق سيئ جداً واصبح يتسغل شهرته باستغلال الزبائن والنصب عليهم ومن خلال عروضه المزيفة وتعامله سيئ مع المشاكل التقنية وانا تم سحب مني من بطاقة الفيزا مبلغ من المال ولم يرجع لي منذ اسبوعين',\n",
       " 'Excellent service',\n",
       " 'يدعم مناطق محدد متكدر تطلب من المطاعم الي اتريدة لان بعيدة',\n",
       " 'فكرت التطبيق ناجح لاكن المعاملة في التوصيل و كل التفاصيل كتير فاشلة جدا طلبات توصل متاخرة جدا ما في احطيات للنقود الشكاوى الدعم جدا فاشلة و ما في رقم للادارة يعني تطبيق فاشل و محادثتي مع الدعم و لم يتم حل المشكلة سوف اقاضي طلبات إن شاء الله',\n",
       " 'كثير المشاكل',\n",
       " 'كويس جدا',\n",
       " 'غير جيد',\n",
       " 'فاشل بكل صراحه لا انصح به',\n",
       " 'تاخير والطلبات مبتوصلش',\n",
       " 'سيى جدٱ',\n",
       " 'زباله واعلانات بتطلعلي دايما ملهاش داعيه خفوووو مشااان الله',\n",
       " 'نجمه واحد يسحب الفولوس',\n",
       " 'اسوء تطبيق تخبط وعدم متابعة',\n",
       " 'الدفع عند الاستلام كويس',\n",
       " 'كويس جداً ومسعف',\n",
       " 'ليش تم حجب حسابي ممكن اعرف شو السبب يعني انا منيح مني اني بكتب وبقرا وبالخير تيجو تقولو تم حجب الحساب وكمان مارجع المصاري الي بمحفظتي ٧ ساعات استنى لفك حظر حساب من قبل موظف من عندكم ليش بدك تخلو الواحد يلجأ للقضاء او رجعو مصاري بحسابي رجاء على البطاقه الانتمائيه بلاش نتصرف تصرف نندم عليه احنا وانتو رجاء حار بأقصى سرعه من قبل القضاء طبعا',\n",
       " 'سئ للغايه لا يرد التحميل معي',\n",
       " 'التطبيق جميل',\n",
       " '👍',\n",
       " 'اريد طلب اكل بسعر 2500 ما يصير بالتطبيق مو مثل. قبل كنت بطلب بهيك سعر يوصل هسه لحد الأقصى السعر لزم يكون 5000الاف يله اقدر طلب وانا في بغداد',\n",
       " 'حلو التطبيق',\n",
       " 'حلو جدا',\n",
       " 'تطبيق سيئ جدا من اول طلب الي طلبت طلب ولمدة ساعة ونص وانا انتظر فالطلب وما وصل',\n",
       " 'كفو',\n",
       " 'خدمه رائعه',\n",
       " 'تطبيق بخزي',\n",
       " 'ممكن كودالقسيمه',\n",
       " 'والله راااااإععععع',\n",
       " 'زايد بل اسعار',\n",
       " 'سيء ولا يعطي العنوان للمندوب فيتصل عليك يطلب العنوان . نجمة كثير',\n",
       " 'ليش مافي توصيل للجزائر',\n",
       " 'سيء جذا توصيل عالي و رسوم مرتفعه و لا انصح به',\n",
       " 'جميل جدااا و المطورين يردون علي التعليقات بسبب الاداره الرائع لطلبات شكرااا لصانعين التطبيق وعلي اهتمامهم ب العملاء',\n",
       " 'الططبيق كثير حلو بجنن',\n",
       " 'الخدمة بطيئة جدا وفي زبون بستنى وبضيع وقتو على حساب زبون ثاني صراحة انا رح أحذفو واوقف التعامل معو للعلم الي طالب الطلب ساعتين وللآن ماوصل الطلب',\n",
       " 'وايد وايد حلو 😂🥺',\n",
       " 'حطيت ٥ نجوم عشان يطلع تعليقي 😏 والله صار لوحده مشهوره طلع السواق سكران 🥂',\n",
       " 'انا اسف على التقيم السيء لاكن لا أستطيع تحميل تطبيق طلبات جربت كل الهواتف الي بلبيت بس ما اعرف المشكلة..',\n",
       " 'تطبيق ممممممتااااااز جدااااااااا ولكن هناك مشكلة صغيرة أنه جيد جداااااااااااا',\n",
       " 'جدا جدا',\n",
       " 'التطبيق كان رائع للأسف أصبح سيء فوق ان اسعار الطعام ارتفع و زدتها أسعار التوصيل ليش تاخذون ضربيه قمنا نروح لمطعم نشتري السعر في مينو مطعم غير فطلبات سعره غير اذا نحن نقدر على الأسعار البقيه اللي اللي ما يقدر يدفع الضربيه شبيسوي يطلع ب 70 توصيل ب 5 و فوق ها 5 ضريبه ليش كذا تخلون الناس تندم نزلت التطبيق',\n",
       " 'سيء جدا، و يتم خصم المبلغ من غير اجراء الطلب و لا تعاد لك قيمة الطلب !!!',\n",
       " 'شركة زبالة ما بنصح حد ينزل الابلكيشن',\n",
       " 'يا جماعة ما حدا ينزل تطبيق نصيحة بسرقو من بطاقاتكم فيزا كارد بنكية وبصيرو يخصمو حركات من حساب بأقل من راحتهم انا مقروس منهم وسركو مني 4 حركات زور ..وبهتان وشتكيت عليهم للبنك ومو راضين يرجعوهن نصيحة الكم ديرو بالكم وانا ما راح اسكت عن حقي راح اوصلها لكل ناس صح انو مبلغ تافه ومش بل مبلغ لكبير بس ما بسكت عن حقي. وذا كل واحد بخذو منو لو دينار بتكون ضاعت ضمير عند نااااس',\n",
       " 'نصابين بضحكو ع الناس مشان يوخضو مصاري بعبو بنزين ب خمسة ريال و بوخضو ع الطلب مية ريال',\n",
       " 'اسؤ برنامج',\n",
       " 'Talabat is the best app',\n",
       " 'اكتشفت انه الاكل لما تطلبه من المطعم مباشر ارخص من طلبات وكل الاسعار فيها زيادة ونصب ،محدش يفرح بالعرض ولا بالخصم ، علشان بتدفعه اضعاف يا صديقي',\n",
       " 'ممتاز جدا',\n",
       " 'مرررررررره حلو',\n",
       " 'Its good and fast delivery',\n",
       " 'للاسف انا لغيت البرنامج ونزلته تانى زى ما حضرتك قولت لقيت برضو ابو غالى وكتير من المطاعم طريقة الدفع بطاقة ائتمان ولا يوجد الدفع النقدى يعنى مفيش حل',\n",
       " 'انتو بقيتو زفت كدا لية مش عارفين تحلولى مشكلة ابلكيشن بقى زفت وياريت لو اقل من نجمه كنتو خدتوها',\n",
       " 'تطبيق سئ جدا ومعظم مندوبين التوصيل قلالة الادب واخر واحد فيهم بيزعقلي ويقولي مش شغلتى اطلع الاوردر انزل خده مني ..ويقولي روح اشتكيني.. انصح باستخدام تطبيق المينيوز كبديل مصرى محترم واللي شغالين فيه محترمين مش زي بتوع طلبات',\n",
       " 'مفيد جدا',\n",
       " 'محمد مراد النتشه',\n",
       " 'جميييييل',\n",
       " '👍👍',\n",
       " 'برنامج حرة والأوردر بتاعي قعد 5ساعات ومجاش',\n",
       " '👍👍👍💯',\n",
       " 'تتتتت',\n",
       " 'الاسعار في تزايد ..والعروض ماتشجع مثل قبل...',\n",
       " 'تطبيق مره روعه الصراحه وهايل',\n",
       " 'زينننن يجننن يوصل الطلب اللين باب بيتكم..',\n",
       " 'حلو اوي بجد',\n",
       " 'كان جيد وصار سيئ ما يستاهل',\n",
       " 'ممتاز 💗💗',\n",
       " 'تطبيق مميز وخدمته سريعة',\n",
       " 'تطبيق زباله ساعه وربع عشان سندوتشات فول وطعمية ليه والتعامل خدمة العملاء سي جدا',\n",
       " 'كيف يمكنني الحصول على قسائم',\n",
       " 'المعامله جدا سيئه تم الغاء الطلب من قبل طلبات من غير أن يخبرني والسبب عدم وجود سائقين ..هل معقول تطبيق عالمي مثل طلبات يرتكب مثل هذا الخطأ',\n",
       " 'بنسبه لي اشوف انه ممتااز و اهم شي يجيب الاكل حار، ومع تحديث جديد صارت توصل طلبات بسرعه خياليه',\n",
       " 'سئ جداا',\n",
       " 'كاش او من شحن الرصيد تبع الهاتف',\n",
       " 'تطبيق جميل و رائع التوصيل ما يستغرق نصف ساعة و الأسعار مقبوله 😀👍 ممتاز',\n",
       " 'ممتاز جدا شكرا',\n",
       " 'ممتاز جدا جربوووه',\n",
       " 'تطبيق ناجح بأمتياز ..عندكم سرعه بالتوصيل وعنايه بالعميل فقط عندي ملاحظه صغيره مره تم الأشارة لي من صفحتكم انكم اخترتوني ك اكثر من يطلب وربحتوني ايفن الجديد ولكن للأسف ماتواصلتو معي و خيبتو ظني وظن ابني للي مفروض الايفن له هوه 💔ومشكورين سلفاّ ياطلبات .',\n",
       " 'حرفيا الطبيق ولا غلطة سرعة التوصيل بالاخص طلبات مارت رهيبه وكل اشي بوصل مثل ما بدك عنجد وين كاينه انا عن هيك تطبيق سفاح للامانه يعطيكم الف عافيه ♥️♥️♥️🥺🥺🥺',\n",
       " 'سيئ جداً',\n",
       " 'مرحبا .المفروض توضحو بالوصف انه ما يشمل جميع مناطق المملكة .يعني نزلنا التطبيق وبدنا نوصي طلع لا يخدم المنطقة.كل الاحترام',\n",
       " 'تطبيق مفهوش عروض',\n",
       " 'لؤي٠٣٣٢لؤ٣٤٣س',\n",
       " 'رأع',\n",
       " 'ما يفتح برنامج كل اوقات لعوزه',\n",
       " 'تطبيق سيئ للغاية زيادة علي المنتج الي تطلبة يوجد فايدة خدمة و يزودلك 30 جنيه على طلبك ده غير فلوس التوصيل و ايضا اكواد الخصم لا تعمل',\n",
       " 'بصراحه إلي بخاطرك واصلك ٥ نجو',\n",
       " 'زفتتت الوحد بدو يوكل يدفع كول مصاري احسن المطعم شورما على ريف خلو توصيل ببلاش .',\n",
       " 'اسوء تطبيق بالعالم سحبوا مني فلوس مرتين وما قبل الطلب وجاعدين يقلون لي بترجع فلوسك صار لهم تقريبا اسبوعين ما يستاهلوا حتى نجمه وحده',\n",
       " 'يتم حذف النقاط دون سبب و هذا في أوقات متقاربة من بداية الشهر لليوم تم حذف تقريب ال ٢٠٠ نقطة و هذا أمر غريب ...',\n",
       " '🤩',\n",
       " 'التطبيق سيئ جدا 3 ساعات اخر شيئ موصل الطلب يقوم بالغاء الطلب و الموظف الاستعلام الموظف اسلام بالغاء الطلب لا تحطوا مجانا أفضل لأنكم ماتوصلوا و أسواء موصل لطلبات انتم و النجمة زيادة',\n",
       " 'يجنن',\n",
       " 'غير دقيق قلت ادب العمال التوصيل غير دقيق قلت احترام',\n",
       " 'من ازبل برامج الل ممكن تقبلك من خدمه عملاء ل مطاعم واكل واوردر يجي حلو مره وزي زفت ١٠ مرات من مطاعم مختلفه وازبل خدمه عملاء ممكن تشوفها ف حياتك',\n",
       " 'تطبيق ولا اروع',\n",
       " 'أصبح من اسوا التطبيقات',\n",
       " 'مقرف ومش شغال وديما المطعم خارج الخدمه ا',\n",
       " 'سيا بس الكلمه كلثوم مسخلينه ننام و يتم يطلع دعيات 🤬🤬🤬🤬🤬🤬🤬😤',\n",
       " 'تطبيق سئ جدا وحرامي بفعل كود الخصم مش عايز يتفعل',\n",
       " 'طلبت كثير بس الاكل كان دايما يوصل متأخر ومافي اي تعويضات او عروض',\n",
       " 'حلووو ❤️❤️❤️❤️❤️😭',\n",
       " 'سيييييء',\n",
       " 'أول تجربة وكان التأخير غير متوقّع تأخير أطول من اللازم تانى تجربة ولم يتم التوصيل',\n",
       " 'غير مجدي بالنسبة لي',\n",
       " 'قداقدا جميل',\n",
       " 'زي الزفت وخسارة فيكو النجمة👍',\n",
       " '🤢🤮🤢🤮🤢🤮🤢🤮🤢🤮🤢🤮🤢🤮🤢🤮🤢',\n",
       " 'ليه لما اجي اختار المكان وخلاص يقعد ساعه يقول جاري تحديد الموقع',\n",
       " 'اسعار غاليه كثير بنسبه للتوصيل مناطق قريبه كان 25 قرش حاليا 75 قرش وطلب يوصل بارد',\n",
       " 'التطبيق لا يعمل ويطلب تحديث ولا يوجد تحديث على القوقل بليه',\n",
       " 'انا قمت بوضع هذه النجمه لكي اكتب تعليق فقط لا غير لان خدمت هذا التطبيق بشع جدا اتمنى من تعديل هذه الخدمه البشعه قمت بطلب اكثر من مره ولم يتم استقبال طلبي ذلك بسبب مشكله في اختيار السائق فاضطر الى الطلب مره اخرى وذلك يكون في اوقات متاخره وقد تكون المطاعم قد اغلقت ولذلك انا سئمت من هذه الخدمه التي كل ما اردت الطلب يقول لي الرجاء الطلب مره اخرى لم يتم نجاح طلبات ذلك بسبب لم يتم اختيار السائق اتمنى من كل قلبي ان تعدل هذه الخدمه لانها جدا سيئه',\n",
       " 'الله اكبر يجماع احسن نوع',\n",
       " 'تجربة فاشلة مفيش خصم كذب وخدمة العملاء سى جداااا وماحدش ليساعد خالص',\n",
       " 'تجربة سيئه',\n",
       " 'صعب التنزيل',\n",
       " 'مش عارف أدخل علي التطبيق',\n",
       " 'اعتذر بي برنامج فاشل ياخذ المبلغ وما يقبل الطلب',\n",
       " 'مشكلات كثيرة في التطبيق',\n",
       " 'التبيق سيئ والنصب كثير يعني طلبنا من مطعم القاضي سناك وجبتين حلبي وسندويش زنجر وصلنا وحده زنجر ووحده فهيتا وضلبنا نتواصل معهم وقلو لنا ان شاء الله بنحكي مع المدير وبنرجعلك المصاري كل يوم هيك رنيينا على المطعم مالو دخل رنينا على طلبات ما الو دخل رنيينا على الي وصلنا الطلب طيب انا نفسي افهم من الي الو دخل لما بطلو يردو علينا وروحو علينا المصاري بنصح كل واحد يتفقد الطلب',\n",
       " ...]"
      ]
     },
     "execution_count": 84,
     "metadata": {},
     "output_type": "execute_result"
    }
   ],
   "source": [
    "text"
   ]
  },
  {
   "cell_type": "markdown",
   "id": "a03927b6-2114-4c15-99e6-aa84a82aeb9e",
   "metadata": {},
   "source": [
    "---"
   ]
  },
  {
   "cell_type": "markdown",
   "id": "9c07bd8e-b09d-4941-a077-62f9b1aee583",
   "metadata": {},
   "source": [
    "## Faiss and TFIDF"
   ]
  },
  {
   "cell_type": "code",
   "execution_count": 119,
   "id": "6b5d20db-2fa9-4e2e-b6b3-3d596b49741d",
   "metadata": {
    "execution": {
     "iopub.execute_input": "2024-08-07T04:14:05.934636Z",
     "iopub.status.busy": "2024-08-07T04:14:05.934308Z",
     "iopub.status.idle": "2024-08-07T04:14:05.940822Z",
     "shell.execute_reply": "2024-08-07T04:14:05.940115Z",
     "shell.execute_reply.started": "2024-08-07T04:14:05.934611Z"
    }
   },
   "outputs": [],
   "source": [
    "def faiss_tfidf(query, k=10):\n",
    "    preprocessed_query = preprocess_arabic_text(query)    \n",
    "    query_embedding = model.encode(preprocessed_query, convert_to_tensor=True).unsqueeze(0).numpy()\n",
    "    \n",
    "    query_tfidf = tfidf_vectorizer.transform([preprocessed_query])\n",
    "    tfidf_similarities = cosine_similarity(query_tfidf, tfidf_matrix)[0]\n",
    "    \n",
    "    index.nprobe = 10000\n",
    "    D, I = index.search(query_embedding, k)\n",
    "    \n",
    "    results = []\n",
    "    for idx in I[0]:\n",
    "        if idx < len(text):\n",
    "            results.append(f'{idx}: {text[idx]}')\n",
    "    \n",
    "    for result in results:\n",
    "        print(result)\n",
    "    \n",
    "    return results"
   ]
  },
  {
   "cell_type": "markdown",
   "id": "34515219-ffd9-42a2-ae4a-51b1058b74fa",
   "metadata": {},
   "source": [
    "### `faiss_tfidf` Function\n",
    "\n",
    "The `faiss_tfidf` function performs a combined semantic and TF-IDF based search to find the most relevant documents for a given query.\n",
    "\n",
    "1. **Preprocess Query**:\n",
    "   - The query is preprocessed using `preprocess_arabic_text` to ensure it is clean and suitable for embedding.\n",
    "\n",
    "2. **Generate Query Embedding**:\n",
    "   - The preprocessed query is converted into an embedding vector using the model, reshaped, and converted to a NumPy array.\n",
    "\n",
    "3. **Compute TF-IDF Similarity**:\n",
    "   - The query is transformed into a TF-IDF vector.\n",
    "   - Cosine similarity is calculated between the query’s TF-IDF vector and the TF-IDF matrix of the documents.\n",
    "\n",
    "4. **Search FAISS Index**:\n",
    "   - `index.nprobe = 10000` sets the number of clusters to be searched in the FAISS index.\n",
    "   - `index.search(query_embedding, k)` performs a search to find the top `k` most similar documents based on the semantic embedding.\n",
    "\n",
    "5. **Format and Display Results**:\n",
    "   - The function collects the results by retrieving the text of the documents corresponding to the indices found.\n",
    "   - Results are printed and returned as a list of formatted strings showing the document index and content.\n",
    "\n",
    "**Purpose**: To retrieve and display the top `k` most relevant documents to the query using both semantic embeddings and TF-IDF similarity, optimizing for accuracy and relevance in the search results.\n"
   ]
  },
  {
   "cell_type": "code",
   "execution_count": 120,
   "id": "49bc7e8d-fa8e-4dd1-8fe5-c82ca5635117",
   "metadata": {
    "execution": {
     "iopub.execute_input": "2024-08-07T04:14:06.419039Z",
     "iopub.status.busy": "2024-08-07T04:14:06.418362Z",
     "iopub.status.idle": "2024-08-07T04:14:06.468374Z",
     "shell.execute_reply": "2024-08-07T04:14:06.467770Z",
     "shell.execute_reply.started": "2024-08-07T04:14:06.419016Z"
    }
   },
   "outputs": [
    {
     "name": "stdout",
     "output_type": "stream",
     "text": [
      "38305: يساعدني علي سداد فواتيري\n",
      "19573: ساعد أكثر\n",
      "28545: التطبيق إلى قبل افضل\n",
      "12515: طلبات فقط للامارات\n",
      "11068: احب طلبات وايد ويسعدني اذا يوعانه\n",
      "38347: Yyy help with the remedy for abroken\n",
      "15357: يساعد\n",
      "31381: رووووووووووعه الله يعطيكم العافي\n",
      "18475: طلبات ساعدني كثيرا احببته\n",
      "25478: يعطيكم العافيه عل  مجهودكم الأكثر من رائع\n"
     ]
    }
   ],
   "source": [
    "query = 'يساعد على تلبيه الاحتياجات'\n",
    "results = faiss_tfidf(query)"
   ]
  },
  {
   "cell_type": "code",
   "execution_count": null,
   "id": "8bdff7ce-851a-4880-b6e7-b471d86679d0",
   "metadata": {
    "execution": {
     "iopub.execute_input": "2024-08-07T04:14:08.093873Z",
     "iopub.status.busy": "2024-08-07T04:14:08.093413Z",
     "iopub.status.idle": "2024-08-07T04:14:08.100259Z",
     "shell.execute_reply": "2024-08-07T04:14:08.099662Z",
     "shell.execute_reply.started": "2024-08-07T04:14:08.093836Z"
    }
   },
   "outputs": [],
   "source": [
    "def faiss_tfidf(query, k=10, weight_st=.5, weight_tfidf=.8):\n",
    "    preprocessed_query = preprocess_arabic_text(query)    \n",
    "    query_embedding = model.encode(preprocessed_query, convert_to_tensor=True).unsqueeze(0).numpy()\n",
    "    \n",
    "    query_tfidf = tfidf_vectorizer.transform([preprocessed_query])\n",
    "    tfidf_similarities = cosine_similarity(query_tfidf, tfidf_matrix)[0]\n",
    "    \n",
    "    index.nprobe = 10000\n",
    "    D, I = index.search(query_embedding, k)\n",
    "    \n",
    "    results = []\n",
    "    for idx in I[0]:\n",
    "        if idx < len(text):\n",
    "            # FAISS similarity: 1 / (distance + epsilon) to avoid division by zero\n",
    "            faiss_similarity = 1 / (D[0][list(I[0]).index(idx)] + 1e-2)\n",
    "            # TF-IDF similarity\n",
    "            tfidf_similarity = tfidf_similarities[idx]\n",
    "            # Compute weighted score\n",
    "            weighted_score = weight_st * faiss_similarity + weight_tfidf * tfidf_similarity\n",
    "            results.append((weighted_score, idx, text[idx]))\n",
    "    \n",
    "    results.sort(reverse=True, key=lambda x: x[0])\n",
    "    \n",
    "    for score, idx, doc in results:\n",
    "        print(f'Score: {score:.4f} - Index: {idx} - Document: {doc}')\n",
    "    \n",
    "    return results"
   ]
  },
  {
   "cell_type": "markdown",
   "id": "d5a91e9c-8a62-4ad2-b8c9-e8ab54739a1b",
   "metadata": {},
   "source": [
    "### The second `faiss_tfidf` Function\n",
    "\n",
    "The `faiss_tfidf` function performs a hybrid search using both FAISS and TF-IDF methods to retrieve the most relevant documents for a given query.\n",
    "\n",
    "1. **Preprocess Query**:\n",
    "   - The query is preprocessed with `preprocess_arabic_text` to ensure it is clean and ready for embedding.\n",
    "\n",
    "2. **Generate Query Embedding**:\n",
    "   - The preprocessed query is converted into an embedding vector using the model, reshaped, and converted to a NumPy array.\n",
    "\n",
    "3. **Compute TF-IDF Similarity**:\n",
    "   - The query is transformed into a TF-IDF vector.\n",
    "   - Cosine similarity is computed between the query’s TF-IDF vector and the TF-IDF matrix of the documents.\n",
    "\n",
    "4. **Search FAISS Index**:\n",
    "   - `index.nprobe = 10000` specifies the number of clusters to be searched in the FAISS index.\n",
    "   - `index.search(query_embedding, k)` performs the search to find the top `k` most similar documents based on semantic embeddings.\n",
    "\n",
    "5. **Compute Weighted Scores**:\n",
    "   - For each retrieved document:\n",
    "     - **FAISS Similarity**: Calculated as `1 / (distance + epsilon)` to avoid division by zero, where `epsilon` is a small constant.\n",
    "     - **TF-IDF Similarity**: Directly from the computed TF-IDF similarities.\n",
    "     - **Weighted Score**: Combined using specified weights (`weight_st` for FAISS and `weight_tfidf` for TF-IDF).\n",
    "\n",
    "6. **Sort and Display Results**:\n",
    "   - Results are sorted by weighted score in descending order.\n",
    "   - The function prints and returns the results, showing the score, index, and document content.\n",
    "\n",
    "**Purpose**: To find and display the top `k` documents that are most relevant to the query by combining FAISS-based semantic similarity with TF-IDF similarity, using weighted scoring to balance the two methods.\n"
   ]
  },
  {
   "cell_type": "code",
   "execution_count": 122,
   "id": "e91b7af8-171a-481d-b227-589c602e1c47",
   "metadata": {
    "execution": {
     "iopub.execute_input": "2024-08-07T04:14:09.445795Z",
     "iopub.status.busy": "2024-08-07T04:14:09.445530Z",
     "iopub.status.idle": "2024-08-07T04:14:09.496731Z",
     "shell.execute_reply": "2024-08-07T04:14:09.496180Z",
     "shell.execute_reply.started": "2024-08-07T04:14:09.445776Z"
    }
   },
   "outputs": [
    {
     "name": "stdout",
     "output_type": "stream",
     "text": [
      "Score: 0.4029 - Index: 15357 - Document: يساعد\n",
      "Score: 0.3128 - Index: 19573 - Document: ساعد أكثر\n",
      "Score: 0.2412 - Index: 38305 - Document: يساعدني علي سداد فواتيري\n",
      "Score: 0.2091 - Index: 18475 - Document: طلبات ساعدني كثيرا احببته\n",
      "Score: 0.0029 - Index: 28545 - Document: التطبيق إلى قبل افضل\n",
      "Score: 0.0028 - Index: 12515 - Document: طلبات فقط للامارات\n",
      "Score: 0.0027 - Index: 11068 - Document: احب طلبات وايد ويسعدني اذا يوعانه\n",
      "Score: 0.0027 - Index: 38347 - Document: Yyy help with the remedy for abroken\n",
      "Score: 0.0026 - Index: 31381 - Document: رووووووووووعه الله يعطيكم العافي\n",
      "Score: 0.0026 - Index: 25478 - Document: يعطيكم العافيه عل  مجهودكم الأكثر من رائع\n"
     ]
    }
   ],
   "source": [
    "query = 'يساعد على تلبيه الاحتياجات'\n",
    "results = faiss_tfidf(query)"
   ]
  },
  {
   "cell_type": "markdown",
   "id": "7e3c010d-0f14-41ab-9a72-28ad90f04f63",
   "metadata": {},
   "source": [
    "---"
   ]
  },
  {
   "cell_type": "markdown",
   "id": "aa6e7cad-8a6e-470c-8264-a7ac9edd0ee2",
   "metadata": {},
   "source": [
    "## Results Overview"
   ]
  },
  {
   "cell_type": "markdown",
   "id": "13f55bb6-c4a3-413f-a2f7-f47c8d4bb60f",
   "metadata": {},
   "source": [
    "### **Query**: يساعد على تلبيه الاحتياجات"
   ]
  },
  {
   "cell_type": "markdown",
   "id": "f198238b-2750-4393-bd60-d1f92a8bd2e9",
   "metadata": {},
   "source": [
    "#### **Semantic Search**\n",
    "  - يساعدني علي سداد فواتيري\n",
    "  - التطبيق إلى قبل افضل\n",
    "  - ساعد أكثر\n",
    "\n",
    "#### **Hybrid Search**\n",
    "  - برنامج رائع جدا يساعد على تلبيه الاحتياجات بشكل اسرع\n",
    "  - يساعد\n",
    "  - ساعد أكثر\n",
    "\n",
    "#### **First FAISS Search**\n",
    "  - رائع\n",
    "  - برنامج رائع جدا يساعد على تلبيه الاحتياجات بشكل اسرع\n",
    "  - التطبيق لا يغتح دائما بيعطيني لا يوجد اتصال بالشبكة..مع انه النت عندي تمام شو الحل??\n",
    "  - لماذا لا يمكننا طلب من ماكدونالدز؟\n",
    "  - البرنامج بيظهر كل المطاعم و مغلقه مع انها بتكون فاتحه بقاله كده اكتر من شهر\n",
    "  - أصبح غالي جداً\n",
    "  - جميل جدا رائع. . .\n",
    "  - للأسف الواحد ينصدم بعد زيادة الاسعار و للاسف بعض المطاعم اصبحت معاملتهم رديئة\n",
    "  - برنامج توترز توصيل احلى من برنامجكم فاشل\n",
    "  - كتير في تحسن خدمة العملاء لطفين في بعض الاخطاء التقنية لكن بتصلحوها بسرعة وبعض التاخير سياسيتكم وتسويقكم صار افضل من كريم بالنسبة الي متفقين\n",
    "\n",
    "#### **FAISS with nlist**\n",
    "- يساعدني علي سداد فواتيري\n",
    "- ساعد أكثر\n",
    "- التطبيق إلى قبل افضل\n",
    "- طلبات فقط للامارات\n",
    "- احب طلبات وايد ويسعدني اذا يوعانه\n",
    "- Yyy help with the remedy for abroken\n",
    "- يساعد\n",
    "- رووووووووووعه الله يعطيكم العافي\n",
    "- طلبات ساعدني كثيرا احببته\n",
    "- يعطيكم العافيه عل  مجهودكم الأكثر من رائع\n",
    "\n",
    "#### **FAISS with nprobe**\n",
    "- يساعدني علي سداد فواتيري\n",
    "- ساعد أكثر\n",
    "- التطبيق إلى قبل افضل\n",
    "- طلبات فقط للامارات\n",
    "- احب طلبات وايد ويسعدني اذا يوعانه\n",
    "- Yyy help with the remedy for abroken\n",
    "- يساعد\n",
    "- رووووووووووعه الله يعطيكم العافي\n",
    "- طلبات ساعدني كثيرا احببته\n",
    "- يعطيكم العافيه عل  مجهودكم الأكثر من رائع\n",
    "\n",
    "#### **FAISS with TF-IDF**\n",
    "- يساعدني علي سداد فواتيري\n",
    "- ساعد أكثر\n",
    "- التطبيق إلى قبل افضل\n",
    "- طلبات فقط للامارات\n",
    "- احب طلبات وايد ويسعدني اذا يوعانه\n",
    "- Yyy help with the remedy for abroken\n",
    "- يساعد\n",
    "- رووووووووووعه الله يعطيكم العافي\n",
    "- طلبات ساعدني كثيرا احببته\n",
    "- يعطيكم العافيه عل  مجهودكم الأكثر من رائع\n",
    "\n",
    "#### **FAISS with TF-IDF and Weights**\n",
    "- يساعد\n",
    "- ساعد أكثر\n",
    "- يساعدني علي سداد فواتيري\n",
    "- طلبات ساعدني كثيرا احببته\n",
    "- التطبيق إلى قبل افضل\n",
    "- طلبات فقط للامارات\n",
    "- احب طلبات وايد ويسعدني اذا يوعانه\n",
    "- Yyy help with the remedy for abroken\n",
    "- رووووووووووعه الله يعطيكم العافي\n",
    "- يعطيكم العافيه عل  مجهودكم الأكثر من رائع"
   ]
  },
  {
   "cell_type": "markdown",
   "id": "77d6dba2-9ac2-45c1-ab00-dfe6e925f789",
   "metadata": {},
   "source": [
    "- **Best Method**: **FAISS with TF-IDF and Weights** provides the most accurate and relevant results by combining FAISS with TF-IDF and applying weights for better precision.\n",
    "\n",
    "- **Comparison**:\n",
    "  - **FAISS with nlist** and **FAISS with nprobe** offer good relevance but are less fine-tuned.\n",
    "  - **Hybrid Search** balances multiple techniques but may not always be as precise.\n",
    "  - **Semantic Search** focuses on meaning but may miss specific relevance.\n",
    "\n",
    "**FAISS with TF-IDF and Weights** is the most effective method for accurate search results."
   ]
  }
 ],
 "metadata": {
  "kernelspec": {
   "display_name": "Python 3 (ipykernel)",
   "language": "python",
   "name": "python3"
  },
  "language_info": {
   "codemirror_mode": {
    "name": "ipython",
    "version": 3
   },
   "file_extension": ".py",
   "mimetype": "text/x-python",
   "name": "python",
   "nbconvert_exporter": "python",
   "pygments_lexer": "ipython3",
   "version": "3.9.19"
  },
  "widgets": {
   "application/vnd.jupyter.widget-state+json": {
    "state": {},
    "version_major": 2,
    "version_minor": 0
   }
  }
 },
 "nbformat": 4,
 "nbformat_minor": 5
}

{
 "cells": [
  {
   "cell_type": "markdown",
   "id": "31062f86-6d48-4ffc-af5a-ea233dab9ff2",
   "metadata": {},
   "source": [
    "# Search Engine\n",
    "## **Mana Saleh Al Aqeel**"
   ]
  },
  {
   "cell_type": "markdown",
   "id": "a5a84327-3a06-496b-9060-6778adb52bac",
   "metadata": {},
   "source": [
    "## Important Necessary Libraries"
   ]
  },
  {
   "cell_type": "code",
   "execution_count": null,
   "id": "635c8225-3a85-4f98-adb8-51b001e1443b",
   "metadata": {
    "execution": {
     "iopub.execute_input": "2024-08-07T04:50:48.543194Z",
     "iopub.status.busy": "2024-08-07T04:50:48.542720Z",
     "iopub.status.idle": "2024-08-07T04:50:50.756811Z",
     "shell.execute_reply": "2024-08-07T04:50:50.756269Z",
     "shell.execute_reply.started": "2024-08-07T04:50:48.543167Z"
    }
   },
   "outputs": [],
   "source": [
    "import pandas as pd\n",
    "import torch\n",
    "from sentence_transformers import SentenceTransformer\n",
    "from sentence_transformers.util import pytorch_cos_sim as cos_sim\n",
    "import faiss\n",
    "from sklearn.feature_extraction.text import TfidfVectorizer\n",
    "from sklearn.metrics.pairwise import cosine_similarity\n",
    "import numpy as np\n",
    "import pyarabic.araby as ar\n",
    "import re\n",
    "from tashaphyne.stemming import ArabicLightStemmer"
   ]
  },
  {
   "cell_type": "markdown",
   "id": "095b3029-a67b-4a54-a8ae-b4844b06215a",
   "metadata": {},
   "source": [
    "import model embedding arabic"
   ]
  },
  {
   "cell_type": "code",
   "execution_count": null,
   "id": "0938da2e-35f3-4c7f-ab85-2befce4f80a2",
   "metadata": {
    "execution": {
     "iopub.execute_input": "2024-08-07T04:50:50.757781Z",
     "iopub.status.busy": "2024-08-07T04:50:50.757578Z",
     "iopub.status.idle": "2024-08-07T04:50:56.688370Z",
     "shell.execute_reply": "2024-08-07T04:50:56.687718Z",
     "shell.execute_reply.started": "2024-08-07T04:50:50.757767Z"
    }
   },
   "outputs": [],
   "source": [
    "model = SentenceTransformer(\"acayir64/arabic-embedding-model-only-pairs\")"
   ]
  },
  {
   "cell_type": "markdown",
   "id": "c62d5152-a43e-41db-93d1-f5e51fd0ea8d",
   "metadata": {},
   "source": [
    "## Preprocessing Data"
   ]
  },
  {
   "cell_type": "code",
   "execution_count": 3,
   "id": "75239a1a-643a-4a17-8b35-f8d3f3d9b9c5",
   "metadata": {
    "execution": {
     "iopub.execute_input": "2024-08-07T04:50:56.689303Z",
     "iopub.status.busy": "2024-08-07T04:50:56.689096Z",
     "iopub.status.idle": "2024-08-07T04:50:56.771844Z",
     "shell.execute_reply": "2024-08-07T04:50:56.771291Z",
     "shell.execute_reply.started": "2024-08-07T04:50:56.689279Z"
    }
   },
   "outputs": [
    {
     "data": {
      "text/html": [
       "<div>\n",
       "<style scoped>\n",
       "    .dataframe tbody tr th:only-of-type {\n",
       "        vertical-align: middle;\n",
       "    }\n",
       "\n",
       "    .dataframe tbody tr th {\n",
       "        vertical-align: top;\n",
       "    }\n",
       "\n",
       "    .dataframe thead th {\n",
       "        text-align: right;\n",
       "    }\n",
       "</style>\n",
       "<table border=\"1\" class=\"dataframe\">\n",
       "  <thead>\n",
       "    <tr style=\"text-align: right;\">\n",
       "      <th></th>\n",
       "      <th>Unnamed: 0</th>\n",
       "      <th>review_description</th>\n",
       "      <th>rating</th>\n",
       "      <th>company</th>\n",
       "    </tr>\n",
       "  </thead>\n",
       "  <tbody>\n",
       "    <tr>\n",
       "      <th>0</th>\n",
       "      <td>0</td>\n",
       "      <td>رائع</td>\n",
       "      <td>1</td>\n",
       "      <td>talbat</td>\n",
       "    </tr>\n",
       "    <tr>\n",
       "      <th>1</th>\n",
       "      <td>1</td>\n",
       "      <td>برنامج رائع جدا يساعد على تلبيه الاحتياجات بشك...</td>\n",
       "      <td>1</td>\n",
       "      <td>talbat</td>\n",
       "    </tr>\n",
       "    <tr>\n",
       "      <th>2</th>\n",
       "      <td>2</td>\n",
       "      <td>التطبيق لا يغتح دائما بيعطيني لا يوجد اتصال با...</td>\n",
       "      <td>-1</td>\n",
       "      <td>talbat</td>\n",
       "    </tr>\n",
       "    <tr>\n",
       "      <th>3</th>\n",
       "      <td>3</td>\n",
       "      <td>لماذا لا يمكننا طلب من ماكدونالدز؟</td>\n",
       "      <td>-1</td>\n",
       "      <td>talbat</td>\n",
       "    </tr>\n",
       "    <tr>\n",
       "      <th>4</th>\n",
       "      <td>4</td>\n",
       "      <td>البرنامج بيظهر كل المطاعم و مغلقه مع انها بتكو...</td>\n",
       "      <td>-1</td>\n",
       "      <td>talbat</td>\n",
       "    </tr>\n",
       "  </tbody>\n",
       "</table>\n",
       "</div>"
      ],
      "text/plain": [
       "   Unnamed: 0                                 review_description  rating  \\\n",
       "0           0                                               رائع       1   \n",
       "1           1  برنامج رائع جدا يساعد على تلبيه الاحتياجات بشك...       1   \n",
       "2           2  التطبيق لا يغتح دائما بيعطيني لا يوجد اتصال با...      -1   \n",
       "3           3                 لماذا لا يمكننا طلب من ماكدونالدز؟      -1   \n",
       "4           4  البرنامج بيظهر كل المطاعم و مغلقه مع انها بتكو...      -1   \n",
       "\n",
       "  company  \n",
       "0  talbat  \n",
       "1  talbat  \n",
       "2  talbat  \n",
       "3  talbat  \n",
       "4  talbat  "
      ]
     },
     "execution_count": 3,
     "metadata": {},
     "output_type": "execute_result"
    }
   ],
   "source": [
    "df = pd.read_csv('CompanyReviews.csv')\n",
    "df.head()"
   ]
  },
  {
   "cell_type": "code",
   "execution_count": 4,
   "id": "67bfd6e4-0aaf-452e-a45f-58f2cacd7590",
   "metadata": {
    "execution": {
     "iopub.execute_input": "2024-08-07T04:50:56.772801Z",
     "iopub.status.busy": "2024-08-07T04:50:56.772602Z",
     "iopub.status.idle": "2024-08-07T04:50:56.778252Z",
     "shell.execute_reply": "2024-08-07T04:50:56.777589Z",
     "shell.execute_reply.started": "2024-08-07T04:50:56.772783Z"
    }
   },
   "outputs": [],
   "source": [
    "def preprocess_arabic_text(text):\n",
    "    if not isinstance(text, str):\n",
    "        raise ValueError(\"Input must be a string.\")\n",
    "    \n",
    "    if not text.strip():\n",
    "        return \"\"  \n",
    "\n",
    "    stemmer = ArabicLightStemmer()\n",
    "    \n",
    "    text = ar.normalize_hamza(text)\n",
    "    text = ar.normalize_ligature(text)\n",
    "    text = ar.strip_tashkeel(text)\n",
    "    text = ar.strip_tatweel(text)\n",
    "    text = ar.strip_harakat(text)\n",
    "\n",
    "    text = re.sub(r'[^أ-يa-zA-Z0-9\\s]', '', text)\n",
    "    \n",
    "    tokens = ar.tokenize(text)\n",
    "    \n",
    "    processed_tokens = [stemmer.light_stem(token) for token in tokens]\n",
    "    \n",
    "    processed_text = ' '.join(processed_tokens)\n",
    "    \n",
    "    return processed_text"
   ]
  },
  {
   "cell_type": "markdown",
   "id": "46bd8a3f-43f4-40cc-8e53-a5e9fc4cd490",
   "metadata": {},
   "source": [
    "### `preprocess_arabic_text` Function\n",
    "\n",
    "This function prepares Arabic text for analysis by performing the following steps:\n",
    "\n",
    "1. **Input Validation**\n",
    "   - Ensures the input is a string. If it isn't, an error is raised.\n",
    "\n",
    "2. **Empty String Check**\n",
    "   - Returns an empty string if the input consists only of whitespace.\n",
    "\n",
    "3. **Initialization**\n",
    "   - Sets up a stemmer to reduce words to their root forms.\n",
    "\n",
    "4. **Normalization and Cleaning**\n",
    "   - Standardizes the text by normalizing variations of specific characters and removing diacritics and elongation marks.\n",
    "\n",
    "5. **Remove Punctuation**\n",
    "   - Strips out all non-essential characters, retaining only Arabic letters, English letters, digits, and spaces.\n",
    "\n",
    "6. **Tokenization**\n",
    "   - Splits the text into individual words or tokens.\n",
    "\n",
    "7. **Stemming**\n",
    "   - Applies stemming to each token to reduce it to its base or root form.\n",
    "\n",
    "8. **Reconstruct Processed Text**\n",
    "   - Joins the processed tokens back into a single string.\n",
    "\n",
    "9. **Return Processed Text**\n",
    "   - Outputs the cleaned and processed text.\n"
   ]
  },
  {
   "cell_type": "code",
   "execution_count": 5,
   "id": "07d38774-7769-43fe-8328-74e619ffc07a",
   "metadata": {
    "execution": {
     "iopub.execute_input": "2024-08-07T04:50:56.779927Z",
     "iopub.status.busy": "2024-08-07T04:50:56.779726Z",
     "iopub.status.idle": "2024-08-07T04:50:56.788526Z",
     "shell.execute_reply": "2024-08-07T04:50:56.787756Z",
     "shell.execute_reply.started": "2024-08-07T04:50:56.779908Z"
    }
   },
   "outputs": [],
   "source": [
    "text = df['review_description'].fillna('')"
   ]
  },
  {
   "cell_type": "code",
   "execution_count": 6,
   "id": "e90ed76f-2ddb-4883-8fdb-c4f05214f38f",
   "metadata": {
    "execution": {
     "iopub.execute_input": "2024-08-07T04:50:56.789711Z",
     "iopub.status.busy": "2024-08-07T04:50:56.789442Z",
     "iopub.status.idle": "2024-08-07T04:51:30.607365Z",
     "shell.execute_reply": "2024-08-07T04:51:30.606848Z",
     "shell.execute_reply.started": "2024-08-07T04:50:56.789685Z"
    }
   },
   "outputs": [],
   "source": [
    "df['preprocessed_text'] = text.apply(preprocess_arabic_text)"
   ]
  },
  {
   "cell_type": "code",
   "execution_count": 7,
   "id": "700c25d8-833b-4303-b19b-be398888acc2",
   "metadata": {
    "execution": {
     "iopub.execute_input": "2024-08-07T04:51:30.607906Z",
     "iopub.status.busy": "2024-08-07T04:51:30.607792Z",
     "iopub.status.idle": "2024-08-07T04:51:30.614624Z",
     "shell.execute_reply": "2024-08-07T04:51:30.614262Z",
     "shell.execute_reply.started": "2024-08-07T04:51:30.607894Z"
    }
   },
   "outputs": [
    {
     "data": {
      "text/html": [
       "<div>\n",
       "<style scoped>\n",
       "    .dataframe tbody tr th:only-of-type {\n",
       "        vertical-align: middle;\n",
       "    }\n",
       "\n",
       "    .dataframe tbody tr th {\n",
       "        vertical-align: top;\n",
       "    }\n",
       "\n",
       "    .dataframe thead th {\n",
       "        text-align: right;\n",
       "    }\n",
       "</style>\n",
       "<table border=\"1\" class=\"dataframe\">\n",
       "  <thead>\n",
       "    <tr style=\"text-align: right;\">\n",
       "      <th></th>\n",
       "      <th>review_description</th>\n",
       "      <th>preprocessed_text</th>\n",
       "    </tr>\n",
       "  </thead>\n",
       "  <tbody>\n",
       "    <tr>\n",
       "      <th>0</th>\n",
       "      <td>رائع</td>\n",
       "      <td>راع</td>\n",
       "    </tr>\n",
       "    <tr>\n",
       "      <th>1</th>\n",
       "      <td>برنامج رائع جدا يساعد على تلبيه الاحتياجات بشك...</td>\n",
       "      <td>رنامج راع جد ساعد على لب احتياج شكل سرع</td>\n",
       "    </tr>\n",
       "    <tr>\n",
       "      <th>2</th>\n",
       "      <td>التطبيق لا يغتح دائما بيعطيني لا يوجد اتصال با...</td>\n",
       "      <td>تطبيق لا يغتح دام يعطين لا وجد تصال شبكةمع نه ...</td>\n",
       "    </tr>\n",
       "    <tr>\n",
       "      <th>3</th>\n",
       "      <td>لماذا لا يمكننا طلب من ماكدونالدز؟</td>\n",
       "      <td>ماذ لا مك طلب من ماكدونالدز</td>\n",
       "    </tr>\n",
       "    <tr>\n",
       "      <th>4</th>\n",
       "      <td>البرنامج بيظهر كل المطاعم و مغلقه مع انها بتكو...</td>\n",
       "      <td>برنامج يظهر كل مطاعم و مغلق مع نه تكون تح قال ...</td>\n",
       "    </tr>\n",
       "  </tbody>\n",
       "</table>\n",
       "</div>"
      ],
      "text/plain": [
       "                                  review_description  \\\n",
       "0                                               رائع   \n",
       "1  برنامج رائع جدا يساعد على تلبيه الاحتياجات بشك...   \n",
       "2  التطبيق لا يغتح دائما بيعطيني لا يوجد اتصال با...   \n",
       "3                 لماذا لا يمكننا طلب من ماكدونالدز؟   \n",
       "4  البرنامج بيظهر كل المطاعم و مغلقه مع انها بتكو...   \n",
       "\n",
       "                                   preprocessed_text  \n",
       "0                                                راع  \n",
       "1            رنامج راع جد ساعد على لب احتياج شكل سرع  \n",
       "2  تطبيق لا يغتح دام يعطين لا وجد تصال شبكةمع نه ...  \n",
       "3                        ماذ لا مك طلب من ماكدونالدز  \n",
       "4  برنامج يظهر كل مطاعم و مغلق مع نه تكون تح قال ...  "
      ]
     },
     "execution_count": 7,
     "metadata": {},
     "output_type": "execute_result"
    }
   ],
   "source": [
    "df[['review_description', 'preprocessed_text']].head()"
   ]
  },
  {
   "cell_type": "code",
   "execution_count": 8,
   "id": "2314e9e9-7015-4e3f-94aa-8fa3cd06d9c3",
   "metadata": {
    "execution": {
     "iopub.execute_input": "2024-08-07T04:51:30.615148Z",
     "iopub.status.busy": "2024-08-07T04:51:30.615033Z",
     "iopub.status.idle": "2024-08-07T04:51:30.619900Z",
     "shell.execute_reply": "2024-08-07T04:51:30.619395Z",
     "shell.execute_reply.started": "2024-08-07T04:51:30.615136Z"
    }
   },
   "outputs": [],
   "source": [
    "doc = df['preprocessed_text'].fillna('').tolist()"
   ]
  },
  {
   "cell_type": "code",
   "execution_count": 9,
   "id": "856358d1-9f42-456b-a650-594ee9f7781c",
   "metadata": {
    "execution": {
     "iopub.execute_input": "2024-08-07T04:51:30.620804Z",
     "iopub.status.busy": "2024-08-07T04:51:30.620597Z",
     "iopub.status.idle": "2024-08-07T04:51:30.623429Z",
     "shell.execute_reply": "2024-08-07T04:51:30.623086Z",
     "shell.execute_reply.started": "2024-08-07T04:51:30.620783Z"
    }
   },
   "outputs": [
    {
     "data": {
      "text/plain": [
       "40046"
      ]
     },
     "execution_count": 9,
     "metadata": {},
     "output_type": "execute_result"
    }
   ],
   "source": [
    "len(doc)"
   ]
  },
  {
   "cell_type": "markdown",
   "id": "c0f67355-1101-4e6e-bbbd-ac2ee8478560",
   "metadata": {},
   "source": [
    "### Encoding Document into Embeddings"
   ]
  },
  {
   "cell_type": "code",
   "execution_count": null,
   "id": "154eb424-f1de-4e84-98a1-5b636971aca8",
   "metadata": {
    "execution": {
     "iopub.execute_input": "2024-08-07T04:51:30.623876Z",
     "iopub.status.busy": "2024-08-07T04:51:30.623778Z",
     "iopub.status.idle": "2024-08-07T04:54:54.459537Z",
     "shell.execute_reply": "2024-08-07T04:54:54.458131Z",
     "shell.execute_reply.started": "2024-08-07T04:51:30.623865Z"
    }
   },
   "outputs": [],
   "source": [
    "doc_embedding = model.encode(doc , convert_to_tensor= True)"
   ]
  },
  {
   "cell_type": "code",
   "execution_count": null,
   "id": "8b0166a7-269c-476e-91f7-15a2c927cae4",
   "metadata": {
    "execution": {
     "iopub.status.busy": "2024-08-07T04:54:54.459895Z",
     "iopub.status.idle": "2024-08-07T04:54:54.460041Z",
     "shell.execute_reply": "2024-08-07T04:54:54.459976Z",
     "shell.execute_reply.started": "2024-08-07T04:54:54.459968Z"
    }
   },
   "outputs": [],
   "source": [
    "doc_embedding.shape"
   ]
  },
  {
   "cell_type": "markdown",
   "id": "2214a1aa-065b-43d9-b0f9-3d5670ca19fa",
   "metadata": {},
   "source": [
    "### Saving Tensor to File\n",
    "\n",
    "- **Purpose**: To persist the tensor for future use, avoiding the need to recompute it."
   ]
  },
  {
   "cell_type": "code",
   "execution_count": null,
   "id": "59b23c45-db29-4ff9-aa95-b2166e19b552",
   "metadata": {
    "execution": {
     "iopub.status.busy": "2024-08-07T04:54:54.460437Z",
     "iopub.status.idle": "2024-08-07T04:54:54.460577Z",
     "shell.execute_reply": "2024-08-07T04:54:54.460514Z",
     "shell.execute_reply.started": "2024-08-07T04:54:54.460507Z"
    }
   },
   "outputs": [],
   "source": [
    "torch.save(doc_embedding, 'doc_embedding.pt')"
   ]
  },
  {
   "cell_type": "code",
   "execution_count": null,
   "id": "93534bfb-6608-49e9-93bc-dd8bc560ddc9",
   "metadata": {
    "execution": {
     "iopub.execute_input": "2024-08-07T04:55:02.306594Z",
     "iopub.status.busy": "2024-08-07T04:55:02.306131Z",
     "iopub.status.idle": "2024-08-07T04:55:02.390448Z",
     "shell.execute_reply": "2024-08-07T04:55:02.389463Z",
     "shell.execute_reply.started": "2024-08-07T04:55:02.306554Z"
    }
   },
   "outputs": [],
   "source": [
    "embedding = torch.load('doc_embedding.pt' , map_location=torch.device('cpu'))"
   ]
  },
  {
   "cell_type": "markdown",
   "id": "72fbaf1c-e8cd-4a2d-b1a8-94b349bbdb24",
   "metadata": {},
   "source": [
    "---"
   ]
  },
  {
   "cell_type": "markdown",
   "id": "bee033ad-4943-451b-a743-0d1ebdc01662",
   "metadata": {},
   "source": [
    "## Semantic search and TFIDF"
   ]
  },
  {
   "cell_type": "code",
   "execution_count": 12,
   "id": "c7a2ca48-232d-496c-adf2-41ca8b3de1b6",
   "metadata": {
    "execution": {
     "iopub.execute_input": "2024-08-07T04:55:07.553749Z",
     "iopub.status.busy": "2024-08-07T04:55:07.553489Z",
     "iopub.status.idle": "2024-08-07T04:55:07.558403Z",
     "shell.execute_reply": "2024-08-07T04:55:07.557812Z",
     "shell.execute_reply.started": "2024-08-07T04:55:07.553730Z"
    }
   },
   "outputs": [],
   "source": [
    "def semantic_search(query, top_k=3):\n",
    "    query_embedding = model.encode(preprocess_arabic_text(query) , convert_to_tensor=True)\n",
    "    \n",
    "    cosine_scores = cos_sim(query_embedding, embedding)[0]\n",
    "    \n",
    "    top_indices = np.argpartition(-cosine_scores.cpu().numpy(), range(top_k))[:top_k]\n",
    "    \n",
    "    print(f\"Query: {query}\\nTop {top_k} most similar documents:\")\n",
    "    for idx in top_indices:\n",
    "        print(f\"Document: {text[idx]}, Score: {cosine_scores[idx].item():.4f}\")"
   ]
  },
  {
   "cell_type": "markdown",
   "id": "884c1687-89e7-4ebe-a29e-b6cede25d45b",
   "metadata": {},
   "source": [
    "### `semantic_search` Function\n",
    "\n",
    "The `semantic_search` function performs a search to find the most similar documents to a given query based on semantic embeddings.\n",
    "\n",
    "1. **Encode Query**: The function starts by converting the preprocessed query into an embedding vector using a model. This embedding represents the semantic content of the query.\n",
    "\n",
    "2. **Compute Similarities**: It then calculates the cosine similarity between the query embedding and the embeddings of all documents. Cosine similarity measures how similar the query is to each document.\n",
    "\n",
    "3. **Identify Top-k Results**: The function identifies the top-k most similar documents by sorting the cosine similarity scores and selecting the top indices.\n",
    "\n",
    "4. **Display Results**: Finally, it prints the query and the top-k most similar documents along with their similarity scores. This helps in understanding which documents are most relevant to the query based on their semantic content.\n",
    "\n",
    "**Purpose**: This function is used to retrieve and rank documents that are semantically closest to a given query, facilitating effective information retrieval.\n"
   ]
  },
  {
   "cell_type": "code",
   "execution_count": 13,
   "id": "be175032-4c4f-423a-ab10-3770a3ad58a5",
   "metadata": {
    "execution": {
     "iopub.execute_input": "2024-08-07T04:55:09.082736Z",
     "iopub.status.busy": "2024-08-07T04:55:09.082468Z",
     "iopub.status.idle": "2024-08-07T04:55:24.040098Z",
     "shell.execute_reply": "2024-08-07T04:55:24.039410Z",
     "shell.execute_reply.started": "2024-08-07T04:55:09.082716Z"
    },
    "scrolled": true
   },
   "outputs": [
    {
     "name": "stdin",
     "output_type": "stream",
     "text": [
      "Enter your query (or type 'exit' to quit):  يساعد على تلبيه الاحتياجات\n"
     ]
    },
    {
     "name": "stdout",
     "output_type": "stream",
     "text": [
      "Query: يساعد على تلبيه الاحتياجات\n",
      "Top 3 most similar documents:\n",
      "Document: يساعدني علي سداد فواتيري, Score: 0.6929\n",
      "Document: التطبيق إلى قبل افضل, Score: 0.6752\n",
      "Document: ساعد أكثر, Score: 0.6697\n"
     ]
    },
    {
     "name": "stdin",
     "output_type": "stream",
     "text": [
      "Enter your query (or type 'exit' to quit):  يساعد على تلبيه \n"
     ]
    },
    {
     "name": "stdout",
     "output_type": "stream",
     "text": [
      "Query: يساعد على تلبيه \n",
      "Top 3 most similar documents:\n",
      "Document: كدبين ولاد كلب, Score: 0.7150\n",
      "Document: يساعد, Score: 0.7140\n",
      "Document: الحمد الله بدون دف, Score: 0.7004\n"
     ]
    },
    {
     "name": "stdin",
     "output_type": "stream",
     "text": [
      "Enter your query (or type 'exit' to quit):  q\n"
     ]
    }
   ],
   "source": [
    "while True:\n",
    "    user_query = input(\"Enter your query (or type 'exit' to quit): \")\n",
    "    if user_query == 'q':\n",
    "        break\n",
    "    semantic_search(user_query)"
   ]
  },
  {
   "cell_type": "markdown",
   "id": "fcbed2a0-c230-43f5-bd9e-47d27758abf8",
   "metadata": {},
   "source": [
    "---"
   ]
  },
  {
   "cell_type": "markdown",
   "id": "3186e10d-ceb4-44c3-93d3-be6eac5799ef",
   "metadata": {},
   "source": [
    "Converts text into numerical features that reflect term importance within the documents."
   ]
  },
  {
   "cell_type": "code",
   "execution_count": 14,
   "id": "b1b19042-ae4e-407f-b608-3bdab4d2b54c",
   "metadata": {
    "execution": {
     "iopub.execute_input": "2024-08-07T04:55:27.704868Z",
     "iopub.status.busy": "2024-08-07T04:55:27.704557Z",
     "iopub.status.idle": "2024-08-07T04:55:28.001891Z",
     "shell.execute_reply": "2024-08-07T04:55:28.001328Z",
     "shell.execute_reply.started": "2024-08-07T04:55:27.704848Z"
    }
   },
   "outputs": [],
   "source": [
    "tfidf_vectorizer = TfidfVectorizer()\n",
    "tfidf_matrix = tfidf_vectorizer.fit_transform(doc)"
   ]
  },
  {
   "cell_type": "code",
   "execution_count": 15,
   "id": "fddcf60d-dd7e-4c30-87d7-35ec30504c75",
   "metadata": {
    "execution": {
     "iopub.execute_input": "2024-08-07T04:55:28.623313Z",
     "iopub.status.busy": "2024-08-07T04:55:28.623041Z",
     "iopub.status.idle": "2024-08-07T04:55:28.628534Z",
     "shell.execute_reply": "2024-08-07T04:55:28.628015Z",
     "shell.execute_reply.started": "2024-08-07T04:55:28.623293Z"
    }
   },
   "outputs": [],
   "source": [
    "def hybrid_search(query, top_k=3, weight_st=.5, weight_tfidf=.5):\n",
    "    preprocessed_query = preprocess_arabic_text(query)\n",
    "    query_embedding = model.encode(preprocessed_query , convert_to_tensor=True)\n",
    "    \n",
    "    cosine_scores = cos_sim(query_embedding, embedding)[0]\n",
    "    \n",
    "    query_tfidf = tfidf_vectorizer.transform([preprocessed_query])\n",
    "    tfidf_similarities = cosine_similarity(query_tfidf, tfidf_matrix)[0]\n",
    "\n",
    "    combined_scores = (weight_st * cosine_scores.cpu().numpy() + weight_tfidf * tfidf_similarities) / (weight_st + weight_tfidf)\n",
    "    #normalize_scores = (combined_scores - np.min(combined_scores)) / (np.max(combined_scores) - np.min(combined_scores))\n",
    "\n",
    "    top_results = np.argpartition(-combined_scores, range(top_k))[:top_k]\n",
    "\n",
    "    print(f\"Query: {query}\\nTop {top_k} most similar documents:\")\n",
    "    for idx in top_results:\n",
    "        print(f\"Document: {text[idx]}, Combined Score: {combined_scores[idx]:.4f}\")\n"
   ]
  },
  {
   "cell_type": "markdown",
   "id": "86e72678-7fa6-4d86-aa22-00b5d1862464",
   "metadata": {},
   "source": [
    "### `hybrid_search` Function\n",
    "\n",
    "The `hybrid_search` function performs a semantic and TF-IDF based search to find the most relevant documents to a query.\n",
    "\n",
    "1. **Preprocess Query**: The query is preprocessed using `preprocess_arabic_text`.\n",
    "\n",
    "2. **Compute Semantic Similarity**:\n",
    "   - The preprocessed query is encoded into an embedding vector.\n",
    "   - Cosine similarity is computed between the query embedding and document embeddings.\n",
    "\n",
    "3. **Compute TF-IDF Similarity**:\n",
    "   - The query is transformed into a TF-IDF vector.\n",
    "   - Cosine similarity is calculated between the query's TF-IDF vector and the TF-IDF matrix of the documents.\n",
    "\n",
    "4. **Combine Scores**:\n",
    "   - The semantic and TF-IDF similarities are combined using weighted averages.\n",
    "   - **`weight_st`** and **`weight_tfidf`** determine the contribution of semantic and TF-IDF scores, respectively.\n",
    "\n",
    "5. **Identify Top Results**:\n",
    "   - The top-k documents are selected based on the combined scores.\n",
    "\n",
    "6. **Display Results**:\n",
    "   - The function prints the query and the top-k most similar documents along with their combined scores.\n",
    "\n",
    "**Purpose**: To retrieve documents that are most similar to the query by combining semantic and TF-IDF based similarities for improved relevance.\n"
   ]
  },
  {
   "cell_type": "code",
   "execution_count": 16,
   "id": "0023d528-e3fb-43c7-9be0-d43f6aef0a9b",
   "metadata": {
    "execution": {
     "iopub.execute_input": "2024-08-07T04:55:29.998099Z",
     "iopub.status.busy": "2024-08-07T04:55:29.997848Z",
     "iopub.status.idle": "2024-08-07T04:55:37.892306Z",
     "shell.execute_reply": "2024-08-07T04:55:37.891326Z",
     "shell.execute_reply.started": "2024-08-07T04:55:29.998079Z"
    },
    "scrolled": true
   },
   "outputs": [
    {
     "name": "stdin",
     "output_type": "stream",
     "text": [
      "Enter your query (or type 'exit' to quit):  يساعد على تلبيه الاحتياجات\n"
     ]
    },
    {
     "name": "stdout",
     "output_type": "stream",
     "text": [
      "Query: يساعد على تلبيه الاحتياجات\n",
      "Top 3 most similar documents:\n",
      "Document: برنامج رائع جدا يساعد على تلبيه الاحتياجات بشكل اسرع, Combined Score: 0.6480\n",
      "Document: يساعد, Combined Score: 0.5833\n",
      "Document: ساعد أكثر, Combined Score: 0.5286\n"
     ]
    },
    {
     "name": "stdin",
     "output_type": "stream",
     "text": [
      "Enter your query (or type 'exit' to quit):  يساعد على تلبيه \n"
     ]
    },
    {
     "name": "stdout",
     "output_type": "stream",
     "text": [
      "Query: يساعد على تلبيه \n",
      "Top 3 most similar documents:\n",
      "Document: يساعد, Combined Score: 0.6789\n",
      "Document: الب, Combined Score: 0.6560\n",
      "Document: كلب, Combined Score: 0.6560\n"
     ]
    },
    {
     "name": "stdin",
     "output_type": "stream",
     "text": [
      "Enter your query (or type 'exit' to quit):  q\n"
     ]
    }
   ],
   "source": [
    "while True:\n",
    "    user_query = input(\"Enter your query (or type 'exit' to quit): \")\n",
    "    if user_query == 'q':\n",
    "        break\n",
    "    hybrid_search(user_query)"
   ]
  },
  {
   "cell_type": "markdown",
   "id": "cb5ee112-dd2a-44ae-a6b3-41f853512024",
   "metadata": {},
   "source": [
    "---"
   ]
  },
  {
   "cell_type": "markdown",
   "id": "c8a3c470-5b3d-41a4-955c-57b3053d7dfd",
   "metadata": {},
   "source": [
    "## Faiss"
   ]
  },
  {
   "cell_type": "code",
   "execution_count": 17,
   "id": "413093a7-dc18-4eeb-994c-3f303a4fe140",
   "metadata": {
    "execution": {
     "iopub.execute_input": "2024-08-07T04:55:41.650243Z",
     "iopub.status.busy": "2024-08-07T04:55:41.649991Z",
     "iopub.status.idle": "2024-08-07T04:55:41.653998Z",
     "shell.execute_reply": "2024-08-07T04:55:41.653540Z",
     "shell.execute_reply.started": "2024-08-07T04:55:41.650224Z"
    }
   },
   "outputs": [
    {
     "data": {
      "text/plain": [
       "faiss.swigfaiss_avx2.Index"
      ]
     },
     "execution_count": 17,
     "metadata": {},
     "output_type": "execute_result"
    }
   ],
   "source": [
    "faiss.Index"
   ]
  },
  {
   "cell_type": "code",
   "execution_count": 18,
   "id": "a9ee4581-b3bd-48e6-8b5d-c5b51dac77b7",
   "metadata": {
    "execution": {
     "iopub.execute_input": "2024-08-07T04:55:42.373566Z",
     "iopub.status.busy": "2024-08-07T04:55:42.373141Z",
     "iopub.status.idle": "2024-08-07T04:55:42.383121Z",
     "shell.execute_reply": "2024-08-07T04:55:42.382519Z",
     "shell.execute_reply.started": "2024-08-07T04:55:42.373546Z"
    },
    "scrolled": true
   },
   "outputs": [
    {
     "name": "stdout",
     "output_type": "stream",
     "text": [
      "كثير العلانات على فاضي طورو حالكم\n",
      "ثير علان على ضي طور حال\n",
      "tensor([-3.1479e-02, -5.7117e-01,  3.1469e-01, -1.1622e-01,  8.7758e-02,\n",
      "        -1.6345e-01, -3.2968e-01,  5.8213e-01,  1.1912e-01,  3.6421e-01,\n",
      "        -7.7369e-01, -1.6374e-02,  3.5413e-01,  3.7312e-01, -6.4841e-01,\n",
      "         4.4944e-01, -1.8668e-01, -2.9280e-01, -2.0952e-01,  3.6817e-01,\n",
      "        -2.4352e-01, -4.6627e-01, -1.2433e+00, -4.9719e-01, -1.0315e+00,\n",
      "         3.0023e-01,  2.0854e-01,  3.5614e-01,  1.3048e+00,  7.0860e-02,\n",
      "         3.4594e-01, -2.4703e-03,  3.0673e-01, -9.1111e-01, -5.8031e-01,\n",
      "         1.2260e-01,  8.2773e-01,  2.4389e-01,  3.9348e-01, -2.7214e-01,\n",
      "         2.5922e-01,  6.0404e-01, -8.6121e-02, -3.7856e-01, -1.2655e-01,\n",
      "         5.8635e-01, -2.7992e-02,  5.2387e-01, -2.2740e-01, -4.9450e-01,\n",
      "         3.6209e-01,  9.4444e-02,  2.7760e-02, -1.3656e+00, -3.1027e-01,\n",
      "        -9.1427e-01, -2.8379e-01,  9.4310e-01,  3.2024e-01, -1.5282e-01,\n",
      "         1.6006e-01,  7.0945e-01,  7.0040e-01,  5.6697e-02, -1.6543e+00,\n",
      "         8.7593e-02, -7.0257e-01, -3.7357e-01,  7.6106e-02, -7.1175e-01,\n",
      "        -5.4520e-01, -1.4775e-02, -1.1320e+00,  4.5458e-01, -2.2088e-02,\n",
      "        -2.6486e-01,  4.3203e-01, -1.6668e-01,  6.0143e-01, -8.0821e-01,\n",
      "         4.7074e-01, -9.1703e-01,  2.3939e-01,  1.3543e+00,  1.4392e-01,\n",
      "        -4.7287e-01,  4.0377e-02,  1.1319e+00, -2.2333e-01, -1.5574e-01,\n",
      "        -5.9400e-01,  8.8406e-01, -4.0559e-01,  9.2956e-01, -5.0510e-01,\n",
      "        -2.1046e-01, -9.3224e-03, -1.9977e-02,  6.8517e-01, -1.1804e+00,\n",
      "         5.9910e-01, -9.5920e-01, -3.7493e-01,  5.6414e-01, -7.9772e-02,\n",
      "         2.1046e-01,  5.2762e-01, -3.8191e-02, -3.8431e-01,  1.1431e-01,\n",
      "        -5.4702e-01,  2.4737e-01,  6.5726e-01, -1.2927e+00, -3.5286e-01,\n",
      "        -3.4443e-01,  9.3727e-01,  1.5320e-01,  4.0928e-01,  3.5397e-01,\n",
      "        -1.8608e-01, -4.3553e-01,  3.7479e-01, -2.8843e-01,  3.3014e-01,\n",
      "         3.4399e-01, -1.2007e-01,  9.3951e-02,  1.0664e+00,  2.5780e-01,\n",
      "        -3.4903e-01,  1.1154e-01,  4.5066e-01, -5.4902e-01, -3.9926e-01,\n",
      "        -1.6600e+00,  1.7939e-01,  4.4681e-01, -3.9048e-01,  2.4050e-01,\n",
      "        -1.0130e+00, -4.4491e-01,  1.2591e-01,  1.4136e+00, -7.3674e-01,\n",
      "        -3.8992e-01,  2.1582e-01,  9.3948e-01, -1.5538e-01, -9.3088e-01,\n",
      "         1.0199e+00, -8.7997e-01,  1.6597e+00, -4.0978e-01, -1.4945e-03,\n",
      "        -1.3795e-01, -8.0770e-02, -2.2405e-01, -1.0201e+00, -1.5377e-01,\n",
      "         7.1437e-01, -1.6828e-01,  2.0666e-01, -2.8557e-01,  6.3671e-01,\n",
      "        -2.9668e-02, -1.2078e-01, -2.6634e-01,  7.9016e-02,  1.5259e-01,\n",
      "        -2.9740e-01,  1.4726e-01, -4.3417e-02, -2.6705e-02,  1.0702e+00,\n",
      "         2.8424e-01, -5.4142e-01, -1.7619e-01,  4.7331e-01, -1.7998e-03,\n",
      "        -1.9780e-01,  5.4821e-01, -4.5893e-01, -2.3604e-01, -2.3224e-01,\n",
      "         2.8907e-01, -2.6969e-01,  2.8410e-01,  1.5164e-01, -3.6349e-01,\n",
      "        -5.6964e-01,  4.9072e-02,  1.0047e+00, -1.4818e+00, -6.7063e-02,\n",
      "         1.3993e+00,  3.8383e-01,  1.9386e-01, -6.1903e-01, -1.0650e-01,\n",
      "         6.5584e-01, -9.9187e-02, -3.3717e-01,  1.1896e-01,  1.9498e-02,\n",
      "        -1.0595e-01,  1.2268e+00,  5.3694e-02, -5.8503e-01,  6.9932e-01,\n",
      "         8.6819e-02,  7.5458e-01, -4.9288e-01,  1.5391e-01,  2.7196e-01,\n",
      "         1.7288e-01, -3.6204e-01,  8.7351e-01,  4.9257e-01, -6.0987e-01,\n",
      "         1.0057e+00, -9.1912e-01,  7.3139e-01, -6.1173e-01, -3.7059e-01,\n",
      "         6.7936e-01,  5.3799e-01, -4.1804e-02, -2.1599e-02, -6.4886e-01,\n",
      "         5.9247e-01,  7.4224e-01, -5.9288e-01,  6.1051e-01, -6.2413e-01,\n",
      "        -1.1528e+00,  1.1844e+00, -2.7175e-01, -3.3716e-01, -1.8666e+00,\n",
      "         1.0355e+00, -1.8790e-02, -1.7274e-01, -3.0100e-01, -5.3356e-02,\n",
      "        -1.3304e-01, -3.2512e-01, -1.1879e+00, -2.9542e-01,  9.8335e-01,\n",
      "        -7.5396e-01,  2.2272e-01,  2.2934e-01, -2.6348e-01, -3.2666e-01,\n",
      "         2.4880e-01,  9.8071e-01,  5.4172e-01, -4.6855e-01, -7.5873e-01,\n",
      "        -2.7718e-01, -1.1035e-01, -3.7824e-01, -2.1095e-01, -3.5089e-01,\n",
      "        -1.4984e-01,  1.0157e+00, -6.4843e-01,  7.2564e-01,  6.2726e-02,\n",
      "        -5.0060e-01,  3.6819e-01, -5.5113e-01,  3.6182e-02, -7.2829e-01,\n",
      "         5.0590e-01, -3.1075e-01, -5.7116e-01,  8.2529e-01, -9.9336e-02,\n",
      "        -1.3735e-02,  1.1348e-01,  5.9497e-01,  5.6768e-01, -2.6877e-01,\n",
      "         8.2598e-01, -2.6156e-01,  8.9954e-02,  1.3273e-01,  5.0488e-01,\n",
      "        -1.0656e-01,  9.8210e-01, -2.5413e-01,  7.3424e-01,  4.4257e-01,\n",
      "        -3.1928e-01,  5.4785e-01,  8.6508e-01,  9.0039e-01,  2.4196e-01,\n",
      "         1.4516e-01,  1.7814e-01,  4.1646e-01,  8.8514e-02,  6.8231e-02,\n",
      "         1.1420e+00,  1.1862e+00, -4.1893e-01,  3.8271e-01,  3.2253e-01,\n",
      "         3.2649e-01, -2.5377e-01, -1.6700e-01,  1.3558e+00, -2.9403e-01,\n",
      "         7.2032e-01, -3.4727e-01,  1.9586e-01,  9.2886e-01,  4.9322e-01,\n",
      "         7.5507e-02,  3.8545e-02, -4.2939e-02, -5.5153e-01,  6.6883e-01,\n",
      "        -3.2801e-01, -2.6053e-01,  1.0540e-01, -4.4207e-02, -1.2442e-01,\n",
      "        -2.3949e-01,  4.1116e-01, -6.8208e-01, -3.1737e-01, -2.2283e-02,\n",
      "         3.2137e-01, -9.2532e-01,  8.1508e-02,  1.2979e-01,  1.1907e-01,\n",
      "        -6.0356e-01,  6.2627e-01, -4.4892e-01,  9.6835e-02,  5.4386e-01,\n",
      "        -2.0293e-01,  5.6498e-01,  1.1641e+00, -6.0405e-01, -1.1361e-01,\n",
      "         7.1638e-01, -1.1462e+00, -4.8476e-01,  3.6243e-01, -1.5266e-02,\n",
      "        -5.1514e-01, -1.1572e+00, -2.6020e-01, -1.6632e-01,  9.2686e-01,\n",
      "         2.5979e-01, -3.0389e-01,  2.6587e-01, -4.1665e-02,  1.3379e+00,\n",
      "         6.6216e-01,  8.1396e-01,  1.5950e+00,  7.5839e-01,  1.0801e+00,\n",
      "         4.3610e-01, -4.8085e-01,  1.4740e-01, -1.4311e-01, -4.6136e-01,\n",
      "         1.0896e-01,  8.8980e-02, -9.6914e-01,  1.0747e-02, -7.4533e-01,\n",
      "        -3.5353e-01, -1.5601e-01,  5.0765e-01,  2.2665e-01,  2.0897e-01,\n",
      "         1.3175e-01,  5.4414e-01, -1.6484e-01, -2.3974e-01,  2.0073e-01,\n",
      "         3.6389e-01, -2.2451e+00, -6.7750e-01, -1.4501e+00,  4.4392e-01,\n",
      "        -2.2873e-01,  1.7739e-01,  5.0839e-01,  4.1360e-01,  6.6928e-03,\n",
      "         1.5004e-01, -4.8880e-03, -4.8149e-01,  8.3947e-01, -1.0042e-02,\n",
      "         4.5547e-01, -7.6922e-01, -9.2006e-01, -1.9462e-01, -9.2428e-01,\n",
      "        -3.0990e-01,  4.8843e-01,  2.3589e-01, -5.8040e-02, -7.4365e-01,\n",
      "        -4.2874e-01,  1.5226e-01,  2.1930e-01,  6.2785e-01, -8.7500e-02,\n",
      "         1.3664e-01,  6.3934e-01, -2.3493e-01, -4.9660e-01, -2.4449e-01,\n",
      "        -1.1996e+00, -1.2460e-01,  1.7524e-02,  1.6078e-02, -3.1832e-01,\n",
      "         2.2936e-01, -2.9660e-01,  2.0687e-01,  3.4920e-01, -6.2574e-01,\n",
      "         1.5283e-01, -7.1604e-01,  3.3262e-01,  1.3357e+00, -5.0487e-01,\n",
      "        -2.0531e-01,  5.5161e-01,  5.0043e-01, -7.3311e-01, -2.6022e-01,\n",
      "        -6.7531e-01, -4.9037e-01, -1.2275e-02, -4.1383e-01,  3.4544e-01,\n",
      "         2.1144e-01, -2.2797e-02,  1.6483e-01,  3.4078e-01, -3.1013e-01,\n",
      "        -7.8859e-01, -9.0166e-01,  2.8597e-01,  1.3557e+00,  1.1910e+00,\n",
      "        -4.5266e-01,  2.7114e-01, -7.6098e-02,  2.7871e-02, -8.1582e-01,\n",
      "        -8.9095e-01, -3.2833e-02, -3.1732e-01, -8.8734e-01,  8.2677e-02,\n",
      "         4.6692e-01,  1.8360e-01, -9.9190e-01,  1.0878e+00,  7.9330e-01,\n",
      "        -5.9236e-02,  5.9120e-01, -2.4863e-01, -6.2402e-02,  3.2878e-02,\n",
      "        -2.8436e-01,  8.9111e-02,  1.7908e-01, -2.1563e-01,  1.1393e+00,\n",
      "        -4.1285e-01,  9.3699e-01, -1.1224e-01,  2.1426e-02, -6.2261e-01,\n",
      "         5.5637e-01, -1.1589e+00,  1.3895e-01, -2.2532e-01, -2.7434e-01,\n",
      "         2.9515e-01, -4.6030e-01, -4.5454e-02,  7.7983e-01,  4.0062e-01,\n",
      "        -6.3418e-01,  3.0156e-01,  8.6572e-02, -1.0027e-01, -2.6466e-01,\n",
      "         2.2898e-01,  3.2415e-01, -4.3748e-01,  6.5560e-02,  4.1426e-01,\n",
      "         7.8627e-01, -5.6052e-01,  2.2782e-01,  1.8440e-01,  1.9058e+00,\n",
      "        -1.7564e-01, -8.8065e-02, -5.6248e-01, -2.7323e-01,  3.5400e-01,\n",
      "        -1.0407e+00, -9.4832e-02, -1.0079e+00,  2.0077e-01,  7.8315e-01,\n",
      "         1.2012e-02, -3.4471e-01, -1.1421e+00, -1.1670e+00,  1.1479e+00,\n",
      "         1.1257e+00,  3.1920e-01, -6.8649e-01, -9.6341e-01, -1.3004e+00,\n",
      "        -1.1015e+00,  4.5889e-01, -1.1570e-01,  8.6929e-01, -5.6201e-01,\n",
      "        -1.7536e+00,  7.5031e-02,  8.9685e-01, -2.0044e-01, -1.0101e-02,\n",
      "        -1.6608e-01, -4.7585e-02, -6.6847e-02,  4.5309e-01, -4.7156e-02,\n",
      "         8.0334e-02, -1.6138e+00, -5.8638e-01,  9.2817e-01,  1.3034e+00,\n",
      "        -4.0550e-01, -3.5829e-01,  3.1117e-01,  6.4016e-01,  1.0583e+00,\n",
      "         1.3154e-02,  1.9472e-01,  2.4907e-01,  8.4247e-01, -2.2967e-01,\n",
      "         1.1529e-01, -1.8849e-01, -4.9562e-01, -4.5676e-01, -5.1440e-01,\n",
      "         2.3378e-01, -7.2985e-02, -5.3159e-02,  5.0780e-02, -7.9209e-01,\n",
      "        -7.3469e-01, -2.2815e-01,  5.4697e-02,  1.7114e-01, -9.4738e-01,\n",
      "         2.8542e-03, -1.4749e+00,  6.8638e-02, -4.4450e-01, -1.6442e-02,\n",
      "        -1.1006e-01, -1.6795e-01,  2.0613e-01, -1.9952e+00,  5.3318e-01,\n",
      "        -7.2451e-01, -6.1900e-01, -9.2997e-01, -1.1736e+00, -7.5188e-02,\n",
      "        -1.8305e-01, -5.6838e-02,  7.4347e-01, -2.7746e-01, -4.9710e-02,\n",
      "         9.3875e-01, -1.4410e-01, -8.0246e-01, -1.0578e+00, -4.0300e-01,\n",
      "         5.0611e-02,  2.2276e-01, -1.0801e-02, -4.0473e-01,  2.8463e-01,\n",
      "         2.4417e-01, -7.0230e-01, -6.5829e-01,  1.2329e+00, -9.0317e-01,\n",
      "         5.3356e-01,  4.4611e-01, -9.4082e-02,  1.0355e-01, -2.2590e-01,\n",
      "         6.2833e-01,  2.7589e-01, -8.8814e-01,  4.4910e-01,  5.4069e-01,\n",
      "        -1.9212e-01, -4.5442e-01,  6.0773e-01, -6.4710e-01, -9.8874e-01,\n",
      "         9.4470e-01, -4.9066e-02,  8.8005e-01,  1.0456e-01,  2.0365e-01,\n",
      "        -3.7303e-01, -3.1025e-01,  4.8350e-01, -1.0637e-01,  2.9582e-01,\n",
      "        -1.6064e+00,  5.2730e-01,  7.4437e-01,  2.5491e-01, -4.7154e-01,\n",
      "        -1.4482e+00,  9.4869e-02, -2.5045e-01,  9.7430e-01,  5.9683e-01,\n",
      "         2.5605e-04, -5.0186e-01, -1.6680e-01,  1.2715e-01,  7.0430e-01,\n",
      "        -8.3295e-01, -1.0005e-01, -2.7172e-01,  7.4343e-01, -7.7436e-02,\n",
      "         5.9657e-01,  1.8564e-01, -7.3104e-02,  2.6557e-01, -3.3602e-01,\n",
      "         5.4133e-02, -9.6387e-01, -7.1829e-01, -1.0107e+00, -3.9573e-01,\n",
      "         9.2110e-01,  4.2480e-01,  5.3857e-01,  1.1554e-01, -2.7128e-01,\n",
      "         1.0973e-01,  1.6713e-01,  7.6529e-01,  1.8934e-01,  4.8504e-01,\n",
      "         1.6921e-02, -3.2502e-01, -3.2521e-01, -1.4849e-01,  1.0389e+00,\n",
      "         5.1598e-02,  3.3809e-01,  6.4952e-01,  2.1210e-01,  3.1614e-01,\n",
      "         9.0678e-01,  6.4416e-02, -4.0165e-02, -8.0680e-01, -2.0978e-01,\n",
      "        -4.2418e-02,  1.6307e-01, -6.3956e-01, -3.3372e-01, -9.8775e-01,\n",
      "        -3.0033e-01, -5.6126e-01, -1.2225e-02, -6.0606e-01,  2.4081e-01,\n",
      "         9.1506e-01, -3.0866e-01, -5.3399e-01, -2.1197e-01, -7.5257e-02,\n",
      "        -1.0276e+00,  3.3132e-01,  8.3386e-03,  1.4683e-01, -3.7561e-01,\n",
      "         4.4701e-01, -1.5643e-01, -9.0379e-01, -2.6550e-01, -9.0155e-02,\n",
      "        -5.6894e-01, -2.9033e-01,  7.1006e-01,  2.8544e-01,  1.1986e-01,\n",
      "        -5.8088e-01,  3.6937e-01,  1.7234e-01, -7.0001e-01,  6.9252e-01,\n",
      "         8.2918e-01,  1.4760e+00,  6.1286e-01,  4.8468e-01, -2.1021e-01,\n",
      "        -6.9855e-02,  9.9571e-01,  4.3276e-01,  5.3879e-01,  4.0032e-01,\n",
      "        -1.8499e-01,  8.4745e-01, -1.0323e-01,  2.4630e-01, -1.0290e-01,\n",
      "         1.2116e-01, -4.1392e-02,  2.5588e-01,  5.8711e-01, -6.0748e-01,\n",
      "         2.0858e-01, -3.0494e-01, -5.9425e-01, -4.1307e-01,  1.5414e-01,\n",
      "         5.6969e-02, -1.5584e-01,  3.2329e-01,  5.2596e-02, -8.9767e-02,\n",
      "        -5.2358e-02, -3.8511e-01, -1.8185e-01,  3.9218e-01,  4.0983e-01,\n",
      "         2.2018e-01,  2.2988e-01, -1.1562e+00])\n"
     ]
    }
   ],
   "source": [
    "print(text[84])\n",
    "print(doc[84])\n",
    "print(embedding[84])"
   ]
  },
  {
   "cell_type": "markdown",
   "id": "e6cb2cbb-e80a-4285-8c5f-dbb8b7e137d3",
   "metadata": {},
   "source": [
    "- **Dimension**:\n",
    "  - `dimension = embedding.shape[1]` extracts the dimensionality of the embeddings. This is the number of features each embedding has.\n",
    "\n",
    "- **Initialize FAISS Index**:\n",
    "  - `index = faiss.IndexFlatL2(dimension)` creates a FAISS index for L2 (Euclidean) distance search.\n",
    "    - **`faiss.IndexFlatL2`**: An index type in FAISS that performs exact nearest neighbor search using L2 distance.\n",
    "    - **`dimension`**: Specifies the number of dimensions in the embeddings.\n",
    "\n",
    "**Purpose**: To create an index structure that enables efficient nearest neighbor searches based on L2 distance, suitable for similarity searches and clustering."
   ]
  },
  {
   "cell_type": "code",
   "execution_count": 19,
   "id": "8b426617-660b-4242-a062-4e34c2284a08",
   "metadata": {
    "execution": {
     "iopub.execute_input": "2024-08-07T04:55:43.925297Z",
     "iopub.status.busy": "2024-08-07T04:55:43.924944Z",
     "iopub.status.idle": "2024-08-07T04:55:43.928825Z",
     "shell.execute_reply": "2024-08-07T04:55:43.928275Z",
     "shell.execute_reply.started": "2024-08-07T04:55:43.925277Z"
    }
   },
   "outputs": [],
   "source": [
    "dimension = embedding.shape[1]\n",
    "index = faiss.IndexFlatL2(dimension)"
   ]
  },
  {
   "cell_type": "markdown",
   "id": "fd7f77b0-8676-49bc-8f5b-611fb101ec5e",
   "metadata": {},
   "source": [
    "### L2 Distance (Euclidean Distance)\n",
    "\n",
    "- **Definition**: L2 distance, also known as Euclidean distance, measures the straight-line distance between two points in a multi-dimensional space.\n",
    "\n",
    "- **Formula**: For two points $$( \\mathbf{x} ) and ( \\mathbf{y} )$$ in an n-dimensional space, the L2 distance is calculated as:\n",
    "  $$\n",
    "  \\text{L2 Distance} = \\sqrt{\\sum_{i=1}^{n} (x_i - y_i)^2}\n",
    "  $$\n",
    "  where $$ ( x_i ) and ( y_i )$$ are the coordinates of the points in the i-th dimension.\n",
    "\n",
    "- **Characteristics**:\n",
    "  - **Euclidean Geometry**: It is the most familiar distance metric, akin to measuring distance with a ruler.\n",
    "  - **Sensitivity**: It is sensitive to the magnitude of differences, meaning it considers the exact distance between points.\n",
    "\n",
    "- **Use Cases**:\n",
    "  - Commonly used in clustering algorithms, nearest neighbor searches, and many machine learning algorithms where spatial relationships are important.\n",
    "\n",
    "**Purpose**: To quantify the similarity or dissimilarity between vectors based on their spatial distance in a multi-dimensional feature space.\n"
   ]
  },
  {
   "cell_type": "markdown",
   "id": "22ca6497-444c-4464-bd29-ecd91472d5ef",
   "metadata": {},
   "source": [
    "The `is_trained` attribute of a FAISS index indicates whether the index has been trained or not."
   ]
  },
  {
   "cell_type": "code",
   "execution_count": 20,
   "id": "29a7aa00-3e1c-4841-b94e-c4d5f0dd4e95",
   "metadata": {
    "execution": {
     "iopub.execute_input": "2024-08-07T04:55:45.521059Z",
     "iopub.status.busy": "2024-08-07T04:55:45.520715Z",
     "iopub.status.idle": "2024-08-07T04:55:45.524681Z",
     "shell.execute_reply": "2024-08-07T04:55:45.524221Z",
     "shell.execute_reply.started": "2024-08-07T04:55:45.521031Z"
    }
   },
   "outputs": [
    {
     "data": {
      "text/plain": [
       "True"
      ]
     },
     "execution_count": 20,
     "metadata": {},
     "output_type": "execute_result"
    }
   ],
   "source": [
    "index.is_trained"
   ]
  },
  {
   "cell_type": "markdown",
   "id": "2b045429-e129-4114-8f9e-0c232b2fcb4d",
   "metadata": {},
   "source": [
    "The `index.add(embedding)` method adds vectors (embeddings) to a FAISS index.\n",
    "\n",
    "- **Purpose**:\n",
    "  - **Index Population**: This method is used to populate the index with the vectors you want to search. It stores these vectors so that you can later query the index for nearest neighbors.\n"
   ]
  },
  {
   "cell_type": "markdown",
   "id": "b4cf98d3-c58f-45d2-9d94-618565eba425",
   "metadata": {
    "execution": {
     "iopub.execute_input": "2024-08-07T04:04:12.928509Z",
     "iopub.status.busy": "2024-08-07T04:04:12.927892Z",
     "iopub.status.idle": "2024-08-07T04:04:12.932202Z",
     "shell.execute_reply": "2024-08-07T04:04:12.931327Z",
     "shell.execute_reply.started": "2024-08-07T04:04:12.928488Z"
    }
   },
   "source": [
    "- **Note**:\n",
    "  - Ensure that the dimensions of `embedding` match the dimensionality of the FAISS index.m"
   ]
  },
  {
   "cell_type": "code",
   "execution_count": 21,
   "id": "ceed0a0a-baa0-42dd-b005-8f527976678f",
   "metadata": {
    "execution": {
     "iopub.execute_input": "2024-08-07T04:55:47.057341Z",
     "iopub.status.busy": "2024-08-07T04:55:47.056879Z",
     "iopub.status.idle": "2024-08-07T04:55:47.134847Z",
     "shell.execute_reply": "2024-08-07T04:55:47.134299Z",
     "shell.execute_reply.started": "2024-08-07T04:55:47.057303Z"
    }
   },
   "outputs": [],
   "source": [
    "index.add(embedding)"
   ]
  },
  {
   "cell_type": "markdown",
   "id": "6fba0d16-810d-4aff-ad18-ebdda91fd850",
   "metadata": {},
   "source": [
    "To check if vectors have been successfully added to the index, you can compare the value of `index.ntotal` before and after adding vectors."
   ]
  },
  {
   "cell_type": "code",
   "execution_count": 22,
   "id": "d8e5c2af-fac5-4786-8f5d-53551b45c9e3",
   "metadata": {
    "execution": {
     "iopub.execute_input": "2024-08-07T04:55:48.744833Z",
     "iopub.status.busy": "2024-08-07T04:55:48.744523Z",
     "iopub.status.idle": "2024-08-07T04:55:48.749132Z",
     "shell.execute_reply": "2024-08-07T04:55:48.748627Z",
     "shell.execute_reply.started": "2024-08-07T04:55:48.744814Z"
    }
   },
   "outputs": [
    {
     "data": {
      "text/plain": [
       "40046"
      ]
     },
     "execution_count": 22,
     "metadata": {},
     "output_type": "execute_result"
    }
   ],
   "source": [
    "index.ntotal"
   ]
  },
  {
   "cell_type": "code",
   "execution_count": 23,
   "id": "9026118e-4aac-4c01-9ddd-5c540b0ab338",
   "metadata": {
    "execution": {
     "iopub.execute_input": "2024-08-07T04:55:51.933243Z",
     "iopub.status.busy": "2024-08-07T04:55:51.932967Z",
     "iopub.status.idle": "2024-08-07T04:55:51.937892Z",
     "shell.execute_reply": "2024-08-07T04:55:51.937318Z",
     "shell.execute_reply.started": "2024-08-07T04:55:51.933224Z"
    }
   },
   "outputs": [],
   "source": [
    "def first_faiss(query, k=10):\n",
    "        preprocessed_query = preprocess_arabic_text(query)        \n",
    "        query_embedding = model.encode(preprocessed_query, convert_to_tensor=True).unsqueeze(0).numpy()\n",
    "        \n",
    "        D, I = index.search(query_embedding, k)\n",
    "        \n",
    "        results = [f'{i}: {text[idx]}' for idx, i in enumerate(I[0]) if idx < len(text)]\n",
    "        \n",
    "        for result in results:\n",
    "            print(result)\n",
    "        \n",
    "        return results"
   ]
  },
  {
   "cell_type": "markdown",
   "id": "12a9008a-90e7-4768-b2b2-ecd5fb816c3a",
   "metadata": {},
   "source": [
    "### `first_faiss` Function\n",
    "\n",
    "The `first_faiss` function performs a search using a FAISS index to find the most similar documents to a given query.\n",
    "\n",
    "1. **Preprocess Query**:\n",
    "   - The query is preprocessed using `preprocess_arabic_text` to clean and prepare it for embedding.\n",
    "\n",
    "2. **Generate Query Embedding**:\n",
    "   - The preprocessed query is converted into an embedding vector using the model. The embedding is then reshaped and converted to a NumPy array.\n",
    "\n",
    "3. **Search the FAISS Index**:\n",
    "   - `index.search(query_embedding, k)` performs a search in the FAISS index to find the top `k` most similar documents.\n",
    "     - **`D`**: Distances of the nearest neighbors.\n",
    "     - **`I`**: Indices of the nearest neighbors.\n",
    "\n",
    "**Purpose**: To find and display the top `k` most similar documents to the query using FAISS for efficient nearest neighbor search.\n"
   ]
  },
  {
   "cell_type": "code",
   "execution_count": 24,
   "id": "fc27811e-d86c-4868-8642-5f67cd72effe",
   "metadata": {
    "execution": {
     "iopub.execute_input": "2024-08-07T04:55:53.214508Z",
     "iopub.status.busy": "2024-08-07T04:55:53.214229Z",
     "iopub.status.idle": "2024-08-07T04:55:56.946348Z",
     "shell.execute_reply": "2024-08-07T04:55:56.945599Z",
     "shell.execute_reply.started": "2024-08-07T04:55:53.214482Z"
    }
   },
   "outputs": [
    {
     "name": "stdin",
     "output_type": "stream",
     "text": [
      "Enter your query (or type 'q' to quit):  يساعد على تلبيه الاحتياجات\n"
     ]
    },
    {
     "name": "stdout",
     "output_type": "stream",
     "text": [
      "38305: رائع\n",
      "19573: برنامج رائع جدا يساعد على تلبيه الاحتياجات بشكل اسرع\n",
      "28545: التطبيق لا يغتح دائما بيعطيني لا يوجد اتصال بالشبكة..مع انه النت عندي تمام شو الحل??\n",
      "12515: لماذا لا يمكننا طلب من ماكدونالدز؟\n",
      "11068: البرنامج بيظهر كل المطاعم و مغلقه مع انها بتكون فاتحه بقاله كده اكتر من شهر\n",
      "38347: أصبح غالي جداً\n",
      "15357: جميل جدا رائع. . .\n",
      "31381: للأسف الواحد ينصدم بعد زيادة الاسعار و للاسف بعض المطاعم اصبحت معاملتهم رديئة\n",
      "18475: برنامج توترز توصيل احلى من برنامجكم فاشل\n",
      "25478: كتير في تحسن خدمة العملاء لطفين في بعض الاخطاء التقنية لكن بتصلحوها بسرعة وبعض التاخير سياسيتكم وتسويقكم صار افضل من كريم بالنسبة الي متفقين\n"
     ]
    },
    {
     "name": "stdin",
     "output_type": "stream",
     "text": [
      "Enter your query (or type 'q' to quit):  q\n"
     ]
    }
   ],
   "source": [
    "while True:\n",
    "    user_query = input(\"Enter your query (or type 'q' to quit): \")\n",
    "    if user_query.lower() == 'q':\n",
    "        break\n",
    "    first_faiss(user_query)"
   ]
  },
  {
   "cell_type": "code",
   "execution_count": 25,
   "id": "0679a4ea-af1f-4695-a0f5-ed81fc0955a7",
   "metadata": {
    "execution": {
     "iopub.execute_input": "2024-08-07T04:56:01.414189Z",
     "iopub.status.busy": "2024-08-07T04:56:01.413939Z",
     "iopub.status.idle": "2024-08-07T04:56:01.428697Z",
     "shell.execute_reply": "2024-08-07T04:56:01.428031Z",
     "shell.execute_reply.started": "2024-08-07T04:56:01.414170Z"
    }
   },
   "outputs": [],
   "source": [
    "nlist = 100\n",
    "quantizer = faiss.IndexFlatL2(dimension)\n",
    "index = faiss.IndexIVFFlat(quantizer, dimension, nlist)"
   ]
  },
  {
   "cell_type": "markdown",
   "id": "306a517e-5718-4997-befe-37a54d5effe6",
   "metadata": {},
   "source": [
    "### Creating an IVF FAISS Index\n",
    "\n",
    "- **Number of Lists**:\n",
    "  - `nlist = 100` sets the number of clusters or lists in the IVF index. This value determines how many partitions the data is divided into for searching.\n",
    "\n",
    "- **Quantizer**:\n",
    "  - `quantizer = faiss.IndexFlatL2(dimension)` creates a quantizer using L2 distance. This index type is used to partition the space and perform efficient search within each partition.\n",
    "\n",
    "- **Index Initialization**:\n",
    "  - `index = faiss.IndexIVFFlat(quantizer, dimension, nlist)` creates an IVF index with a flat quantizer.\n",
    "    - **`quantizer`**: The indexing structure used to partition the space.\n",
    "    - **`dimension`**: The dimensionality of the vectors.\n",
    "    - **`nlist`**: The number of partitions or clusters in the index.\n",
    "\n",
    "**Purpose**: To create an IVF index that partitions data into multiple lists for efficient nearest neighbor searches, improving search speed and scalability compared to a flat index.\n"
   ]
  },
  {
   "cell_type": "code",
   "execution_count": 26,
   "id": "fd27d36a-a571-4390-952c-55b1a45c1f48",
   "metadata": {
    "execution": {
     "iopub.execute_input": "2024-08-07T04:56:02.380283Z",
     "iopub.status.busy": "2024-08-07T04:56:02.380036Z",
     "iopub.status.idle": "2024-08-07T04:56:02.384825Z",
     "shell.execute_reply": "2024-08-07T04:56:02.384231Z",
     "shell.execute_reply.started": "2024-08-07T04:56:02.380264Z"
    }
   },
   "outputs": [
    {
     "data": {
      "text/plain": [
       "False"
      ]
     },
     "execution_count": 26,
     "metadata": {},
     "output_type": "execute_result"
    }
   ],
   "source": [
    "index.is_trained"
   ]
  },
  {
   "cell_type": "code",
   "execution_count": 27,
   "id": "bde08dc4-f714-491c-b343-516724bb9435",
   "metadata": {
    "execution": {
     "iopub.execute_input": "2024-08-07T04:56:02.884528Z",
     "iopub.status.busy": "2024-08-07T04:56:02.884208Z",
     "iopub.status.idle": "2024-08-07T04:56:04.681875Z",
     "shell.execute_reply": "2024-08-07T04:56:04.681445Z",
     "shell.execute_reply.started": "2024-08-07T04:56:02.884508Z"
    }
   },
   "outputs": [
    {
     "data": {
      "text/plain": [
       "True"
      ]
     },
     "execution_count": 27,
     "metadata": {},
     "output_type": "execute_result"
    }
   ],
   "source": [
    "index.train(embedding)\n",
    "index.is_trained"
   ]
  },
  {
   "cell_type": "code",
   "execution_count": 28,
   "id": "daa9c84c-62ee-44f6-9262-81269b4a5ae7",
   "metadata": {
    "execution": {
     "iopub.execute_input": "2024-08-07T04:56:04.682706Z",
     "iopub.status.busy": "2024-08-07T04:56:04.682528Z",
     "iopub.status.idle": "2024-08-07T04:56:05.016527Z",
     "shell.execute_reply": "2024-08-07T04:56:05.013708Z",
     "shell.execute_reply.started": "2024-08-07T04:56:04.682690Z"
    }
   },
   "outputs": [
    {
     "data": {
      "text/plain": [
       "40046"
      ]
     },
     "execution_count": 28,
     "metadata": {},
     "output_type": "execute_result"
    }
   ],
   "source": [
    "index.add(embedding)\n",
    "index.ntotal"
   ]
  },
  {
   "cell_type": "code",
   "execution_count": 29,
   "id": "6e59571b-b0c9-4aec-827c-3ebd2c593d44",
   "metadata": {
    "execution": {
     "iopub.execute_input": "2024-08-07T04:56:06.981459Z",
     "iopub.status.busy": "2024-08-07T04:56:06.981185Z",
     "iopub.status.idle": "2024-08-07T04:56:06.986962Z",
     "shell.execute_reply": "2024-08-07T04:56:06.986340Z",
     "shell.execute_reply.started": "2024-08-07T04:56:06.981439Z"
    }
   },
   "outputs": [],
   "source": [
    "query = preprocess_arabic_text(str([\"يساعد على تلبيه الاحتياجات\"]))        "
   ]
  },
  {
   "cell_type": "code",
   "execution_count": 30,
   "id": "45eb14aa-5982-4e91-9a11-b96dfd6be182",
   "metadata": {
    "execution": {
     "iopub.execute_input": "2024-08-07T04:56:07.557826Z",
     "iopub.status.busy": "2024-08-07T04:56:07.557570Z",
     "iopub.status.idle": "2024-08-07T04:56:07.562521Z",
     "shell.execute_reply": "2024-08-07T04:56:07.561957Z",
     "shell.execute_reply.started": "2024-08-07T04:56:07.557806Z"
    }
   },
   "outputs": [
    {
     "data": {
      "text/plain": [
       "'ساعد على لب احتياج'"
      ]
     },
     "execution_count": 30,
     "metadata": {},
     "output_type": "execute_result"
    }
   ],
   "source": [
    "query"
   ]
  },
  {
   "cell_type": "code",
   "execution_count": 31,
   "id": "344d246f-4c5b-4b52-b084-84dfe3d428f1",
   "metadata": {
    "execution": {
     "iopub.execute_input": "2024-08-07T04:56:10.700537Z",
     "iopub.status.busy": "2024-08-07T04:56:10.700144Z",
     "iopub.status.idle": "2024-08-07T04:56:10.737775Z",
     "shell.execute_reply": "2024-08-07T04:56:10.737166Z",
     "shell.execute_reply.started": "2024-08-07T04:56:10.700517Z"
    }
   },
   "outputs": [],
   "source": [
    "k = 10\n",
    "xq = model.encode(query , convert_to_tensor=True).unsqueeze(0).numpy()"
   ]
  },
  {
   "cell_type": "code",
   "execution_count": 32,
   "id": "65417379-076b-4c93-8423-8cd70bae3e18",
   "metadata": {
    "execution": {
     "iopub.execute_input": "2024-08-07T04:56:11.872468Z",
     "iopub.status.busy": "2024-08-07T04:56:11.872074Z",
     "iopub.status.idle": "2024-08-07T04:56:11.876936Z",
     "shell.execute_reply": "2024-08-07T04:56:11.876435Z",
     "shell.execute_reply.started": "2024-08-07T04:56:11.872445Z"
    }
   },
   "outputs": [
    {
     "name": "stdout",
     "output_type": "stream",
     "text": [
      "[[28545 18094 22516 15620 22798 10595 23623 27043 13297   807]]\n",
      "CPU times: user 745 µs, sys: 13 µs, total: 758 µs\n",
      "Wall time: 627 µs\n"
     ]
    }
   ],
   "source": [
    "%%time\n",
    "D, I = index.search(xq, k) \n",
    "print(I)"
   ]
  },
  {
   "cell_type": "code",
   "execution_count": 33,
   "id": "0943fa61-d023-454b-a46f-dc598828a808",
   "metadata": {
    "execution": {
     "iopub.execute_input": "2024-08-07T04:56:12.641644Z",
     "iopub.status.busy": "2024-08-07T04:56:12.641184Z",
     "iopub.status.idle": "2024-08-07T04:56:12.646654Z",
     "shell.execute_reply": "2024-08-07T04:56:12.646103Z",
     "shell.execute_reply.started": "2024-08-07T04:56:12.641624Z"
    }
   },
   "outputs": [
    {
     "data": {
      "text/plain": [
       "['28545: التطبيق إلى قبل افضل',\n",
       " '18094: احب اقولكم تطبيقم مابي خير',\n",
       " '22516: معرفت اطلب ساعدوني',\n",
       " '15620: لانة يساعدني لاكل',\n",
       " '22798: حلووو انصحكم فيه 😍😍',\n",
       " '10595: جميل فعال بنصح بتستعمالو بينجز',\n",
       " '23623: انصحكم تحملو😍😍😍',\n",
       " '27043: انصحكم تحملو',\n",
       " '13297: انصحكم بهذا البرناج',\n",
       " '807: افضل تجربه على الإطلاق']"
      ]
     },
     "execution_count": 33,
     "metadata": {},
     "output_type": "execute_result"
    }
   ],
   "source": [
    "[f'{i}: {text[i]}' for i in I[0]]"
   ]
  },
  {
   "cell_type": "code",
   "execution_count": 34,
   "id": "665b0dc3-4641-4b89-a59d-1f03ebcaf993",
   "metadata": {
    "execution": {
     "iopub.execute_input": "2024-08-07T04:56:14.647947Z",
     "iopub.status.busy": "2024-08-07T04:56:14.647678Z",
     "iopub.status.idle": "2024-08-07T04:56:14.651402Z",
     "shell.execute_reply": "2024-08-07T04:56:14.650804Z",
     "shell.execute_reply.started": "2024-08-07T04:56:14.647927Z"
    }
   },
   "outputs": [],
   "source": [
    "index.nprobe =10000"
   ]
  },
  {
   "cell_type": "markdown",
   "id": "6f8eac51-9df8-479e-abd9-209c248e9f9e",
   "metadata": {},
   "source": [
    "### Setting `nprobe` in FAISS\n",
    "\n",
    "- **Definition**:\n",
    "  - `index.nprobe = 10000` sets the number of clusters (or partitions) to be searched during a query.\n",
    "\n",
    "- **Purpose**:\n",
    "  - **Control Search Scope**: `nprobe` determines how many of the `nlist` clusters are examined during the search. A higher `nprobe` value means more clusters are searched, potentially improving recall but increasing search time.\n",
    "  - **Balance**: Adjusting `nprobe` allows you to balance between search accuracy and performance.\n",
    "\n",
    "\n",
    "**Purpose**: To configure the FAISS index to search a specified number of clusters, optimizing the trade-off between search quality and speed.\n"
   ]
  },
  {
   "cell_type": "code",
   "execution_count": 35,
   "id": "33374362-ff46-48bb-af8a-3e8e720e5817",
   "metadata": {
    "execution": {
     "iopub.execute_input": "2024-08-07T04:56:15.679188Z",
     "iopub.status.busy": "2024-08-07T04:56:15.678872Z",
     "iopub.status.idle": "2024-08-07T04:56:15.690127Z",
     "shell.execute_reply": "2024-08-07T04:56:15.689530Z",
     "shell.execute_reply.started": "2024-08-07T04:56:15.679167Z"
    }
   },
   "outputs": [
    {
     "name": "stdout",
     "output_type": "stream",
     "text": [
      "[[38305 19573 28545 12515 11068 38347 15357 31381 18475 25478]]\n",
      "CPU times: user 6.27 ms, sys: 2.97 ms, total: 9.24 ms\n",
      "Wall time: 6.9 ms\n"
     ]
    }
   ],
   "source": [
    "%%time\n",
    "D, I = index.search(xq, k)  \n",
    "print(I)"
   ]
  },
  {
   "cell_type": "code",
   "execution_count": 36,
   "id": "b141b1f1-f4ca-407a-a4fb-3c87a16e78b9",
   "metadata": {
    "execution": {
     "iopub.execute_input": "2024-08-07T04:56:17.731944Z",
     "iopub.status.busy": "2024-08-07T04:56:17.731674Z",
     "iopub.status.idle": "2024-08-07T04:56:17.736793Z",
     "shell.execute_reply": "2024-08-07T04:56:17.736235Z",
     "shell.execute_reply.started": "2024-08-07T04:56:17.731925Z"
    }
   },
   "outputs": [
    {
     "data": {
      "text/plain": [
       "['38305: يساعدني علي سداد فواتيري',\n",
       " '19573: ساعد أكثر',\n",
       " '28545: التطبيق إلى قبل افضل',\n",
       " '12515: طلبات فقط للامارات',\n",
       " '11068: احب طلبات وايد ويسعدني اذا يوعانه',\n",
       " '38347: Yyy help with the remedy for abroken',\n",
       " '15357: يساعد',\n",
       " '31381: رووووووووووعه الله يعطيكم العافي',\n",
       " '18475: طلبات ساعدني كثيرا احببته',\n",
       " '25478: يعطيكم العافيه عل  مجهودكم الأكثر من رائع']"
      ]
     },
     "execution_count": 36,
     "metadata": {},
     "output_type": "execute_result"
    }
   ],
   "source": [
    "[f'{i}: {text[i]}' for i in I[0]]"
   ]
  },
  {
   "cell_type": "markdown",
   "id": "851c4ef5-0b2b-4b66-aa8c-15708a315077",
   "metadata": {},
   "source": [
    "---"
   ]
  },
  {
   "cell_type": "markdown",
   "id": "9c07bd8e-b09d-4941-a077-62f9b1aee583",
   "metadata": {},
   "source": [
    "## Faiss and TFIDF"
   ]
  },
  {
   "cell_type": "code",
   "execution_count": 37,
   "id": "6b5d20db-2fa9-4e2e-b6b3-3d596b49741d",
   "metadata": {
    "execution": {
     "iopub.execute_input": "2024-08-07T04:56:24.807431Z",
     "iopub.status.busy": "2024-08-07T04:56:24.807070Z",
     "iopub.status.idle": "2024-08-07T04:56:24.811914Z",
     "shell.execute_reply": "2024-08-07T04:56:24.811375Z",
     "shell.execute_reply.started": "2024-08-07T04:56:24.807398Z"
    }
   },
   "outputs": [],
   "source": [
    "def faiss_tfidf(query, k=10):\n",
    "    preprocessed_query = preprocess_arabic_text(query)    \n",
    "    query_embedding = model.encode(preprocessed_query, convert_to_tensor=True).unsqueeze(0).numpy()\n",
    "    \n",
    "    query_tfidf = tfidf_vectorizer.transform([preprocessed_query])\n",
    "    tfidf_similarities = cosine_similarity(query_tfidf, tfidf_matrix)[0]\n",
    "    \n",
    "    index.nprobe = 10000\n",
    "    D, I = index.search(query_embedding, k)\n",
    "    \n",
    "    results = []\n",
    "    for idx in I[0]:\n",
    "        if idx < len(text):\n",
    "            results.append(f'{idx}: {text[idx]}')\n",
    "    \n",
    "    for result in results:\n",
    "        print(result)\n",
    "    \n",
    "    return results"
   ]
  },
  {
   "cell_type": "markdown",
   "id": "34515219-ffd9-42a2-ae4a-51b1058b74fa",
   "metadata": {},
   "source": [
    "### `faiss_tfidf` Function\n",
    "\n",
    "The `faiss_tfidf` function performs a combined semantic and TF-IDF based search to find the most relevant documents for a given query.\n",
    "\n",
    "1. **Preprocess Query**:\n",
    "   - The query is preprocessed using `preprocess_arabic_text` to ensure it is clean and suitable for embedding.\n",
    "\n",
    "2. **Generate Query Embedding**:\n",
    "   - The preprocessed query is converted into an embedding vector using the model, reshaped, and converted to a NumPy array.\n",
    "\n",
    "3. **Compute TF-IDF Similarity**:\n",
    "   - The query is transformed into a TF-IDF vector.\n",
    "   - Cosine similarity is calculated between the query’s TF-IDF vector and the TF-IDF matrix of the documents.\n",
    "\n",
    "4. **Search FAISS Index**:\n",
    "   - `index.nprobe = 10000` sets the number of clusters to be searched in the FAISS index.\n",
    "   - `index.search(query_embedding, k)` performs a search to find the top `k` most similar documents based on the semantic embedding.\n",
    "\n",
    "5. **Format and Display Results**:\n",
    "   - The function collects the results by retrieving the text of the documents corresponding to the indices found.\n",
    "   - Results are printed and returned as a list of formatted strings showing the document index and content.\n",
    "\n",
    "**Purpose**: To retrieve and display the top `k` most relevant documents to the query using both semantic embeddings and TF-IDF similarity, optimizing for accuracy and relevance in the search results.\n"
   ]
  },
  {
   "cell_type": "code",
   "execution_count": 38,
   "id": "49bc7e8d-fa8e-4dd1-8fe5-c82ca5635117",
   "metadata": {
    "execution": {
     "iopub.execute_input": "2024-08-07T04:56:25.687523Z",
     "iopub.status.busy": "2024-08-07T04:56:25.687235Z",
     "iopub.status.idle": "2024-08-07T04:56:25.746413Z",
     "shell.execute_reply": "2024-08-07T04:56:25.745783Z",
     "shell.execute_reply.started": "2024-08-07T04:56:25.687496Z"
    }
   },
   "outputs": [
    {
     "name": "stdout",
     "output_type": "stream",
     "text": [
      "38305: يساعدني علي سداد فواتيري\n",
      "19573: ساعد أكثر\n",
      "28545: التطبيق إلى قبل افضل\n",
      "12515: طلبات فقط للامارات\n",
      "11068: احب طلبات وايد ويسعدني اذا يوعانه\n",
      "38347: Yyy help with the remedy for abroken\n",
      "15357: يساعد\n",
      "31381: رووووووووووعه الله يعطيكم العافي\n",
      "18475: طلبات ساعدني كثيرا احببته\n",
      "25478: يعطيكم العافيه عل  مجهودكم الأكثر من رائع\n"
     ]
    }
   ],
   "source": [
    "query = 'يساعد على تلبيه الاحتياجات'\n",
    "results = faiss_tfidf(query)"
   ]
  },
  {
   "cell_type": "code",
   "execution_count": 39,
   "id": "8bdff7ce-851a-4880-b6e7-b471d86679d0",
   "metadata": {
    "execution": {
     "iopub.execute_input": "2024-08-07T04:56:27.185751Z",
     "iopub.status.busy": "2024-08-07T04:56:27.185124Z",
     "iopub.status.idle": "2024-08-07T04:56:27.191043Z",
     "shell.execute_reply": "2024-08-07T04:56:27.190556Z",
     "shell.execute_reply.started": "2024-08-07T04:56:27.185729Z"
    }
   },
   "outputs": [],
   "source": [
    "def faiss_tfidf(query, k=10, weight_st=.5, weight_tfidf=.8):\n",
    "    preprocessed_query = preprocess_arabic_text(query)    \n",
    "    query_embedding = model.encode(preprocessed_query, convert_to_tensor=True).unsqueeze(0).numpy()\n",
    "    \n",
    "    query_tfidf = tfidf_vectorizer.transform([preprocessed_query])\n",
    "    tfidf_similarities = cosine_similarity(query_tfidf, tfidf_matrix)[0]\n",
    "    \n",
    "    index.nprobe = 10000\n",
    "    D, I = index.search(query_embedding, k)\n",
    "    \n",
    "    results = []\n",
    "    for idx in I[0]:\n",
    "        if idx < len(text):\n",
    "            # FAISS similarity: 1 / (distance + epsilon) to avoid division by zero\n",
    "            faiss_similarity = 1 / (D[0][list(I[0]).index(idx)] + 1e-2)\n",
    "            # TF-IDF similarity\n",
    "            tfidf_similarity = tfidf_similarities[idx]\n",
    "            # Compute weighted score\n",
    "            weighted_score = weight_st * faiss_similarity + weight_tfidf * tfidf_similarity\n",
    "            results.append((weighted_score, idx, text[idx]))\n",
    "    \n",
    "    results.sort(reverse=True, key=lambda x: x[0])\n",
    "    \n",
    "    for score, idx, doc in results:\n",
    "        print(f'Score: {score:.4f} - Index: {idx} - Document: {doc}')\n",
    "    \n",
    "    return results"
   ]
  },
  {
   "cell_type": "markdown",
   "id": "d5a91e9c-8a62-4ad2-b8c9-e8ab54739a1b",
   "metadata": {},
   "source": [
    "### The second `faiss_tfidf` Function\n",
    "\n",
    "The `faiss_tfidf` function performs a hybrid search using both FAISS and TF-IDF methods to retrieve the most relevant documents for a given query.\n",
    "\n",
    "1. **Preprocess Query**:\n",
    "   - The query is preprocessed with `preprocess_arabic_text` to ensure it is clean and ready for embedding.\n",
    "\n",
    "2. **Generate Query Embedding**:\n",
    "   - The preprocessed query is converted into an embedding vector using the model, reshaped, and converted to a NumPy array.\n",
    "\n",
    "3. **Compute TF-IDF Similarity**:\n",
    "   - The query is transformed into a TF-IDF vector.\n",
    "   - Cosine similarity is computed between the query’s TF-IDF vector and the TF-IDF matrix of the documents.\n",
    "\n",
    "4. **Search FAISS Index**:\n",
    "   - `index.nprobe = 10000` specifies the number of clusters to be searched in the FAISS index.\n",
    "   - `index.search(query_embedding, k)` performs the search to find the top `k` most similar documents based on semantic embeddings.\n",
    "\n",
    "5. **Compute Weighted Scores**:\n",
    "   - For each retrieved document:\n",
    "     - **FAISS Similarity**: Calculated as `1 / (distance + epsilon)` to avoid division by zero, where `epsilon` is a small constant.\n",
    "     - **TF-IDF Similarity**: Directly from the computed TF-IDF similarities.\n",
    "     - **Weighted Score**: Combined using specified weights (`weight_st` for FAISS and `weight_tfidf` for TF-IDF).\n",
    "\n",
    "6. **Sort and Display Results**:\n",
    "   - Results are sorted by weighted score in descending order.\n",
    "   - The function prints and returns the results, showing the score, index, and document content.\n",
    "\n",
    "**Purpose**: To find and display the top `k` documents that are most relevant to the query by combining FAISS-based semantic similarity with TF-IDF similarity, using weighted scoring to balance the two methods.\n"
   ]
  },
  {
   "cell_type": "code",
   "execution_count": 40,
   "id": "e91b7af8-171a-481d-b227-589c602e1c47",
   "metadata": {
    "execution": {
     "iopub.execute_input": "2024-08-07T04:56:28.241602Z",
     "iopub.status.busy": "2024-08-07T04:56:28.241312Z",
     "iopub.status.idle": "2024-08-07T04:56:28.303443Z",
     "shell.execute_reply": "2024-08-07T04:56:28.302366Z",
     "shell.execute_reply.started": "2024-08-07T04:56:28.241581Z"
    }
   },
   "outputs": [
    {
     "name": "stdout",
     "output_type": "stream",
     "text": [
      "Score: 0.4029 - Index: 15357 - Document: يساعد\n",
      "Score: 0.3128 - Index: 19573 - Document: ساعد أكثر\n",
      "Score: 0.2412 - Index: 38305 - Document: يساعدني علي سداد فواتيري\n",
      "Score: 0.2091 - Index: 18475 - Document: طلبات ساعدني كثيرا احببته\n",
      "Score: 0.0029 - Index: 28545 - Document: التطبيق إلى قبل افضل\n",
      "Score: 0.0028 - Index: 12515 - Document: طلبات فقط للامارات\n",
      "Score: 0.0027 - Index: 11068 - Document: احب طلبات وايد ويسعدني اذا يوعانه\n",
      "Score: 0.0027 - Index: 38347 - Document: Yyy help with the remedy for abroken\n",
      "Score: 0.0026 - Index: 31381 - Document: رووووووووووعه الله يعطيكم العافي\n",
      "Score: 0.0026 - Index: 25478 - Document: يعطيكم العافيه عل  مجهودكم الأكثر من رائع\n"
     ]
    }
   ],
   "source": [
    "query = 'يساعد على تلبيه الاحتياجات'\n",
    "results = faiss_tfidf(query)"
   ]
  },
  {
   "cell_type": "markdown",
   "id": "7e3c010d-0f14-41ab-9a72-28ad90f04f63",
   "metadata": {},
   "source": [
    "---"
   ]
  },
  {
   "cell_type": "markdown",
   "id": "aa6e7cad-8a6e-470c-8264-a7ac9edd0ee2",
   "metadata": {},
   "source": [
    "## Results Overview"
   ]
  },
  {
   "cell_type": "markdown",
   "id": "13f55bb6-c4a3-413f-a2f7-f47c8d4bb60f",
   "metadata": {},
   "source": [
    "### **Query**: يساعد على تلبيه الاحتياجات"
   ]
  },
  {
   "cell_type": "markdown",
   "id": "f198238b-2750-4393-bd60-d1f92a8bd2e9",
   "metadata": {},
   "source": [
    "#### **Semantic Search**\n",
    "  - يساعدني علي سداد فواتيري\n",
    "  - التطبيق إلى قبل افضل\n",
    "  - ساعد أكثر\n",
    "\n",
    "#### **Hybrid Search**\n",
    "  - برنامج رائع جدا يساعد على تلبيه الاحتياجات بشكل اسرع\n",
    "  - يساعد\n",
    "  - ساعد أكثر\n",
    "\n",
    "#### **First FAISS Search**\n",
    "  - رائع\n",
    "  - برنامج رائع جدا يساعد على تلبيه الاحتياجات بشكل اسرع\n",
    "  - التطبيق لا يغتح دائما بيعطيني لا يوجد اتصال بالشبكة..مع انه النت عندي تمام شو الحل??\n",
    "  - لماذا لا يمكننا طلب من ماكدونالدز؟\n",
    "  - البرنامج بيظهر كل المطاعم و مغلقه مع انها بتكون فاتحه بقاله كده اكتر من شهر\n",
    "  - أصبح غالي جداً\n",
    "  - جميل جدا رائع. . .\n",
    "  - للأسف الواحد ينصدم بعد زيادة الاسعار و للاسف بعض المطاعم اصبحت معاملتهم رديئة\n",
    "  - برنامج توترز توصيل احلى من برنامجكم فاشل\n",
    "  - كتير في تحسن خدمة العملاء لطفين في بعض الاخطاء التقنية لكن بتصلحوها بسرعة وبعض التاخير سياسيتكم وتسويقكم صار افضل من كريم بالنسبة الي متفقين\n",
    "\n",
    "#### **FAISS with nlist**\n",
    "- يساعدني علي سداد فواتيري\n",
    "- ساعد أكثر\n",
    "- التطبيق إلى قبل افضل\n",
    "- طلبات فقط للامارات\n",
    "- احب طلبات وايد ويسعدني اذا يوعانه\n",
    "- Yyy help with the remedy for abroken\n",
    "- يساعد\n",
    "- رووووووووووعه الله يعطيكم العافي\n",
    "- طلبات ساعدني كثيرا احببته\n",
    "- يعطيكم العافيه عل  مجهودكم الأكثر من رائع\n",
    "\n",
    "#### **FAISS with nprobe**\n",
    "- يساعدني علي سداد فواتيري\n",
    "- ساعد أكثر\n",
    "- التطبيق إلى قبل افضل\n",
    "- طلبات فقط للامارات\n",
    "- احب طلبات وايد ويسعدني اذا يوعانه\n",
    "- Yyy help with the remedy for abroken\n",
    "- يساعد\n",
    "- رووووووووووعه الله يعطيكم العافي\n",
    "- طلبات ساعدني كثيرا احببته\n",
    "- يعطيكم العافيه عل  مجهودكم الأكثر من رائع\n",
    "\n",
    "#### **FAISS with TF-IDF**\n",
    "- يساعدني علي سداد فواتيري\n",
    "- ساعد أكثر\n",
    "- التطبيق إلى قبل افضل\n",
    "- طلبات فقط للامارات\n",
    "- احب طلبات وايد ويسعدني اذا يوعانه\n",
    "- Yyy help with the remedy for abroken\n",
    "- يساعد\n",
    "- رووووووووووعه الله يعطيكم العافي\n",
    "- طلبات ساعدني كثيرا احببته\n",
    "- يعطيكم العافيه عل  مجهودكم الأكثر من رائع\n",
    "\n",
    "#### **FAISS with TF-IDF and Weights**\n",
    "- يساعد\n",
    "- ساعد أكثر\n",
    "- يساعدني علي سداد فواتيري\n",
    "- طلبات ساعدني كثيرا احببته\n",
    "- التطبيق إلى قبل افضل\n",
    "- طلبات فقط للامارات\n",
    "- احب طلبات وايد ويسعدني اذا يوعانه\n",
    "- Yyy help with the remedy for abroken\n",
    "- رووووووووووعه الله يعطيكم العافي\n",
    "- يعطيكم العافيه عل  مجهودكم الأكثر من رائع"
   ]
  },
  {
   "cell_type": "markdown",
   "id": "77d6dba2-9ac2-45c1-ab00-dfe6e925f789",
   "metadata": {},
   "source": [
    "- **Best Method**: **FAISS with TF-IDF and Weights** provides the most accurate and relevant results by combining FAISS with TF-IDF and applying weights for better precision.\n",
    "\n",
    "- **Comparison**:\n",
    "  - **FAISS with nlist** and **FAISS with nprobe** offer good relevance but are less fine-tuned.\n",
    "  - **Hybrid Search** balances multiple techniques but may not always be as precise.\n",
    "  - **Semantic Search** focuses on meaning but may miss specific relevance.\n",
    "\n",
    "**FAISS with TF-IDF and Weights** is the most effective method for accurate search results."
   ]
  }
 ],
 "metadata": {
  "kernelspec": {
   "display_name": "Python 3 (ipykernel)",
   "language": "python",
   "name": "python3"
  },
  "language_info": {
   "codemirror_mode": {
    "name": "ipython",
    "version": 3
   },
   "file_extension": ".py",
   "mimetype": "text/x-python",
   "name": "python",
   "nbconvert_exporter": "python",
   "pygments_lexer": "ipython3",
   "version": "3.9.19"
  },
  "widgets": {
   "application/vnd.jupyter.widget-state+json": {
    "state": {},
    "version_major": 2,
    "version_minor": 0
   }
  }
 },
 "nbformat": 4,
 "nbformat_minor": 5
}
